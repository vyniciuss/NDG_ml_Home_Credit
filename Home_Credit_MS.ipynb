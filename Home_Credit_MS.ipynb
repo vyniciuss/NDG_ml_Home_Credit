{
 "cells": [
  {
   "cell_type": "markdown",
   "metadata": {},
   "source": [
    "# PREVENDO O RISCO DE INADIMPLÊNCIA NO CRÉDITO RESIDENCIAL\n",
    "\n",
    "### MODEL SELECTION AND TUNNING\n",
    "\n",
    "#### Udacity - Engenheiro de Machine Learning\n",
    "Vinicius Ferreira Santos - vyniciuss@gmail.com\n",
    "\n",
    "## HOME CREDIT\n",
    "\n",
    "\n",
    "### Importando as bibliotecas"
   ]
  },
  {
   "cell_type": "code",
   "execution_count": 25,
   "metadata": {},
   "outputs": [
    {
     "name": "stdout",
     "output_type": "stream",
     "text": [
      "The autoreload extension is already loaded. To reload it, use:\n",
      "  %reload_ext autoreload\n",
      "Populating the interactive namespace from numpy and matplotlib\n"
     ]
    },
    {
     "name": "stderr",
     "output_type": "stream",
     "text": [
      "C:\\Users\\vynic\\Anaconda3\\envs\\py36\\lib\\site-packages\\IPython\\core\\magics\\pylab.py:160: UserWarning: pylab import has clobbered these variables: ['time']\n",
      "`%matplotlib` prevents importing * from pylab and numpy\n",
      "  \"\\n`%matplotlib` prevents importing * from pylab and numpy\"\n"
     ]
    }
   ],
   "source": [
    "%load_ext autoreload\n",
    "%autoreload 2\n",
    "%matplotlib inline\n",
    "%pylab inline\n",
    "import sys\n",
    "import pickle\n",
    "import warnings\n",
    "import pandas as pd\n",
    "import matplotlib.pyplot as plt\n",
    "import seaborn as sns\n",
    "# ================================================== #\n",
    "#               Classifiers                          #\n",
    "# ================================================== #\n",
    "from sklearn.tree import DecisionTreeClassifier\n",
    "from sklearn.ensemble import RandomForestClassifier, AdaBoostClassifier\n",
    "from sklearn.ensemble import GradientBoostingClassifier\n",
    "from sklearn.naive_bayes import GaussianNB\n",
    "from sklearn.neighbors import KNeighborsClassifier\n",
    "# ================================================== #\n",
    "#               Scaler and feature selection         #\n",
    "# ================================================== #\n",
    "from sklearn.preprocessing import StandardScaler\n",
    "# ================================================== #\n",
    "#               Validation and Test                  #\n",
    "# ================================================== #\n",
    "from sklearn import cross_validation\n",
    "from sklearn.cross_validation import StratifiedShuffleSplit, train_test_split\n",
    "from sklearn.metrics import roc_curve, roc_auc_score\n",
    "# ===================================================#\n",
    "from sklearn.pipeline import Pipeline\n",
    "from sklearn.grid_search import GridSearchCV\n",
    "from sklearn.metrics import accuracy_score\n",
    "from time import time"
   ]
  },
  {
   "cell_type": "markdown",
   "metadata": {},
   "source": [
    "## CARREGANDO OS DADOS"
   ]
  },
  {
   "cell_type": "code",
   "execution_count": 5,
   "metadata": {},
   "outputs": [
    {
     "data": {
      "text/html": [
       "<div>\n",
       "<style scoped>\n",
       "    .dataframe tbody tr th:only-of-type {\n",
       "        vertical-align: middle;\n",
       "    }\n",
       "\n",
       "    .dataframe tbody tr th {\n",
       "        vertical-align: top;\n",
       "    }\n",
       "\n",
       "    .dataframe thead th {\n",
       "        text-align: right;\n",
       "    }\n",
       "</style>\n",
       "<table border=\"1\" class=\"dataframe\">\n",
       "  <thead>\n",
       "    <tr style=\"text-align: right;\">\n",
       "      <th></th>\n",
       "      <th>CNT_CHILDREN</th>\n",
       "      <th>AMT_INCOME_TOTAL</th>\n",
       "      <th>AMT_CREDIT</th>\n",
       "      <th>AMT_ANNUITY</th>\n",
       "      <th>AMT_GOODS_PRICE</th>\n",
       "      <th>REGION_POPULATION_RELATIVE</th>\n",
       "      <th>DAYS_BIRTH</th>\n",
       "      <th>DAYS_EMPLOYED</th>\n",
       "      <th>DAYS_REGISTRATION</th>\n",
       "      <th>DAYS_ID_PUBLISH</th>\n",
       "      <th>...</th>\n",
       "      <th>ORGANIZATION_TYPE_Trade: type 7</th>\n",
       "      <th>ORGANIZATION_TYPE_Transport: type 1</th>\n",
       "      <th>ORGANIZATION_TYPE_Transport: type 2</th>\n",
       "      <th>ORGANIZATION_TYPE_Transport: type 3</th>\n",
       "      <th>ORGANIZATION_TYPE_Transport: type 4</th>\n",
       "      <th>ORGANIZATION_TYPE_University</th>\n",
       "      <th>ORGANIZATION_TYPE_XNA</th>\n",
       "      <th>EMERGENCYSTATE_MODE_No</th>\n",
       "      <th>EMERGENCYSTATE_MODE_Yes</th>\n",
       "      <th>EMERGENCYSTATE_MODE_nan</th>\n",
       "    </tr>\n",
       "  </thead>\n",
       "  <tbody>\n",
       "    <tr>\n",
       "      <th>0</th>\n",
       "      <td>-0.583687</td>\n",
       "      <td>0.783762</td>\n",
       "      <td>-0.464117</td>\n",
       "      <td>-0.098525</td>\n",
       "      <td>-0.47329</td>\n",
       "      <td>-0.055568</td>\n",
       "      <td>1.50688</td>\n",
       "      <td>0.894907</td>\n",
       "      <td>0.377004</td>\n",
       "      <td>0.579154</td>\n",
       "      <td>...</td>\n",
       "      <td>0.0</td>\n",
       "      <td>0.0</td>\n",
       "      <td>0.0</td>\n",
       "      <td>0.0</td>\n",
       "      <td>0.0</td>\n",
       "      <td>0.0</td>\n",
       "      <td>0.0</td>\n",
       "      <td>1.0</td>\n",
       "      <td>0.0</td>\n",
       "      <td>0.0</td>\n",
       "    </tr>\n",
       "  </tbody>\n",
       "</table>\n",
       "<p>1 rows × 257 columns</p>\n",
       "</div>"
      ],
      "text/plain": [
       "   CNT_CHILDREN  AMT_INCOME_TOTAL  AMT_CREDIT  AMT_ANNUITY  AMT_GOODS_PRICE  \\\n",
       "0     -0.583687          0.783762   -0.464117    -0.098525         -0.47329   \n",
       "\n",
       "   REGION_POPULATION_RELATIVE  DAYS_BIRTH  DAYS_EMPLOYED  DAYS_REGISTRATION  \\\n",
       "0                   -0.055568     1.50688       0.894907           0.377004   \n",
       "\n",
       "   DAYS_ID_PUBLISH           ...             ORGANIZATION_TYPE_Trade: type 7  \\\n",
       "0         0.579154           ...                                         0.0   \n",
       "\n",
       "   ORGANIZATION_TYPE_Transport: type 1  ORGANIZATION_TYPE_Transport: type 2  \\\n",
       "0                                  0.0                                  0.0   \n",
       "\n",
       "   ORGANIZATION_TYPE_Transport: type 3  ORGANIZATION_TYPE_Transport: type 4  \\\n",
       "0                                  0.0                                  0.0   \n",
       "\n",
       "   ORGANIZATION_TYPE_University  ORGANIZATION_TYPE_XNA  \\\n",
       "0                           0.0                    0.0   \n",
       "\n",
       "   EMERGENCYSTATE_MODE_No  EMERGENCYSTATE_MODE_Yes  EMERGENCYSTATE_MODE_nan  \n",
       "0                     1.0                      0.0                      0.0  \n",
       "\n",
       "[1 rows x 257 columns]"
      ]
     },
     "metadata": {},
     "output_type": "display_data"
    },
    {
     "data": {
      "text/html": [
       "<div>\n",
       "<style scoped>\n",
       "    .dataframe tbody tr th:only-of-type {\n",
       "        vertical-align: middle;\n",
       "    }\n",
       "\n",
       "    .dataframe tbody tr th {\n",
       "        vertical-align: top;\n",
       "    }\n",
       "\n",
       "    .dataframe thead th {\n",
       "        text-align: right;\n",
       "    }\n",
       "</style>\n",
       "<table border=\"1\" class=\"dataframe\">\n",
       "  <thead>\n",
       "    <tr style=\"text-align: right;\">\n",
       "      <th></th>\n",
       "      <th>CNT_CHILDREN</th>\n",
       "      <th>AMT_INCOME_TOTAL</th>\n",
       "      <th>AMT_CREDIT</th>\n",
       "      <th>AMT_ANNUITY</th>\n",
       "      <th>AMT_GOODS_PRICE</th>\n",
       "      <th>REGION_POPULATION_RELATIVE</th>\n",
       "      <th>DAYS_BIRTH</th>\n",
       "      <th>DAYS_EMPLOYED</th>\n",
       "      <th>DAYS_REGISTRATION</th>\n",
       "      <th>DAYS_ID_PUBLISH</th>\n",
       "      <th>...</th>\n",
       "      <th>ORGANIZATION_TYPE_Trade: type 7</th>\n",
       "      <th>ORGANIZATION_TYPE_Transport: type 1</th>\n",
       "      <th>ORGANIZATION_TYPE_Transport: type 2</th>\n",
       "      <th>ORGANIZATION_TYPE_Transport: type 3</th>\n",
       "      <th>ORGANIZATION_TYPE_Transport: type 4</th>\n",
       "      <th>ORGANIZATION_TYPE_University</th>\n",
       "      <th>ORGANIZATION_TYPE_XNA</th>\n",
       "      <th>EMERGENCYSTATE_MODE_No</th>\n",
       "      <th>EMERGENCYSTATE_MODE_Yes</th>\n",
       "      <th>EMERGENCYSTATE_MODE_nan</th>\n",
       "    </tr>\n",
       "  </thead>\n",
       "  <tbody>\n",
       "    <tr>\n",
       "      <th>0</th>\n",
       "      <td>-0.559988</td>\n",
       "      <td>-0.427809</td>\n",
       "      <td>0.142475</td>\n",
       "      <td>-0.553522</td>\n",
       "      <td>-0.037477</td>\n",
       "      <td>-0.164654</td>\n",
       "      <td>-0.733477</td>\n",
       "      <td>-0.483656</td>\n",
       "      <td>-0.056958</td>\n",
       "      <td>1.427241</td>\n",
       "      <td>...</td>\n",
       "      <td>0.0</td>\n",
       "      <td>0.0</td>\n",
       "      <td>0.0</td>\n",
       "      <td>0.0</td>\n",
       "      <td>0.0</td>\n",
       "      <td>0.0</td>\n",
       "      <td>0.0</td>\n",
       "      <td>1.0</td>\n",
       "      <td>0.0</td>\n",
       "      <td>0.0</td>\n",
       "    </tr>\n",
       "  </tbody>\n",
       "</table>\n",
       "<p>1 rows × 257 columns</p>\n",
       "</div>"
      ],
      "text/plain": [
       "   CNT_CHILDREN  AMT_INCOME_TOTAL  AMT_CREDIT  AMT_ANNUITY  AMT_GOODS_PRICE  \\\n",
       "0     -0.559988         -0.427809    0.142475    -0.553522        -0.037477   \n",
       "\n",
       "   REGION_POPULATION_RELATIVE  DAYS_BIRTH  DAYS_EMPLOYED  DAYS_REGISTRATION  \\\n",
       "0                   -0.164654   -0.733477      -0.483656          -0.056958   \n",
       "\n",
       "   DAYS_ID_PUBLISH           ...             ORGANIZATION_TYPE_Trade: type 7  \\\n",
       "0         1.427241           ...                                         0.0   \n",
       "\n",
       "   ORGANIZATION_TYPE_Transport: type 1  ORGANIZATION_TYPE_Transport: type 2  \\\n",
       "0                                  0.0                                  0.0   \n",
       "\n",
       "   ORGANIZATION_TYPE_Transport: type 3  ORGANIZATION_TYPE_Transport: type 4  \\\n",
       "0                                  0.0                                  0.0   \n",
       "\n",
       "   ORGANIZATION_TYPE_University  ORGANIZATION_TYPE_XNA  \\\n",
       "0                           0.0                    0.0   \n",
       "\n",
       "   EMERGENCYSTATE_MODE_No  EMERGENCYSTATE_MODE_Yes  EMERGENCYSTATE_MODE_nan  \n",
       "0                     1.0                      0.0                      0.0  \n",
       "\n",
       "[1 rows x 257 columns]"
      ]
     },
     "metadata": {},
     "output_type": "display_data"
    }
   ],
   "source": [
    "#carregando os dados de treinamento\n",
    "data_train = pd.read_csv(\"data/application_train_new.csv\")\n",
    "train_ids = data_train['SK_ID_CURR']\n",
    "train_labels = data_train['TARGET']\n",
    "features_train = data_train.drop(columns = ['SK_ID_CURR', 'TARGET', 'Unnamed: 0'])\n",
    "#carregando os dados de teste\n",
    "data_test = pd.read_csv(\"data/application_test_new.csv\")\n",
    "test_ids = data_test['SK_ID_CURR']\n",
    "features_test = data_test.drop(columns = ['SK_ID_CURR', 'Unnamed: 0'])\n",
    "\n",
    "\n",
    "# Sucesso - Exibindo o primeiro registro treino\n",
    "display(features_train.head(n=1))\n",
    "\n",
    "# Sucesso - Exibindo o primeiro registro teste\n",
    "display(features_test.head(n=1))"
   ]
  },
  {
   "cell_type": "markdown",
   "metadata": {},
   "source": [
    "### Separando em dados treino e teste"
   ]
  },
  {
   "cell_type": "code",
   "execution_count": 6,
   "metadata": {},
   "outputs": [],
   "source": [
    "x_train, x_test, y_train, y_test = train_test_split(features_train, train_labels,\n",
    "                                                    test_size=0.2,\n",
    "                                                    random_state=42,\n",
    "                                                    stratify=train_labels)"
   ]
  },
  {
   "cell_type": "markdown",
   "metadata": {},
   "source": [
    "## Escolha e Afinamento de um Modelo\n",
    "\n",
    "### Treinar uma variedade de classificadores\n",
    "\n",
    "Como estou com um problema de natureza superviosionada, usarei os seguintes algorítmos:\n",
    "\n",
    "- RandonForest: **Obs: randonForest foi utilizada na engenharia de features e obteve um score de 70%**\n",
    "- Adaboost\n",
    "- gaussian_nb\n",
    "- Gradient boosting"
   ]
  },
  {
   "cell_type": "code",
   "execution_count": 8,
   "metadata": {},
   "outputs": [],
   "source": [
    "classifiers = ['adaboost', 'gaussian_nb', 'gradiend_boosting']"
   ]
  },
  {
   "cell_type": "markdown",
   "metadata": {},
   "source": [
    "### GaussianNB()"
   ]
  },
  {
   "cell_type": "code",
   "execution_count": 43,
   "metadata": {},
   "outputs": [
    {
     "name": "stdout",
     "output_type": "stream",
     "text": [
      "Tempo de ajuste Adabo+ost: 2.272 s\n"
     ]
    },
    {
     "data": {
      "image/png": "[encoded data removed]",
      "text/plain": [
       "<Figure size 432x288 with 1 Axes>"
      ]
     },
     "metadata": {
      "needs_background": "light"
     },
     "output_type": "display_data"
    },
    {
     "name": "stdout",
     "output_type": "stream",
     "text": [
      "Score Roc: 63.633%\n"
     ]
    }
   ],
   "source": [
    "classifier = GaussianNB()\n",
    "t0 = time()\n",
    "classifier.fit(x_train, y_train)\n",
    "print(\"Tempo de ajuste Adabo+ost:\", round(time()-t0, 3), \"s\")\n",
    "y_probas = classifier.predict_proba(x_test)\n",
    "y_scores = y_probas[:, 1] \n",
    "draw_roc_score(y_scores, y_test)"
   ]
  },
  {
   "cell_type": "markdown",
   "metadata": {},
   "source": [
    "### Adaboost"
   ]
  },
  {
   "cell_type": "code",
   "execution_count": 44,
   "metadata": {},
   "outputs": [
    {
     "name": "stdout",
     "output_type": "stream",
     "text": [
      "Tempo de ajuste Adabo+ost: 72.778 s\n"
     ]
    },
    {
     "data": {
      "image/png": "[encoded data removed]",
      "text/plain": [
       "<Figure size 432x288 with 1 Axes>"
      ]
     },
     "metadata": {
      "needs_background": "light"
     },
     "output_type": "display_data"
    },
    {
     "name": "stdout",
     "output_type": "stream",
     "text": [
      "Score Roc: 74.571%\n"
     ]
    }
   ],
   "source": [
    "classifier = AdaBoostClassifier()\n",
    "t0 = time()\n",
    "classifier.fit(x_train, y_train)\n",
    "print(\"Tempo de ajuste Adabo+ost:\", round(time()-t0, 3), \"s\")\n",
    "y_probas = classifier.predict_proba(x_test)\n",
    "y_scores = y_probas[:, 1] \n",
    "draw_roc_score(y_scores, y_test)"
   ]
  },
  {
   "cell_type": "markdown",
   "metadata": {},
   "source": [
    "### Gradient Boosting"
   ]
  },
  {
   "cell_type": "code",
   "execution_count": 45,
   "metadata": {},
   "outputs": [
    {
     "name": "stdout",
     "output_type": "stream",
     "text": [
      "done in 294.199s\n"
     ]
    },
    {
     "data": {
      "image/png": "[encoded data removed]",
      "text/plain": [
       "<Figure size 432x288 with 1 Axes>"
      ]
     },
     "metadata": {
      "needs_background": "light"
     },
     "output_type": "display_data"
    },
    {
     "name": "stdout",
     "output_type": "stream",
     "text": [
      "Score Roc: 75.278%\n"
     ]
    }
   ],
   "source": [
    "t0 = time()\n",
    "classifier = GradientBoostingClassifier()\n",
    "classifier.fit(x_train, y_train)\n",
    "print(\"done in %0.3fs\" % (time() - t0))\n",
    "y_probas = classifier.predict_proba(x_test)\n",
    "y_scores = y_probas[:, 1] \n",
    "draw_roc_score(y_scores, y_test)"
   ]
  },
  {
   "cell_type": "code",
   "execution_count": 42,
   "metadata": {},
   "outputs": [],
   "source": [
    "def draw_roc_score(y_scores, y_test):\n",
    "    fpr1, tpr1, thresholds = roc_curve(y_test, y_scores)\n",
    "    plt.plot(fpr1, tpr1, linewidth=1.5, label=None)\n",
    "    plt.plot([0, 1], [0, 1], 'k--')\n",
    "    plt.axis([0, 1, 0, 1])\n",
    "    plt.xlabel('Taxa de Falso Positivo')\n",
    "    plt.ylabel('Taxa de Verdadeiro Positivo')\n",
    "    plt.show()\n",
    "\n",
    "    print(\"Score Roc: {}%\".format(np.round(roc_auc_score(y_test, y_scores)*100, 3)))"
   ]
  },
  {
   "cell_type": "markdown",
   "metadata": {},
   "source": [
    "### Modelo Selecionado e Tuning\n",
    "\n",
    "Como pudemos ver na seção anterior, o Gradient Boosting obteve o melhor desempenho utilizando uma instância padrão do classificador, ou seja, sem realizar qualquer ajuste nos seus hiperparâmetros. O proximo passo é identificar o melhor ajuste dos hiperparâmetros para o modelo selecionado, mas aproveitarei a oportunidade para realizar alguns testes nos hiperparâmetros dos outros modelos utilizados para fins de análise. "
   ]
  },
  {
   "cell_type": "code",
   "execution_count": 5,
   "metadata": {},
   "outputs": [],
   "source": [
    "def get_classifier_and_param_grid(classifier):\n",
    "    \"\"\"Devolve o classificador informado e seu param_grid definido.\n",
    "    \n",
    "    Responsável por retornar uma instância do classificador\n",
    "    especificado e seus parâmetros definidos.\n",
    "    \n",
    "    Classificadores definidos: adaboost, random_forest e decision_tree.\n",
    "    \n",
    "    Args: \n",
    "        classifier: nome do classificador desejado.\n",
    "        \n",
    "    Returns:\n",
    "        return 1: GaussianNB()\n",
    "        return 2: param_grid\n",
    "    \n",
    "    \"\"\"\n",
    "    return {\n",
    "        'adaboost': get_adaboost(),\n",
    "        'random_forest': get_random_forest_classifier(),\n",
    "        'decision_tree': get_decision_tree_classifier(),\n",
    "        'gaussian': get_gaussian_classifier(),\n",
    "        'knn': get_knn_classifier()\n",
    "    }.get(classifier)\n",
    "\n",
    "def get_adaboost():\n",
    "    \"\"\"Devolve uma instância do Adaboost e o param_grid definido.\n",
    "    \n",
    "    Returns:\n",
    "        return 1: AdaBoostClassifier()\n",
    "        return 2: param_grid\n",
    "    \n",
    "    \"\"\"\n",
    "    decision_tree = []\n",
    "    for index in range(1, 5):\n",
    "        decision_tree.append(DecisionTreeClassifier(max_depth=(index), \n",
    "                                                    class_weight='balanced',\n",
    "                                                    min_samples_leaf=2))\n",
    "    param_grid = {\"adaboost__base_estimator\": decision_tree,\n",
    "                  \"adaboost__n_estimators\": [50],\n",
    "                  \"adaboost__learning_rate\": [0.8]\n",
    "                  }    \n",
    "    \n",
    "    return AdaBoostClassifier(), param_grid\n",
    "\n",
    "def get_random_forest_classifier():\n",
    "    \"\"\"Devolve uma instância da RandomForestClassifier e o param_grid definido.\n",
    "    \n",
    "    Returns:\n",
    "        return 1: RandomForestClassifier()\n",
    "        return 2: param_grid\n",
    "    \n",
    "    \"\"\"\n",
    "    param_grid = {\"random_forest__max_depth\": [3, None],\n",
    "                  \"random_forest__max_features\": range(1, 5),\n",
    "                  \"random_forest__min_samples_split\": [2, 4]\n",
    "                  }\n",
    "    \n",
    "    return RandomForestClassifier(), param_grid\n",
    "\n",
    "def get_decision_tree_classifier():\n",
    "    \"\"\"Devolve uma instância da DecisionTreeClassifier e o param_grid definido.\n",
    "    \n",
    "    Returns:\n",
    "        return 1: DecisionTreeClassifier()\n",
    "        return 2: param_grid\n",
    "    \n",
    "    \"\"\"\n",
    "    param_grid = {\"decision_tree__max_depth\": range(1, 5),\n",
    "                  \"decision_tree__min_samples_leaf\": range(1, 5),\n",
    "                  \"decision_tree__min_samples_split\": range(2, 5)\n",
    "                  }\n",
    "        \n",
    "    return DecisionTreeClassifier(), param_grid\n",
    "\n",
    "def get_gaussian_classifier():\n",
    "    \"\"\"Devolve uma instância do GaussianNB e o param_grid definido.\n",
    "    \n",
    "    Returns:\n",
    "        return 1: GaussianNB()\n",
    "        return 2: param_grid\n",
    "    \n",
    "    \"\"\"\n",
    "    param_grid = {\"gaussian__priors\": [None]}\n",
    "        \n",
    "    return GaussianNB(), param_grid\n",
    "\n",
    "def get_knn_classifier():\n",
    "    \"\"\"Devolve uma instância do KNeighborsClassifier e o param_grid definido.\n",
    "    \n",
    "    Returns:\n",
    "        return 1: KNeighborsClassifier()\n",
    "        return 2: param_grid\n",
    "    \n",
    "    \"\"\"\n",
    "    param_grid = {\n",
    "                  \"knn__algorithm\": ('auto', 'ball_tree', 'kd_tree', 'brute'),\n",
    "                  \"knn__leaf_size\": range(1, 6),\n",
    "                  \"knn__n_neighbors\": range(1, 6)\n",
    "                 }\n",
    "        \n",
    "    return KNeighborsClassifier(), param_grid"
   ]
  },
  {
   "cell_type": "code",
   "execution_count": 7,
   "metadata": {},
   "outputs": [],
   "source": [
    "def build_pipeline(labels, features, classifier_name):\n",
    "    \"\"\" Constrói uma pipeline com GridSearchCV.\n",
    "    \n",
    "    Constrói uma pipeline a fim de obter o melhor ajuste \n",
    "    para o classificador informado.\n",
    "    \n",
    "    Args: \n",
    "        labels: labels de treinamento\n",
    "        features: features de treinamento\n",
    "        classifier_name: nome do classificador.\n",
    "        \n",
    "    Returns:\n",
    "        GridSearchCV com as informações da melhor configuração.\n",
    "    \n",
    "    \"\"\"\n",
    "    \n",
    "    classifier, param_grid = get_classifier_and_param_grid(classifier_name)\n",
    "    \n",
    "    pipeline  = Pipeline([\n",
    "                         ('std_scaler',  StandardScaler()),\n",
    "                         ('reduce_dim', PCA()),\n",
    "                         (classifier_name, classifier),\n",
    "                        ])\n",
    "\n",
    "    grid_search = GridSearchCV(pipeline, param_grid, scoring = 'roc_auc', cv = 5)\n",
    "\n",
    "    grid_search.fit(features, labels)\n",
    "\n",
    "    return grid_search"
   ]
  },
  {
   "cell_type": "code",
   "execution_count": 6,
   "metadata": {},
   "outputs": [],
   "source": [
    "def performance_classifiers(classifiers_names):\n",
    "    \"\"\" Constrói um dicionário com o melhor ajuste para cada classificador.\n",
    "    \n",
    "    Responsável por construir um dicionário com todos os classificadores\n",
    "    informados como chave e os melhores ajustes encontrado no GridSearch\n",
    "    como valor.\n",
    "    \n",
    "    Args:\n",
    "        classifiers_names: lista com os nomes dos classificadores.\n",
    "        \n",
    "    Returns:\n",
    "        Dicionário com o nome do classificador como key e o melhor\n",
    "        ajuste como valor\n",
    "    \n",
    "    \"\"\"\n",
    "    performance_clasifiers = {}\n",
    "    for name in classifiers_names:\n",
    "        performance_clasifiers[name] = build_pipeline(labels_train, features_train, name)\n",
    "    return performance_clasifiers"
   ]
  },
  {
   "cell_type": "code",
   "execution_count": null,
   "metadata": {},
   "outputs": [],
   "source": []
  }
 ],
 "metadata": {
  "kernelspec": {
   "display_name": "Python 3",
   "language": "python",
   "name": "python3"
  },
  "language_info": {
   "codemirror_mode": {
    "name": "ipython",
    "version": 3
   },
   "file_extension": ".py",
   "mimetype": "text/x-python",
   "name": "python",
   "nbconvert_exporter": "python",
   "pygments_lexer": "ipython3",
   "version": "3.6.6"
  }
 },
 "nbformat": 4,
 "nbformat_minor": 2
}
