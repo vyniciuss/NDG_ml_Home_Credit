{
 "cells": [
  {
   "cell_type": "markdown",
   "metadata": {},
   "source": [
    "# PREVENDO O RISCO DE INADIMPLÊNCIA NO CRÉDITO RESIDENCIAL\n",
    "\n",
    "### MODEL SELECTION AND TUNNING\n",
    "\n",
    "#### Udacity - Engenheiro de Machine Learning\n",
    "Vinicius Ferreira Santos - vyniciuss@gmail.com\n",
    "\n",
    "## HOME CREDIT\n",
    "\n",
    "\n",
    "### Importando as bibliotecas"
   ]
  },
  {
   "cell_type": "code",
   "execution_count": 46,
   "metadata": {},
   "outputs": [
    {
     "name": "stdout",
     "output_type": "stream",
     "text": [
      "The autoreload extension is already loaded. To reload it, use:\n",
      "  %reload_ext autoreload\n",
      "Populating the interactive namespace from numpy and matplotlib\n"
     ]
    },
    {
     "name": "stderr",
     "output_type": "stream",
     "text": [
      "C:\\Users\\vynic\\Anaconda3\\envs\\py36\\lib\\site-packages\\IPython\\core\\magics\\pylab.py:160: UserWarning: pylab import has clobbered these variables: ['time']\n",
      "`%matplotlib` prevents importing * from pylab and numpy\n",
      "  \"\\n`%matplotlib` prevents importing * from pylab and numpy\"\n"
     ]
    }
   ],
   "source": [
    "%load_ext autoreload\n",
    "%autoreload 2\n",
    "%matplotlib inline\n",
    "%pylab inline\n",
    "import sys\n",
    "import pickle\n",
    "import warnings\n",
    "import pandas as pd\n",
    "import matplotlib.pyplot as plt\n",
    "import seaborn as sns\n",
    "# ================================================== #\n",
    "#               Classifiers                          #\n",
    "# ================================================== #\n",
    "from sklearn.ensemble import GradientBoostingClassifier, AdaBoostClassifier\n",
    "# ================================================== #\n",
    "#               Validation and Test                  #\n",
    "# ================================================== #\n",
    "from sklearn.metrics import roc_curve, roc_auc_score, accuracy_score\n",
    "from sklearn import cross_validation\n",
    "# ===================================================#\n",
    "from sklearn.pipeline import Pipeline\n",
    "from sklearn.grid_search import GridSearchCV\n",
    "from time import time"
   ]
  },
  {
   "cell_type": "markdown",
   "metadata": {},
   "source": [
    "## CARREGANDO OS DADOS"
   ]
  },
  {
   "cell_type": "code",
   "execution_count": 8,
   "metadata": {},
   "outputs": [
    {
     "data": {
      "text/html": [
       "<div>\n",
       "<style scoped>\n",
       "    .dataframe tbody tr th:only-of-type {\n",
       "        vertical-align: middle;\n",
       "    }\n",
       "\n",
       "    .dataframe tbody tr th {\n",
       "        vertical-align: top;\n",
       "    }\n",
       "\n",
       "    .dataframe thead th {\n",
       "        text-align: right;\n",
       "    }\n",
       "</style>\n",
       "<table border=\"1\" class=\"dataframe\">\n",
       "  <thead>\n",
       "    <tr style=\"text-align: right;\">\n",
       "      <th></th>\n",
       "      <th>Unnamed: 0</th>\n",
       "      <th>CNT_CHILDREN</th>\n",
       "      <th>AMT_INCOME_TOTAL</th>\n",
       "      <th>AMT_CREDIT</th>\n",
       "      <th>AMT_ANNUITY</th>\n",
       "      <th>AMT_GOODS_PRICE</th>\n",
       "      <th>REGION_POPULATION_RELATIVE</th>\n",
       "      <th>DAYS_BIRTH</th>\n",
       "      <th>DAYS_EMPLOYED</th>\n",
       "      <th>DAYS_REGISTRATION</th>\n",
       "      <th>...</th>\n",
       "      <th>ORGANIZATION_TYPE_Transport: type 2</th>\n",
       "      <th>ORGANIZATION_TYPE_Transport: type 3</th>\n",
       "      <th>ORGANIZATION_TYPE_Transport: type 4</th>\n",
       "      <th>ORGANIZATION_TYPE_University</th>\n",
       "      <th>ORGANIZATION_TYPE_XNA</th>\n",
       "      <th>EMERGENCYSTATE_MODE_No</th>\n",
       "      <th>EMERGENCYSTATE_MODE_Yes</th>\n",
       "      <th>EMERGENCYSTATE_MODE_nan</th>\n",
       "      <th>SK_ID_CURR</th>\n",
       "      <th>TARGET</th>\n",
       "    </tr>\n",
       "  </thead>\n",
       "  <tbody>\n",
       "    <tr>\n",
       "      <th>0</th>\n",
       "      <td>0</td>\n",
       "      <td>-0.583687</td>\n",
       "      <td>0.783762</td>\n",
       "      <td>-0.464117</td>\n",
       "      <td>-0.098525</td>\n",
       "      <td>-0.47329</td>\n",
       "      <td>-0.055568</td>\n",
       "      <td>1.50688</td>\n",
       "      <td>0.894907</td>\n",
       "      <td>0.377004</td>\n",
       "      <td>...</td>\n",
       "      <td>0.0</td>\n",
       "      <td>0.0</td>\n",
       "      <td>0.0</td>\n",
       "      <td>0.0</td>\n",
       "      <td>0.0</td>\n",
       "      <td>1.0</td>\n",
       "      <td>0.0</td>\n",
       "      <td>0.0</td>\n",
       "      <td>100002</td>\n",
       "      <td>1</td>\n",
       "    </tr>\n",
       "  </tbody>\n",
       "</table>\n",
       "<p>1 rows × 260 columns</p>\n",
       "</div>"
      ],
      "text/plain": [
       "   Unnamed: 0  CNT_CHILDREN  AMT_INCOME_TOTAL  AMT_CREDIT  AMT_ANNUITY  \\\n",
       "0           0     -0.583687          0.783762   -0.464117    -0.098525   \n",
       "\n",
       "   AMT_GOODS_PRICE  REGION_POPULATION_RELATIVE  DAYS_BIRTH  DAYS_EMPLOYED  \\\n",
       "0         -0.47329                   -0.055568     1.50688       0.894907   \n",
       "\n",
       "   DAYS_REGISTRATION   ...    ORGANIZATION_TYPE_Transport: type 2  \\\n",
       "0           0.377004   ...                                    0.0   \n",
       "\n",
       "   ORGANIZATION_TYPE_Transport: type 3  ORGANIZATION_TYPE_Transport: type 4  \\\n",
       "0                                  0.0                                  0.0   \n",
       "\n",
       "   ORGANIZATION_TYPE_University  ORGANIZATION_TYPE_XNA  \\\n",
       "0                           0.0                    0.0   \n",
       "\n",
       "   EMERGENCYSTATE_MODE_No  EMERGENCYSTATE_MODE_Yes  EMERGENCYSTATE_MODE_nan  \\\n",
       "0                     1.0                      0.0                      0.0   \n",
       "\n",
       "   SK_ID_CURR  TARGET  \n",
       "0      100002       1  \n",
       "\n",
       "[1 rows x 260 columns]"
      ]
     },
     "metadata": {},
     "output_type": "display_data"
    }
   ],
   "source": [
    "#carregando os dados de treinamento\n",
    "data_train = pd.read_csv(\"data/application_train_new.csv\")\n",
    "\n",
    "display(data_train.head(n=1))\n"
   ]
  },
  {
   "cell_type": "markdown",
   "metadata": {},
   "source": [
    "**Tunning** é o processo de buscar os melhores hiperparâmetros para um determinado estimador. Para facilitar o trabalho, tal processo será executado com o auxílio do GridSearchCV que, como descrito na documentação do sklearn, realiza uma busca exaustiva sobre valores de parâmetros especificados para um estimador. Como podemos perceber, esse é um processo caro e lento de se realizar com computadores pessoais se a massa de dados for muito grande. Dessa forma, irei separar uma amostra de 16 mil linhas, onde 10 mil será para treino e 6 mil para teste, afim de facilitar o processo.\n"
   ]
  },
  {
   "cell_type": "code",
   "execution_count": 48,
   "metadata": {},
   "outputs": [
    {
     "data": {
      "text/html": [
       "<div>\n",
       "<style scoped>\n",
       "    .dataframe tbody tr th:only-of-type {\n",
       "        vertical-align: middle;\n",
       "    }\n",
       "\n",
       "    .dataframe tbody tr th {\n",
       "        vertical-align: top;\n",
       "    }\n",
       "\n",
       "    .dataframe thead th {\n",
       "        text-align: right;\n",
       "    }\n",
       "</style>\n",
       "<table border=\"1\" class=\"dataframe\">\n",
       "  <thead>\n",
       "    <tr style=\"text-align: right;\">\n",
       "      <th></th>\n",
       "      <th>CNT_CHILDREN</th>\n",
       "      <th>AMT_INCOME_TOTAL</th>\n",
       "      <th>AMT_CREDIT</th>\n",
       "      <th>AMT_ANNUITY</th>\n",
       "      <th>AMT_GOODS_PRICE</th>\n",
       "      <th>REGION_POPULATION_RELATIVE</th>\n",
       "      <th>DAYS_BIRTH</th>\n",
       "      <th>DAYS_EMPLOYED</th>\n",
       "      <th>DAYS_REGISTRATION</th>\n",
       "      <th>DAYS_ID_PUBLISH</th>\n",
       "      <th>...</th>\n",
       "      <th>ORGANIZATION_TYPE_Trade: type 7</th>\n",
       "      <th>ORGANIZATION_TYPE_Transport: type 1</th>\n",
       "      <th>ORGANIZATION_TYPE_Transport: type 2</th>\n",
       "      <th>ORGANIZATION_TYPE_Transport: type 3</th>\n",
       "      <th>ORGANIZATION_TYPE_Transport: type 4</th>\n",
       "      <th>ORGANIZATION_TYPE_University</th>\n",
       "      <th>ORGANIZATION_TYPE_XNA</th>\n",
       "      <th>EMERGENCYSTATE_MODE_No</th>\n",
       "      <th>EMERGENCYSTATE_MODE_Yes</th>\n",
       "      <th>EMERGENCYSTATE_MODE_nan</th>\n",
       "    </tr>\n",
       "  </thead>\n",
       "  <tbody>\n",
       "    <tr>\n",
       "      <th>245895</th>\n",
       "      <td>2.548310</td>\n",
       "      <td>0.855572</td>\n",
       "      <td>-0.295497</td>\n",
       "      <td>2.214159</td>\n",
       "      <td>-0.235201</td>\n",
       "      <td>-0.905926</td>\n",
       "      <td>0.627866</td>\n",
       "      <td>0.800316</td>\n",
       "      <td>1.242524</td>\n",
       "      <td>-0.869720</td>\n",
       "      <td>...</td>\n",
       "      <td>0.0</td>\n",
       "      <td>0.0</td>\n",
       "      <td>0.0</td>\n",
       "      <td>0.0</td>\n",
       "      <td>0.0</td>\n",
       "      <td>0.0</td>\n",
       "      <td>0.0</td>\n",
       "      <td>0.0</td>\n",
       "      <td>0.0</td>\n",
       "      <td>1.0</td>\n",
       "    </tr>\n",
       "    <tr>\n",
       "      <th>98194</th>\n",
       "      <td>-0.583687</td>\n",
       "      <td>1.501855</td>\n",
       "      <td>2.042883</td>\n",
       "      <td>1.908359</td>\n",
       "      <td>2.447259</td>\n",
       "      <td>-1.163509</td>\n",
       "      <td>0.288497</td>\n",
       "      <td>0.513517</td>\n",
       "      <td>0.962833</td>\n",
       "      <td>-1.028056</td>\n",
       "      <td>...</td>\n",
       "      <td>0.0</td>\n",
       "      <td>0.0</td>\n",
       "      <td>0.0</td>\n",
       "      <td>0.0</td>\n",
       "      <td>0.0</td>\n",
       "      <td>0.0</td>\n",
       "      <td>0.0</td>\n",
       "      <td>1.0</td>\n",
       "      <td>0.0</td>\n",
       "      <td>0.0</td>\n",
       "    </tr>\n",
       "    <tr>\n",
       "      <th>36463</th>\n",
       "      <td>-0.583687</td>\n",
       "      <td>0.783762</td>\n",
       "      <td>-0.210865</td>\n",
       "      <td>1.094133</td>\n",
       "      <td>0.034632</td>\n",
       "      <td>1.519881</td>\n",
       "      <td>-0.428509</td>\n",
       "      <td>0.893393</td>\n",
       "      <td>0.704988</td>\n",
       "      <td>1.015737</td>\n",
       "      <td>...</td>\n",
       "      <td>0.0</td>\n",
       "      <td>0.0</td>\n",
       "      <td>0.0</td>\n",
       "      <td>0.0</td>\n",
       "      <td>0.0</td>\n",
       "      <td>0.0</td>\n",
       "      <td>0.0</td>\n",
       "      <td>0.0</td>\n",
       "      <td>0.0</td>\n",
       "      <td>1.0</td>\n",
       "    </tr>\n",
       "    <tr>\n",
       "      <th>249923</th>\n",
       "      <td>-0.583687</td>\n",
       "      <td>1.501855</td>\n",
       "      <td>-0.899268</td>\n",
       "      <td>-0.078784</td>\n",
       "      <td>-0.917721</td>\n",
       "      <td>2.486791</td>\n",
       "      <td>-0.822415</td>\n",
       "      <td>0.233528</td>\n",
       "      <td>-1.784354</td>\n",
       "      <td>-0.108515</td>\n",
       "      <td>...</td>\n",
       "      <td>0.0</td>\n",
       "      <td>0.0</td>\n",
       "      <td>0.0</td>\n",
       "      <td>0.0</td>\n",
       "      <td>0.0</td>\n",
       "      <td>0.0</td>\n",
       "      <td>0.0</td>\n",
       "      <td>1.0</td>\n",
       "      <td>0.0</td>\n",
       "      <td>0.0</td>\n",
       "    </tr>\n",
       "    <tr>\n",
       "      <th>158389</th>\n",
       "      <td>-0.583687</td>\n",
       "      <td>-0.652422</td>\n",
       "      <td>-0.746195</td>\n",
       "      <td>-0.830062</td>\n",
       "      <td>-0.885976</td>\n",
       "      <td>-0.051024</td>\n",
       "      <td>-0.983048</td>\n",
       "      <td>0.540759</td>\n",
       "      <td>-0.672487</td>\n",
       "      <td>1.656369</td>\n",
       "      <td>...</td>\n",
       "      <td>0.0</td>\n",
       "      <td>0.0</td>\n",
       "      <td>0.0</td>\n",
       "      <td>0.0</td>\n",
       "      <td>0.0</td>\n",
       "      <td>0.0</td>\n",
       "      <td>0.0</td>\n",
       "      <td>1.0</td>\n",
       "      <td>0.0</td>\n",
       "      <td>0.0</td>\n",
       "    </tr>\n",
       "  </tbody>\n",
       "</table>\n",
       "<p>5 rows × 257 columns</p>\n",
       "</div>"
      ],
      "text/plain": [
       "        CNT_CHILDREN  AMT_INCOME_TOTAL  AMT_CREDIT  AMT_ANNUITY  \\\n",
       "245895      2.548310          0.855572   -0.295497     2.214159   \n",
       "98194      -0.583687          1.501855    2.042883     1.908359   \n",
       "36463      -0.583687          0.783762   -0.210865     1.094133   \n",
       "249923     -0.583687          1.501855   -0.899268    -0.078784   \n",
       "158389     -0.583687         -0.652422   -0.746195    -0.830062   \n",
       "\n",
       "        AMT_GOODS_PRICE  REGION_POPULATION_RELATIVE  DAYS_BIRTH  \\\n",
       "245895        -0.235201                   -0.905926    0.627866   \n",
       "98194          2.447259                   -1.163509    0.288497   \n",
       "36463          0.034632                    1.519881   -0.428509   \n",
       "249923        -0.917721                    2.486791   -0.822415   \n",
       "158389        -0.885976                   -0.051024   -0.983048   \n",
       "\n",
       "        DAYS_EMPLOYED  DAYS_REGISTRATION  DAYS_ID_PUBLISH  \\\n",
       "245895       0.800316           1.242524        -0.869720   \n",
       "98194        0.513517           0.962833        -1.028056   \n",
       "36463        0.893393           0.704988         1.015737   \n",
       "249923       0.233528          -1.784354        -0.108515   \n",
       "158389       0.540759          -0.672487         1.656369   \n",
       "\n",
       "                 ...             ORGANIZATION_TYPE_Trade: type 7  \\\n",
       "245895           ...                                         0.0   \n",
       "98194            ...                                         0.0   \n",
       "36463            ...                                         0.0   \n",
       "249923           ...                                         0.0   \n",
       "158389           ...                                         0.0   \n",
       "\n",
       "        ORGANIZATION_TYPE_Transport: type 1  \\\n",
       "245895                                  0.0   \n",
       "98194                                   0.0   \n",
       "36463                                   0.0   \n",
       "249923                                  0.0   \n",
       "158389                                  0.0   \n",
       "\n",
       "        ORGANIZATION_TYPE_Transport: type 2  \\\n",
       "245895                                  0.0   \n",
       "98194                                   0.0   \n",
       "36463                                   0.0   \n",
       "249923                                  0.0   \n",
       "158389                                  0.0   \n",
       "\n",
       "        ORGANIZATION_TYPE_Transport: type 3  \\\n",
       "245895                                  0.0   \n",
       "98194                                   0.0   \n",
       "36463                                   0.0   \n",
       "249923                                  0.0   \n",
       "158389                                  0.0   \n",
       "\n",
       "        ORGANIZATION_TYPE_Transport: type 4  ORGANIZATION_TYPE_University  \\\n",
       "245895                                  0.0                           0.0   \n",
       "98194                                   0.0                           0.0   \n",
       "36463                                   0.0                           0.0   \n",
       "249923                                  0.0                           0.0   \n",
       "158389                                  0.0                           0.0   \n",
       "\n",
       "        ORGANIZATION_TYPE_XNA  EMERGENCYSTATE_MODE_No  \\\n",
       "245895                    0.0                     0.0   \n",
       "98194                     0.0                     1.0   \n",
       "36463                     0.0                     0.0   \n",
       "249923                    0.0                     1.0   \n",
       "158389                    0.0                     1.0   \n",
       "\n",
       "        EMERGENCYSTATE_MODE_Yes  EMERGENCYSTATE_MODE_nan  \n",
       "245895                      0.0                      1.0  \n",
       "98194                       0.0                      0.0  \n",
       "36463                       0.0                      1.0  \n",
       "249923                      0.0                      0.0  \n",
       "158389                      0.0                      0.0  \n",
       "\n",
       "[5 rows x 257 columns]"
      ]
     },
     "execution_count": 48,
     "metadata": {},
     "output_type": "execute_result"
    }
   ],
   "source": [
    "features = data_train.sample(n = 16000, random_state = 42)\n",
    "labels = features['TARGET']\n",
    "features = features.drop(columns = ['TARGET', 'SK_ID_CURR', 'Unnamed: 0'])\n",
    "features.head()"
   ]
  },
  {
   "cell_type": "markdown",
   "metadata": {},
   "source": [
    "### Separando em dados treino e teste"
   ]
  },
  {
   "cell_type": "code",
   "execution_count": 19,
   "metadata": {},
   "outputs": [],
   "source": [
    "x_train, x_test, y_train, y_test = train_test_split(features, labels,\n",
    "                                                    test_size=6000,\n",
    "                                                    random_state=42,\n",
    "                                                    stratify=labels)"
   ]
  },
  {
   "cell_type": "markdown",
   "metadata": {},
   "source": [
    "## Escolha e Afinamento de um Modelo\n",
    "\n",
    "### Treinar uma variedade de classificadores\n",
    "\n",
    "Como estou com um problema de natureza superviosionada e com classes desbalanceadas, usarei os seguintes algorítmos:\n",
    "\n",
    "- Adaboost\n",
    "- Gradient boosting"
   ]
  },
  {
   "cell_type": "code",
   "execution_count": 8,
   "metadata": {},
   "outputs": [],
   "source": [
    "classifiers = ['adaboost', 'gradiend_boosting']"
   ]
  },
  {
   "cell_type": "markdown",
   "metadata": {},
   "source": [
    "### Adaboost"
   ]
  },
  {
   "cell_type": "code",
   "execution_count": 44,
   "metadata": {},
   "outputs": [
    {
     "name": "stdout",
     "output_type": "stream",
     "text": [
      "Tempo de execução Adaboost: 2.336 s\n",
      "Accuracy: 0.9194%\n",
      "Score Roc: 79.307%\n",
      "CV Score : Mean - 0.717786 | Std - 0.01726962 | Min - 0.6923086 | Max - 0.7465727\n"
     ]
    },
    {
     "data": {
      "image/png": "[encoded data removed]",
      "text/plain": [
       "<Figure size 432x288 with 1 Axes>"
      ]
     },
     "metadata": {
      "needs_background": "light"
     },
     "output_type": "display_data"
    }
   ],
   "source": [
    "classifier = AdaBoostClassifier()\n",
    "t0 = time()\n",
    "classifier.fit(x_train, y_train)\n",
    "print(\"Tempo de execução Adaboost:\", round(time()-t0, 3), \"s\")\n",
    "draw_roc_score(classifier, x_train, y_train)"
   ]
  },
  {
   "cell_type": "markdown",
   "metadata": {},
   "source": [
    "### Gradient Boosting"
   ]
  },
  {
   "cell_type": "code",
   "execution_count": 45,
   "metadata": {},
   "outputs": [
    {
     "name": "stdout",
     "output_type": "stream",
     "text": [
      "Tempo de execução Gradient Boosting: 6.007 s\n",
      "Accuracy: 0.9245%\n",
      "Score Roc: 85.584%\n",
      "CV Score : Mean - 0.7280678 | Std - 0.0085278 | Min - 0.7159346 | Max - 0.7416968\n"
     ]
    },
    {
     "data": {
      "image/png": "[encoded data removed]",
      "text/plain": [
       "<Figure size 432x288 with 1 Axes>"
      ]
     },
     "metadata": {
      "needs_background": "light"
     },
     "output_type": "display_data"
    }
   ],
   "source": [
    "t0 = time()\n",
    "classifier = GradientBoostingClassifier()\n",
    "classifier.fit(x_train, y_train)\n",
    "print(\"Tempo de execução Gradient Boosting:\", round(time()-t0, 3), \"s\")\n",
    "draw_roc_score(classifier, x_train, y_train)"
   ]
  },
  {
   "cell_type": "code",
   "execution_count": 42,
   "metadata": {},
   "outputs": [],
   "source": [
    "def draw_roc_score(classifier, x_train, y_train):\n",
    "    y_probas = classifier.predict_proba(x_train)\n",
    "    y_scores = y_probas[:, 1] \n",
    "    \n",
    "    predictions = classifier.predict(x_train)\n",
    "    cv_score = cross_validation.cross_val_score(classifier, x_train, y_train, cv=5, scoring='roc_auc')\n",
    "    print(\"Accuracy: {}%\".format(accuracy_score(y_train, predictions)))\n",
    "    print(\"Score Roc: {}%\".format(np.round(roc_auc_score(y_train, y_scores)*100, 3)))\n",
    "    print(\"CV Score : Mean - %.7g | Std - %.7g | Min - %.7g | Max - %.7g\" % (np.mean(cv_score),np.std(cv_score),np.min(cv_score),np.max(cv_score)))\n",
    "    #draw roc curve\n",
    "    fpr1, tpr1, thresholds = roc_curve(y_train, y_scores)\n",
    "    plt.plot(fpr1, tpr1, linewidth=1.5, label=None)\n",
    "    plt.plot([0, 1], [0, 1], 'k--')\n",
    "    plt.axis([0, 1, 0, 1])\n",
    "    plt.xlabel('Taxa de Falso Positivo')\n",
    "    plt.ylabel('Taxa de Verdadeiro Positivo')\n",
    "    plt.show()"
   ]
  },
  {
   "cell_type": "markdown",
   "metadata": {},
   "source": [
    "### Modelo Selecionado e Tuning\n",
    "\n",
    "Como pudemos ver na seção anterior, o Gradient Boosting obteve o melhor desempenho utilizando uma instância padrão do classificador, ou seja, sem realizar qualquer ajuste nos seus hiperparâmetros. O proximo passo é identificar o melhor ajuste dos hiperparâmetros para o modelo selecionado."
   ]
  },
  {
   "cell_type": "code",
   "execution_count": 5,
   "metadata": {},
   "outputs": [],
   "source": []
  },
  {
   "cell_type": "code",
   "execution_count": 7,
   "metadata": {},
   "outputs": [],
   "source": []
  },
  {
   "cell_type": "code",
   "execution_count": 6,
   "metadata": {},
   "outputs": [],
   "source": []
  },
  {
   "cell_type": "code",
   "execution_count": null,
   "metadata": {},
   "outputs": [],
   "source": []
  }
 ],
 "metadata": {
  "kernelspec": {
   "display_name": "Python 3",
   "language": "python",
   "name": "python3"
  },
  "language_info": {
   "codemirror_mode": {
    "name": "ipython",
    "version": 3
   },
   "file_extension": ".py",
   "mimetype": "text/x-python",
   "name": "python",
   "nbconvert_exporter": "python",
   "pygments_lexer": "ipython3",
   "version": "3.6.6"
  }
 },
 "nbformat": 4,
 "nbformat_minor": 2
}
