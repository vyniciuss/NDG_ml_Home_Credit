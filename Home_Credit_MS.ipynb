{
 "cells": [
  {
   "cell_type": "markdown",
   "metadata": {},
   "source": [
    "# PREVENDO O RISCO DE INADIMPLÊNCIA NO CRÉDITO RESIDENCIAL\n",
    "\n",
    "### MODEL SELECTION AND TUNNING\n",
    "\n",
    "#### Udacity - Engenheiro de Machine Learning\n",
    "Vinicius Ferreira Santos - vyniciuss@gmail.com\n",
    "\n",
    "## HOME CREDIT\n",
    "\n",
    "\n",
    "### Importando as bibliotecas"
   ]
  },
  {
   "cell_type": "code",
   "execution_count": 1,
   "metadata": {},
   "outputs": [
    {
     "name": "stderr",
     "output_type": "stream",
     "text": [
      "C:\\Users\\vynic\\Anaconda3\\envs\\py36\\lib\\site-packages\\sklearn\\cross_validation.py:41: DeprecationWarning:\n",
      "\n",
      "This module was deprecated in version 0.18 in favor of the model_selection module into which all the refactored classes and functions are moved. Also note that the interface of the new CV iterators are different from that of this module. This module will be removed in 0.20.\n",
      "\n"
     ]
    },
    {
     "data": {
      "text/html": [
       "<script>requirejs.config({paths: { 'plotly': ['https://cdn.plot.ly/plotly-latest.min']},});if(!window.Plotly) {{require(['plotly'],function(plotly) {window.Plotly=plotly;});}}</script>"
      ],
      "text/vnd.plotly.v1+html": [
       "<script>requirejs.config({paths: { 'plotly': ['https://cdn.plot.ly/plotly-latest.min']},});if(!window.Plotly) {{require(['plotly'],function(plotly) {window.Plotly=plotly;});}}</script>"
      ]
     },
     "metadata": {},
     "output_type": "display_data"
    },
    {
     "data": {
      "text/html": [
       "<script>requirejs.config({paths: { 'plotly': ['https://cdn.plot.ly/plotly-latest.min']},});if(!window.Plotly) {{require(['plotly'],function(plotly) {window.Plotly=plotly;});}}</script>"
      ],
      "text/vnd.plotly.v1+html": [
       "<script>requirejs.config({paths: { 'plotly': ['https://cdn.plot.ly/plotly-latest.min']},});if(!window.Plotly) {{require(['plotly'],function(plotly) {window.Plotly=plotly;});}}</script>"
      ]
     },
     "metadata": {},
     "output_type": "display_data"
    },
    {
     "name": "stderr",
     "output_type": "stream",
     "text": [
      "C:\\Users\\vynic\\Anaconda3\\envs\\py36\\lib\\site-packages\\sklearn\\ensemble\\weight_boosting.py:29: DeprecationWarning:\n",
      "\n",
      "numpy.core.umath_tests is an internal NumPy module and should not be imported. It will be removed in a future NumPy release.\n",
      "\n",
      "C:\\Users\\vynic\\Anaconda3\\envs\\py36\\lib\\site-packages\\sklearn\\grid_search.py:42: DeprecationWarning:\n",
      "\n",
      "This module was deprecated in version 0.18 in favor of the model_selection module into which all the refactored classes and functions are moved. This module will be removed in 0.20.\n",
      "\n"
     ]
    }
   ],
   "source": [
    "%load_ext autoreload\n",
    "%autoreload 2\n",
    "import pandas as pd\n",
    "import numpy as np\n",
    "import matplotlib.pyplot as plt\n",
    "from matplotlib.legend_handler import HandlerLine2D\n",
    "from helper import *\n",
    "from plotly.offline import init_notebook_mode, iplot, plot\n",
    "import plotly.graph_objs as go\n",
    "import plotly.plotly as py\n",
    "from plotly import tools\n",
    "init_notebook_mode(connected=True)\n",
    "# ================================================== #\n",
    "#               Classifiers                          #\n",
    "# ================================================== #\n",
    "from sklearn.ensemble import GradientBoostingClassifier, AdaBoostClassifier\n",
    "# ================================================== #\n",
    "#               Validation and Test                  #\n",
    "# ================================================== #\n",
    "from sklearn.metrics import roc_curve, roc_auc_score, accuracy_score\n",
    "from sklearn import cross_validation\n",
    "from sklearn.model_selection import train_test_split\n",
    "# ===================================================#\n",
    "from sklearn.pipeline import Pipeline\n",
    "from sklearn.grid_search import GridSearchCV\n",
    "from time import time\n",
    "import warnings\n",
    "warnings.filterwarnings(\"ignore\")\n",
    "path = \"plots/\""
   ]
  },
  {
   "cell_type": "markdown",
   "metadata": {},
   "source": [
    "## CARREGANDO OS DADOS"
   ]
  },
  {
   "cell_type": "code",
   "execution_count": 2,
   "metadata": {},
   "outputs": [
    {
     "data": {
      "text/html": [
       "<div>\n",
       "<style scoped>\n",
       "    .dataframe tbody tr th:only-of-type {\n",
       "        vertical-align: middle;\n",
       "    }\n",
       "\n",
       "    .dataframe tbody tr th {\n",
       "        vertical-align: top;\n",
       "    }\n",
       "\n",
       "    .dataframe thead th {\n",
       "        text-align: right;\n",
       "    }\n",
       "</style>\n",
       "<table border=\"1\" class=\"dataframe\">\n",
       "  <thead>\n",
       "    <tr style=\"text-align: right;\">\n",
       "      <th></th>\n",
       "      <th>Unnamed: 0</th>\n",
       "      <th>CNT_CHILDREN</th>\n",
       "      <th>AMT_INCOME_TOTAL</th>\n",
       "      <th>AMT_CREDIT</th>\n",
       "      <th>AMT_ANNUITY</th>\n",
       "      <th>AMT_GOODS_PRICE</th>\n",
       "      <th>REGION_POPULATION_RELATIVE</th>\n",
       "      <th>DAYS_BIRTH</th>\n",
       "      <th>DAYS_EMPLOYED</th>\n",
       "      <th>DAYS_REGISTRATION</th>\n",
       "      <th>...</th>\n",
       "      <th>ORGANIZATION_TYPE_Transport: type 2</th>\n",
       "      <th>ORGANIZATION_TYPE_Transport: type 3</th>\n",
       "      <th>ORGANIZATION_TYPE_Transport: type 4</th>\n",
       "      <th>ORGANIZATION_TYPE_University</th>\n",
       "      <th>ORGANIZATION_TYPE_XNA</th>\n",
       "      <th>EMERGENCYSTATE_MODE_No</th>\n",
       "      <th>EMERGENCYSTATE_MODE_Yes</th>\n",
       "      <th>EMERGENCYSTATE_MODE_nan</th>\n",
       "      <th>SK_ID_CURR</th>\n",
       "      <th>TARGET</th>\n",
       "    </tr>\n",
       "  </thead>\n",
       "  <tbody>\n",
       "    <tr>\n",
       "      <th>0</th>\n",
       "      <td>0</td>\n",
       "      <td>-0.583687</td>\n",
       "      <td>0.783762</td>\n",
       "      <td>-0.464117</td>\n",
       "      <td>-0.098525</td>\n",
       "      <td>-0.47329</td>\n",
       "      <td>-0.055568</td>\n",
       "      <td>1.50688</td>\n",
       "      <td>0.894907</td>\n",
       "      <td>0.377004</td>\n",
       "      <td>...</td>\n",
       "      <td>0.0</td>\n",
       "      <td>0.0</td>\n",
       "      <td>0.0</td>\n",
       "      <td>0.0</td>\n",
       "      <td>0.0</td>\n",
       "      <td>1.0</td>\n",
       "      <td>0.0</td>\n",
       "      <td>0.0</td>\n",
       "      <td>100002</td>\n",
       "      <td>1</td>\n",
       "    </tr>\n",
       "  </tbody>\n",
       "</table>\n",
       "<p>1 rows × 260 columns</p>\n",
       "</div>"
      ],
      "text/plain": [
       "   Unnamed: 0  CNT_CHILDREN  AMT_INCOME_TOTAL  AMT_CREDIT  AMT_ANNUITY  \\\n",
       "0           0     -0.583687          0.783762   -0.464117    -0.098525   \n",
       "\n",
       "   AMT_GOODS_PRICE  REGION_POPULATION_RELATIVE  DAYS_BIRTH  DAYS_EMPLOYED  \\\n",
       "0         -0.47329                   -0.055568     1.50688       0.894907   \n",
       "\n",
       "   DAYS_REGISTRATION   ...    ORGANIZATION_TYPE_Transport: type 2  \\\n",
       "0           0.377004   ...                                    0.0   \n",
       "\n",
       "   ORGANIZATION_TYPE_Transport: type 3  ORGANIZATION_TYPE_Transport: type 4  \\\n",
       "0                                  0.0                                  0.0   \n",
       "\n",
       "   ORGANIZATION_TYPE_University  ORGANIZATION_TYPE_XNA  \\\n",
       "0                           0.0                    0.0   \n",
       "\n",
       "   EMERGENCYSTATE_MODE_No  EMERGENCYSTATE_MODE_Yes  EMERGENCYSTATE_MODE_nan  \\\n",
       "0                     1.0                      0.0                      0.0   \n",
       "\n",
       "   SK_ID_CURR  TARGET  \n",
       "0      100002       1  \n",
       "\n",
       "[1 rows x 260 columns]"
      ]
     },
     "metadata": {},
     "output_type": "display_data"
    }
   ],
   "source": [
    "#carregando os dados de treinamento\n",
    "data_train = pd.read_csv(\"data/application_train_new.csv\")\n",
    "\n",
    "display(data_train.head(n=1))\n"
   ]
  },
  {
   "cell_type": "markdown",
   "metadata": {},
   "source": [
    "**Tunning** é o processo de buscar os melhores hiperparâmetros para um determinado estimador. Para facilitar o trabalho, tal processo será executado com o auxílio do GridSearchCV que, como descrito na documentação do sklearn, realiza uma busca exaustiva sobre valores de parâmetros especificados para um estimador. Como podemos perceber, esse é um processo caro e lento de se realizar com computadores pessoais se a massa de dados for muito grande. Dessa forma, irei separar uma amostra de 16 mil linhas, onde 10 mil será para treino e 6 mil para teste, afim de facilitar o processo.\n"
   ]
  },
  {
   "cell_type": "code",
   "execution_count": 3,
   "metadata": {},
   "outputs": [
    {
     "data": {
      "text/html": [
       "<div>\n",
       "<style scoped>\n",
       "    .dataframe tbody tr th:only-of-type {\n",
       "        vertical-align: middle;\n",
       "    }\n",
       "\n",
       "    .dataframe tbody tr th {\n",
       "        vertical-align: top;\n",
       "    }\n",
       "\n",
       "    .dataframe thead th {\n",
       "        text-align: right;\n",
       "    }\n",
       "</style>\n",
       "<table border=\"1\" class=\"dataframe\">\n",
       "  <thead>\n",
       "    <tr style=\"text-align: right;\">\n",
       "      <th></th>\n",
       "      <th>CNT_CHILDREN</th>\n",
       "      <th>AMT_INCOME_TOTAL</th>\n",
       "      <th>AMT_CREDIT</th>\n",
       "      <th>AMT_ANNUITY</th>\n",
       "      <th>AMT_GOODS_PRICE</th>\n",
       "      <th>REGION_POPULATION_RELATIVE</th>\n",
       "      <th>DAYS_BIRTH</th>\n",
       "      <th>DAYS_EMPLOYED</th>\n",
       "      <th>DAYS_REGISTRATION</th>\n",
       "      <th>DAYS_ID_PUBLISH</th>\n",
       "      <th>...</th>\n",
       "      <th>ORGANIZATION_TYPE_Trade: type 7</th>\n",
       "      <th>ORGANIZATION_TYPE_Transport: type 1</th>\n",
       "      <th>ORGANIZATION_TYPE_Transport: type 2</th>\n",
       "      <th>ORGANIZATION_TYPE_Transport: type 3</th>\n",
       "      <th>ORGANIZATION_TYPE_Transport: type 4</th>\n",
       "      <th>ORGANIZATION_TYPE_University</th>\n",
       "      <th>ORGANIZATION_TYPE_XNA</th>\n",
       "      <th>EMERGENCYSTATE_MODE_No</th>\n",
       "      <th>EMERGENCYSTATE_MODE_Yes</th>\n",
       "      <th>EMERGENCYSTATE_MODE_nan</th>\n",
       "    </tr>\n",
       "  </thead>\n",
       "  <tbody>\n",
       "    <tr>\n",
       "      <th>245895</th>\n",
       "      <td>2.548310</td>\n",
       "      <td>0.855572</td>\n",
       "      <td>-0.295497</td>\n",
       "      <td>2.214159</td>\n",
       "      <td>-0.235201</td>\n",
       "      <td>-0.905926</td>\n",
       "      <td>0.627866</td>\n",
       "      <td>0.800316</td>\n",
       "      <td>1.242524</td>\n",
       "      <td>-0.869720</td>\n",
       "      <td>...</td>\n",
       "      <td>0.0</td>\n",
       "      <td>0.0</td>\n",
       "      <td>0.0</td>\n",
       "      <td>0.0</td>\n",
       "      <td>0.0</td>\n",
       "      <td>0.0</td>\n",
       "      <td>0.0</td>\n",
       "      <td>0.0</td>\n",
       "      <td>0.0</td>\n",
       "      <td>1.0</td>\n",
       "    </tr>\n",
       "    <tr>\n",
       "      <th>98194</th>\n",
       "      <td>-0.583687</td>\n",
       "      <td>1.501855</td>\n",
       "      <td>2.042883</td>\n",
       "      <td>1.908359</td>\n",
       "      <td>2.447259</td>\n",
       "      <td>-1.163509</td>\n",
       "      <td>0.288497</td>\n",
       "      <td>0.513517</td>\n",
       "      <td>0.962833</td>\n",
       "      <td>-1.028056</td>\n",
       "      <td>...</td>\n",
       "      <td>0.0</td>\n",
       "      <td>0.0</td>\n",
       "      <td>0.0</td>\n",
       "      <td>0.0</td>\n",
       "      <td>0.0</td>\n",
       "      <td>0.0</td>\n",
       "      <td>0.0</td>\n",
       "      <td>1.0</td>\n",
       "      <td>0.0</td>\n",
       "      <td>0.0</td>\n",
       "    </tr>\n",
       "    <tr>\n",
       "      <th>36463</th>\n",
       "      <td>-0.583687</td>\n",
       "      <td>0.783762</td>\n",
       "      <td>-0.210865</td>\n",
       "      <td>1.094133</td>\n",
       "      <td>0.034632</td>\n",
       "      <td>1.519881</td>\n",
       "      <td>-0.428509</td>\n",
       "      <td>0.893393</td>\n",
       "      <td>0.704988</td>\n",
       "      <td>1.015737</td>\n",
       "      <td>...</td>\n",
       "      <td>0.0</td>\n",
       "      <td>0.0</td>\n",
       "      <td>0.0</td>\n",
       "      <td>0.0</td>\n",
       "      <td>0.0</td>\n",
       "      <td>0.0</td>\n",
       "      <td>0.0</td>\n",
       "      <td>0.0</td>\n",
       "      <td>0.0</td>\n",
       "      <td>1.0</td>\n",
       "    </tr>\n",
       "    <tr>\n",
       "      <th>249923</th>\n",
       "      <td>-0.583687</td>\n",
       "      <td>1.501855</td>\n",
       "      <td>-0.899268</td>\n",
       "      <td>-0.078784</td>\n",
       "      <td>-0.917721</td>\n",
       "      <td>2.486791</td>\n",
       "      <td>-0.822415</td>\n",
       "      <td>0.233528</td>\n",
       "      <td>-1.784354</td>\n",
       "      <td>-0.108515</td>\n",
       "      <td>...</td>\n",
       "      <td>0.0</td>\n",
       "      <td>0.0</td>\n",
       "      <td>0.0</td>\n",
       "      <td>0.0</td>\n",
       "      <td>0.0</td>\n",
       "      <td>0.0</td>\n",
       "      <td>0.0</td>\n",
       "      <td>1.0</td>\n",
       "      <td>0.0</td>\n",
       "      <td>0.0</td>\n",
       "    </tr>\n",
       "    <tr>\n",
       "      <th>158389</th>\n",
       "      <td>-0.583687</td>\n",
       "      <td>-0.652422</td>\n",
       "      <td>-0.746195</td>\n",
       "      <td>-0.830062</td>\n",
       "      <td>-0.885976</td>\n",
       "      <td>-0.051024</td>\n",
       "      <td>-0.983048</td>\n",
       "      <td>0.540759</td>\n",
       "      <td>-0.672487</td>\n",
       "      <td>1.656369</td>\n",
       "      <td>...</td>\n",
       "      <td>0.0</td>\n",
       "      <td>0.0</td>\n",
       "      <td>0.0</td>\n",
       "      <td>0.0</td>\n",
       "      <td>0.0</td>\n",
       "      <td>0.0</td>\n",
       "      <td>0.0</td>\n",
       "      <td>1.0</td>\n",
       "      <td>0.0</td>\n",
       "      <td>0.0</td>\n",
       "    </tr>\n",
       "  </tbody>\n",
       "</table>\n",
       "<p>5 rows × 257 columns</p>\n",
       "</div>"
      ],
      "text/plain": [
       "        CNT_CHILDREN  AMT_INCOME_TOTAL  AMT_CREDIT  AMT_ANNUITY  \\\n",
       "245895      2.548310          0.855572   -0.295497     2.214159   \n",
       "98194      -0.583687          1.501855    2.042883     1.908359   \n",
       "36463      -0.583687          0.783762   -0.210865     1.094133   \n",
       "249923     -0.583687          1.501855   -0.899268    -0.078784   \n",
       "158389     -0.583687         -0.652422   -0.746195    -0.830062   \n",
       "\n",
       "        AMT_GOODS_PRICE  REGION_POPULATION_RELATIVE  DAYS_BIRTH  \\\n",
       "245895        -0.235201                   -0.905926    0.627866   \n",
       "98194          2.447259                   -1.163509    0.288497   \n",
       "36463          0.034632                    1.519881   -0.428509   \n",
       "249923        -0.917721                    2.486791   -0.822415   \n",
       "158389        -0.885976                   -0.051024   -0.983048   \n",
       "\n",
       "        DAYS_EMPLOYED  DAYS_REGISTRATION  DAYS_ID_PUBLISH  \\\n",
       "245895       0.800316           1.242524        -0.869720   \n",
       "98194        0.513517           0.962833        -1.028056   \n",
       "36463        0.893393           0.704988         1.015737   \n",
       "249923       0.233528          -1.784354        -0.108515   \n",
       "158389       0.540759          -0.672487         1.656369   \n",
       "\n",
       "                 ...             ORGANIZATION_TYPE_Trade: type 7  \\\n",
       "245895           ...                                         0.0   \n",
       "98194            ...                                         0.0   \n",
       "36463            ...                                         0.0   \n",
       "249923           ...                                         0.0   \n",
       "158389           ...                                         0.0   \n",
       "\n",
       "        ORGANIZATION_TYPE_Transport: type 1  \\\n",
       "245895                                  0.0   \n",
       "98194                                   0.0   \n",
       "36463                                   0.0   \n",
       "249923                                  0.0   \n",
       "158389                                  0.0   \n",
       "\n",
       "        ORGANIZATION_TYPE_Transport: type 2  \\\n",
       "245895                                  0.0   \n",
       "98194                                   0.0   \n",
       "36463                                   0.0   \n",
       "249923                                  0.0   \n",
       "158389                                  0.0   \n",
       "\n",
       "        ORGANIZATION_TYPE_Transport: type 3  \\\n",
       "245895                                  0.0   \n",
       "98194                                   0.0   \n",
       "36463                                   0.0   \n",
       "249923                                  0.0   \n",
       "158389                                  0.0   \n",
       "\n",
       "        ORGANIZATION_TYPE_Transport: type 4  ORGANIZATION_TYPE_University  \\\n",
       "245895                                  0.0                           0.0   \n",
       "98194                                   0.0                           0.0   \n",
       "36463                                   0.0                           0.0   \n",
       "249923                                  0.0                           0.0   \n",
       "158389                                  0.0                           0.0   \n",
       "\n",
       "        ORGANIZATION_TYPE_XNA  EMERGENCYSTATE_MODE_No  \\\n",
       "245895                    0.0                     0.0   \n",
       "98194                     0.0                     1.0   \n",
       "36463                     0.0                     0.0   \n",
       "249923                    0.0                     1.0   \n",
       "158389                    0.0                     1.0   \n",
       "\n",
       "        EMERGENCYSTATE_MODE_Yes  EMERGENCYSTATE_MODE_nan  \n",
       "245895                      0.0                      1.0  \n",
       "98194                       0.0                      0.0  \n",
       "36463                       0.0                      1.0  \n",
       "249923                      0.0                      0.0  \n",
       "158389                      0.0                      0.0  \n",
       "\n",
       "[5 rows x 257 columns]"
      ]
     },
     "execution_count": 3,
     "metadata": {},
     "output_type": "execute_result"
    }
   ],
   "source": [
    "features = data_train.sample(n = 16000, random_state = 42)\n",
    "labels = features['TARGET']\n",
    "features = features.drop(columns = ['TARGET', 'SK_ID_CURR', 'Unnamed: 0'])\n",
    "features.head()"
   ]
  },
  {
   "cell_type": "markdown",
   "metadata": {},
   "source": [
    "### Separando em dados treino e teste"
   ]
  },
  {
   "cell_type": "code",
   "execution_count": 4,
   "metadata": {},
   "outputs": [],
   "source": [
    "x_train, x_test, y_train, y_test = train_test_split(features, labels,\n",
    "                                                    test_size=6000,\n",
    "                                                    random_state=42,\n",
    "                                                    stratify=labels)"
   ]
  },
  {
   "cell_type": "markdown",
   "metadata": {},
   "source": [
    "## Escolha e Afinamento de um Modelo\n",
    "\n",
    "### Treinar uma variedade de classificadores\n",
    "\n",
    "Como estou com um problema de natureza superviosionada e com classes desbalanceadas, usarei os seguintes algorítmos:\n",
    "\n",
    "- Adaboost\n",
    "- Gradient boosting"
   ]
  },
  {
   "cell_type": "markdown",
   "metadata": {},
   "source": [
    "### Adaboost"
   ]
  },
  {
   "cell_type": "code",
   "execution_count": 10,
   "metadata": {},
   "outputs": [
    {
     "name": "stdout",
     "output_type": "stream",
     "text": [
      "Tempo de execução Adaboost: 3.083 s\n",
      "Train Accuracy: 0.9194%\n",
      "Train Score Roc: 79.307%\n",
      "Train CV Score : Mean - 0.717786 | Std - 0.01726962 | Min - 0.6923086 | Max - 0.7465727\n",
      "------------------------------------------------------------------------------------------------\n",
      "Test Accuracy: 0.9155%\n",
      "Test Score Roc: 71.711%\n",
      "Test CV Score : Mean - 0.6796754 | Std - 0.02830649 | Min - 0.6277808 | Max - 0.7087716\n"
     ]
    },
    {
     "data": {
      "image/png": "[encoded data removed]",
      "text/plain": [
       "<Figure size 432x288 with 1 Axes>"
      ]
     },
     "metadata": {
      "needs_background": "light"
     },
     "output_type": "display_data"
    }
   ],
   "source": [
    "classifier = AdaBoostClassifier()\n",
    "t0 = time()\n",
    "classifier.fit(x_train, y_train)\n",
    "print(\"Tempo de execução Adaboost:\", round(time()-t0, 3), \"s\")\n",
    "draw_roc_score(classifier, x_train, y_train, x_test, y_test)"
   ]
  },
  {
   "cell_type": "markdown",
   "metadata": {},
   "source": [
    "### Gradient Boosting"
   ]
  },
  {
   "cell_type": "code",
   "execution_count": 11,
   "metadata": {},
   "outputs": [
    {
     "name": "stdout",
     "output_type": "stream",
     "text": [
      "Tempo de execução Gradient Boosting: 7.672 s\n",
      "Train Accuracy: 0.9245%\n",
      "Train Score Roc: 85.584%\n",
      "Train CV Score : Mean - 0.7282286 | Std - 0.008040625 | Min - 0.7189369 | Max - 0.7417468\n",
      "------------------------------------------------------------------------------------------------\n",
      "Test Accuracy: 0.9161666666666667%\n",
      "Test Score Roc: 73.12%\n",
      "Test CV Score : Mean - 0.7168484 | Std - 0.02632716 | Min - 0.6865867 | Max - 0.7532981\n"
     ]
    },
    {
     "data": {
      "image/png": "[encoded data removed]",
      "text/plain": [
       "<Figure size 432x288 with 1 Axes>"
      ]
     },
     "metadata": {
      "needs_background": "light"
     },
     "output_type": "display_data"
    }
   ],
   "source": [
    "t0 = time()\n",
    "gb = GradientBoostingClassifier()\n",
    "gb.fit(x_train, y_train)\n",
    "print(\"Tempo de execução Gradient Boosting:\", round(time()-t0, 3), \"s\")\n",
    "draw_roc_score(gb, x_train, y_train, x_test, y_test)"
   ]
  },
  {
   "cell_type": "markdown",
   "metadata": {},
   "source": [
    "### Modelo Selecionado e Tuning\n",
    "\n",
    "Como pudemos ver na seção anterior, o Gradient Boosting obteve o melhor desempenho utilizando uma instância padrão do classificador, ou seja, sem realizar qualquer ajuste nos seus hiperparâmetros. O proximo passo é identificar o melhor ajuste dos hiperparâmetros para o modelo selecionado, para isso, irei selecionar poucos hiperparâmetros a cada ajuste, afim de reduzir o tempo da busca e para tentar entender como está sendo a importância dada a cada feature. Nos passos a seguir, cada ajuste ideal encontrado será inserido como hiperparâmetro fixo na etapa seguinte.\n",
    "\n",
    "\n",
    "Para iniciar, irei olhar a importância das features com o classificador padrão:"
   ]
  },
  {
   "cell_type": "code",
   "execution_count": 17,
   "metadata": {},
   "outputs": [
    {
     "data": {
      "application/vnd.plotly.v1+json": {
       "data": [
        {
         "marker": {
          "color": [
           0,
           0,
           0,
           0,
           0,
           0,
           0,
           0,
           0,
           0,
           0,
           0,
           0,
           0,
           0,
           0,
           0,
           0,
           0,
           0,
           0,
           0,
           0,
           0,
           0,
           0,
           0,
           0,
           0,
           0,
           0,
           0,
           0,
           0,
           0,
           0,
           0,
           0,
           0,
           0,
           0,
           0,
           0,
           0,
           0,
           0,
           0,
           0,
           0,
           0,
           0,
           0,
           0,
           0,
           0,
           0,
           0,
           0,
           0,
           0,
           0,
           0,
           0,
           0,
           0,
           0,
           0,
           0,
           0,
           0,
           0,
           0,
           0,
           0,
           0,
           0,
           0,
           0,
           0,
           0,
           0,
           0,
           0,
           0,
           0,
           0,
           0,
           0,
           0,
           0,
           0,
           0,
           0,
           0,
           0,
           0,
           0,
           0,
           0,
           0,
           0,
           0,
           0,
           0,
           0,
           0,
           0,
           0,
           0,
           0,
           0,
           0,
           0,
           0,
           0,
           0,
           0,
           0,
           0,
           0,
           0,
           0,
           0,
           0,
           0,
           0,
           0,
           0,
           0,
           0,
           0,
           0,
           0,
           0,
           0,
           0,
           0,
           0,
           0,
           0,
           0,
           0,
           0,
           0,
           0,
           0,
           0,
           0,
           0,
           0,
           0,
           0,
           0,
           0,
           0,
           0,
           0,
           0,
           0,
           0,
           0,
           0,
           0,
           0,
           0,
           0,
           0,
           0,
           0,
           0,
           6.148954295121838e-08,
           0.0005911243930115693,
           0.00061023922746636,
           0.001111993570618346,
           0.001218590863212066,
           0.0012204201416554786,
           0.001253734748009814,
           0.0012778085838116822,
           0.0014696247827685604,
           0.0014771388399899131,
           0.0015257928310974172,
           0.0017585445300000266,
           0.00192969694229352,
           0.001943621198750431,
           0.002015847558841915,
           0.0020741220719496193,
           0.002117014669628676,
           0.0022956979072829074,
           0.00234303551861185,
           0.0023936407776277025,
           0.0025272833554531404,
           0.0026065928282293237,
           0.002767075856036654,
           0.00277824766081995,
           0.0027947322848245353,
           0.0029192058558501688,
           0.00294993568329533,
           0.003034436607213735,
           0.0031584266750483707,
           0.003178762561382551,
           0.003254059921775736,
           0.003368490349036757,
           0.0033822349041226518,
           0.003435085995827429,
           0.0035602415674510428,
           0.003580535634927915,
           0.003617152893064801,
           0.0038654566770736027,
           0.0038941882932635474,
           0.004080626945323943,
           0.004189320008521776,
           0.004193744852504036,
           0.004717534331341,
           0.004964718633039195,
           0.005196598317087741,
           0.005212557123560974,
           0.005386930129493076,
           0.00539839309690986,
           0.005530929621322871,
           0.0057094753917405995,
           0.0059196265671716064,
           0.0060347765952158475,
           0.0060745830593145755,
           0.006106106791825774,
           0.006158423485867479,
           0.006216386877104589,
           0.006324985243685441,
           0.007326991596796609,
           0.008454837780024574,
           0.008653108682554205,
           0.008812322637895532,
           0.010048747407997296,
           0.010646373620178453,
           0.01168086614767548,
           0.01169867787468619,
           0.012040215016277247,
           0.01217194979704381,
           0.012484876016859523,
           0.013032814010348797,
           0.013567861183624248,
           0.0140650852612756,
           0.01697872886694824,
           0.017644748969909318,
           0.01883307297098423,
           0.019899968220826115,
           0.024609676359228585,
           0.02472420068875465,
           0.025514964314461673,
           0.028696299308362806,
           0.02901124081684272,
           0.03240040880740961,
           0.0367845358069597,
           0.03795923378472825,
           0.03831436420162226,
           0.03919805761848015,
           0.13299948467865438,
           0.1330306742306914
          ],
          "colorscale": "Jet",
          "reversescale": true
         },
         "name": "Importância das features",
         "orientation": "h",
         "type": "bar",
         "uid": "301d8e24-edeb-11e8-bfb1-605718f38acb",
         "x": [
          0,
          0,
          0,
          0,
          0,
          0,
          0,
          0,
          0,
          0,
          0,
          0,
          0,
          0,
          0,
          0,
          0,
          0,
          0,
          0,
          0,
          0,
          0,
          0,
          0,
          0,
          0,
          0,
          0,
          0,
          0,
          0,
          0,
          0,
          0,
          0,
          0,
          0,
          0,
          0,
          0,
          0,
          0,
          0,
          0,
          0,
          0,
          0,
          0,
          0,
          0,
          0,
          0,
          0,
          0,
          0,
          0,
          0,
          0,
          0,
          0,
          0,
          0,
          0,
          0,
          0,
          0,
          0,
          0,
          0,
          0,
          0,
          0,
          0,
          0,
          0,
          0,
          0,
          0,
          0,
          0,
          0,
          0,
          0,
          0,
          0,
          0,
          0,
          0,
          0,
          0,
          0,
          0,
          0,
          0,
          0,
          0,
          0,
          0,
          0,
          0,
          0,
          0,
          0,
          0,
          0,
          0,
          0,
          0,
          0,
          0,
          0,
          0,
          0,
          0,
          0,
          0,
          0,
          0,
          0,
          0,
          0,
          0,
          0,
          0,
          0,
          0,
          0,
          0,
          0,
          0,
          0,
          0,
          0,
          0,
          0,
          0,
          0,
          0,
          0,
          0,
          0,
          0,
          0,
          0,
          0,
          0,
          0,
          0,
          0,
          0,
          0,
          0,
          0,
          0,
          0,
          0,
          0,
          0,
          0,
          0,
          0,
          0,
          0,
          0,
          0,
          0,
          0,
          0,
          0,
          6.148954295121838e-08,
          0.0005911243930115693,
          0.00061023922746636,
          0.001111993570618346,
          0.001218590863212066,
          0.0012204201416554786,
          0.001253734748009814,
          0.0012778085838116822,
          0.0014696247827685604,
          0.0014771388399899131,
          0.0015257928310974172,
          0.0017585445300000266,
          0.00192969694229352,
          0.001943621198750431,
          0.002015847558841915,
          0.0020741220719496193,
          0.002117014669628676,
          0.0022956979072829074,
          0.00234303551861185,
          0.0023936407776277025,
          0.0025272833554531404,
          0.0026065928282293237,
          0.002767075856036654,
          0.00277824766081995,
          0.0027947322848245353,
          0.0029192058558501688,
          0.00294993568329533,
          0.003034436607213735,
          0.0031584266750483707,
          0.003178762561382551,
          0.003254059921775736,
          0.003368490349036757,
          0.0033822349041226518,
          0.003435085995827429,
          0.0035602415674510428,
          0.003580535634927915,
          0.003617152893064801,
          0.0038654566770736027,
          0.0038941882932635474,
          0.004080626945323943,
          0.004189320008521776,
          0.004193744852504036,
          0.004717534331341,
          0.004964718633039195,
          0.005196598317087741,
          0.005212557123560974,
          0.005386930129493076,
          0.00539839309690986,
          0.005530929621322871,
          0.0057094753917405995,
          0.0059196265671716064,
          0.0060347765952158475,
          0.0060745830593145755,
          0.006106106791825774,
          0.006158423485867479,
          0.006216386877104589,
          0.006324985243685441,
          0.007326991596796609,
          0.008454837780024574,
          0.008653108682554205,
          0.008812322637895532,
          0.010048747407997296,
          0.010646373620178453,
          0.01168086614767548,
          0.01169867787468619,
          0.012040215016277247,
          0.01217194979704381,
          0.012484876016859523,
          0.013032814010348797,
          0.013567861183624248,
          0.0140650852612756,
          0.01697872886694824,
          0.017644748969909318,
          0.01883307297098423,
          0.019899968220826115,
          0.024609676359228585,
          0.02472420068875465,
          0.025514964314461673,
          0.028696299308362806,
          0.02901124081684272,
          0.03240040880740961,
          0.0367845358069597,
          0.03795923378472825,
          0.03831436420162226,
          0.03919805761848015,
          0.13299948467865438,
          0.1330306742306914
         ],
         "y": [
          "1",
          "AGE",
          "AMT_CREDIT_POLY AMT_INCOME_TOTAL_POLY DAYS_BIRTH_POLY",
          "AMT_CREDIT_POLY AMT_INCOME_TOTAL_POLY EXT_SOURCE_2_POLY",
          "AMT_CREDIT_POLY AMT_INCOME_TOTAL_POLY EXT_SOURCE_3_POLY",
          "AMT_CREDIT_POLY DAYS_BIRTH_POLY",
          "AMT_CREDIT_POLY DAYS_BIRTH_POLY EXT_SOURCE_2_POLY",
          "AMT_CREDIT_POLY DAYS_BIRTH_POLY EXT_SOURCE_3_POLY",
          "AMT_CREDIT_POLY DAYS_BIRTH_POLY^2",
          "AMT_CREDIT_POLY EXT_SOURCE_2_POLY",
          "AMT_CREDIT_POLY EXT_SOURCE_2_POLY EXT_SOURCE_3_POLY",
          "AMT_CREDIT_POLY EXT_SOURCE_2_POLY^2",
          "AMT_CREDIT_POLY EXT_SOURCE_3_POLY",
          "AMT_CREDIT_POLY EXT_SOURCE_3_POLY^2",
          "AMT_CREDIT_POLY^2 DAYS_BIRTH_POLY",
          "AMT_CREDIT_POLY^2 EXT_SOURCE_2_POLY",
          "AMT_CREDIT_POLY^2 EXT_SOURCE_3_POLY",
          "AMT_INCOME_TOTAL_POLY DAYS_BIRTH_POLY",
          "AMT_INCOME_TOTAL_POLY DAYS_BIRTH_POLY EXT_SOURCE_2_POLY",
          "AMT_INCOME_TOTAL_POLY DAYS_BIRTH_POLY EXT_SOURCE_3_POLY",
          "AMT_INCOME_TOTAL_POLY DAYS_BIRTH_POLY^2",
          "AMT_INCOME_TOTAL_POLY EXT_SOURCE_2_POLY",
          "AMT_INCOME_TOTAL_POLY EXT_SOURCE_2_POLY EXT_SOURCE_3_POLY",
          "AMT_INCOME_TOTAL_POLY EXT_SOURCE_2_POLY^2",
          "AMT_INCOME_TOTAL_POLY EXT_SOURCE_3_POLY",
          "AMT_INCOME_TOTAL_POLY EXT_SOURCE_3_POLY^2",
          "AMT_INCOME_TOTAL_POLY^2 DAYS_BIRTH_POLY",
          "AMT_INCOME_TOTAL_POLY^2 EXT_SOURCE_2_POLY",
          "AMT_INCOME_TOTAL_POLY^2 EXT_SOURCE_3_POLY",
          "AMT_REQ_CREDIT_BUREAU_DAY",
          "AMT_REQ_CREDIT_BUREAU_HOUR",
          "AMT_REQ_CREDIT_BUREAU_MON",
          "AMT_REQ_CREDIT_BUREAU_QRT",
          "AMT_REQ_CREDIT_BUREAU_WEEK",
          "CNT_CHILDREN",
          "CNT_FAM_MEMBERS",
          "DAYS_BIRTH_POLY",
          "DAYS_BIRTH_POLY EXT_SOURCE_2_POLY",
          "DAYS_BIRTH_POLY EXT_SOURCE_2_POLY EXT_SOURCE_3_POLY",
          "DAYS_BIRTH_POLY EXT_SOURCE_2_POLY^2",
          "DAYS_BIRTH_POLY EXT_SOURCE_3_POLY",
          "DAYS_BIRTH_POLY EXT_SOURCE_3_POLY^2",
          "DAYS_BIRTH_POLY^2",
          "DAYS_BIRTH_POLY^2 EXT_SOURCE_2_POLY",
          "DAYS_BIRTH_POLY^2 EXT_SOURCE_3_POLY",
          "DAYS_BIRTH_POLY^3",
          "DEF_30_CNT_SOCIAL_CIRCLE",
          "DEF_60_CNT_SOCIAL_CIRCLE",
          "EMERGENCYSTATE_MODE_No",
          "EMERGENCYSTATE_MODE_Yes",
          "EMERGENCYSTATE_MODE_nan",
          "EXT_SOURCE_2_POLY",
          "EXT_SOURCE_2_POLY EXT_SOURCE_3_POLY",
          "EXT_SOURCE_2_POLY EXT_SOURCE_3_POLY^2",
          "EXT_SOURCE_2_POLY^2",
          "EXT_SOURCE_2_POLY^2 EXT_SOURCE_3_POLY",
          "EXT_SOURCE_2_POLY^3",
          "EXT_SOURCE_3_POLY",
          "EXT_SOURCE_3_POLY^2",
          "EXT_SOURCE_3_POLY^3",
          "FLAG_CONT_MOBILE",
          "FLAG_DOCUMENT_10",
          "FLAG_DOCUMENT_11",
          "FLAG_DOCUMENT_12",
          "FLAG_DOCUMENT_13",
          "FLAG_DOCUMENT_14",
          "FLAG_DOCUMENT_15",
          "FLAG_DOCUMENT_16",
          "FLAG_DOCUMENT_17",
          "FLAG_DOCUMENT_18",
          "FLAG_DOCUMENT_19",
          "FLAG_DOCUMENT_2",
          "FLAG_DOCUMENT_20",
          "FLAG_DOCUMENT_21",
          "FLAG_DOCUMENT_4",
          "FLAG_DOCUMENT_5",
          "FLAG_DOCUMENT_6",
          "FLAG_DOCUMENT_7",
          "FLAG_DOCUMENT_8",
          "FLAG_DOCUMENT_9",
          "FLAG_EMAIL",
          "FLAG_EMP_PHONE",
          "FLAG_MOBIL",
          "FLAG_OWN_CAR_N",
          "FLAG_OWN_REALTY_Y",
          "FLAG_WORK_PHONE",
          "LIVE_CITY_NOT_WORK_CITY",
          "LIVE_REGION_NOT_WORK_REGION",
          "NAME_EDUCATION_TYPE_Academic degree",
          "NAME_EDUCATION_TYPE_Lower secondary",
          "NAME_FAMILY_STATUS_Separated",
          "NAME_FAMILY_STATUS_Single / not married",
          "NAME_FAMILY_STATUS_Widow",
          "NAME_HOUSING_TYPE_Co-op apartment",
          "NAME_HOUSING_TYPE_House / apartment",
          "NAME_HOUSING_TYPE_Municipal apartment",
          "NAME_INCOME_TYPE_Businessman",
          "NAME_INCOME_TYPE_Commercial associate",
          "NAME_INCOME_TYPE_Pensioner",
          "NAME_INCOME_TYPE_State servant",
          "NAME_INCOME_TYPE_Student",
          "NAME_INCOME_TYPE_Unemployed",
          "NAME_TYPE_SUITE_Other_A",
          "NAME_TYPE_SUITE_Other_B",
          "NAME_TYPE_SUITE_Unaccompanied",
          "OCCUPATION_TYPE_Accountants",
          "OCCUPATION_TYPE_Cleaning staff",
          "OCCUPATION_TYPE_High skill tech staff",
          "OCCUPATION_TYPE_IT staff",
          "OCCUPATION_TYPE_Managers",
          "OCCUPATION_TYPE_Medicine staff",
          "OCCUPATION_TYPE_Private service staff",
          "OCCUPATION_TYPE_Realty agents",
          "OCCUPATION_TYPE_Secretaries",
          "ORGANIZATION_TYPE_Advertising",
          "ORGANIZATION_TYPE_Agriculture",
          "ORGANIZATION_TYPE_Business Entity Type 1",
          "ORGANIZATION_TYPE_Culture",
          "ORGANIZATION_TYPE_Emergency",
          "ORGANIZATION_TYPE_Government",
          "ORGANIZATION_TYPE_Hotel",
          "ORGANIZATION_TYPE_Industry: type 1",
          "ORGANIZATION_TYPE_Industry: type 10",
          "ORGANIZATION_TYPE_Industry: type 11",
          "ORGANIZATION_TYPE_Industry: type 12",
          "ORGANIZATION_TYPE_Industry: type 3",
          "ORGANIZATION_TYPE_Industry: type 4",
          "ORGANIZATION_TYPE_Industry: type 5",
          "ORGANIZATION_TYPE_Industry: type 6",
          "ORGANIZATION_TYPE_Industry: type 7",
          "ORGANIZATION_TYPE_Industry: type 8",
          "ORGANIZATION_TYPE_Industry: type 9",
          "ORGANIZATION_TYPE_Insurance",
          "ORGANIZATION_TYPE_Medicine",
          "ORGANIZATION_TYPE_Military",
          "ORGANIZATION_TYPE_Mobile",
          "ORGANIZATION_TYPE_Other",
          "ORGANIZATION_TYPE_Police",
          "ORGANIZATION_TYPE_Postal",
          "ORGANIZATION_TYPE_Realtor",
          "ORGANIZATION_TYPE_Religion",
          "ORGANIZATION_TYPE_School",
          "ORGANIZATION_TYPE_Security",
          "ORGANIZATION_TYPE_Security Ministries",
          "ORGANIZATION_TYPE_Services",
          "ORGANIZATION_TYPE_Telecom",
          "ORGANIZATION_TYPE_Trade: type 1",
          "ORGANIZATION_TYPE_Trade: type 2",
          "ORGANIZATION_TYPE_Trade: type 3",
          "ORGANIZATION_TYPE_Trade: type 4",
          "ORGANIZATION_TYPE_Trade: type 5",
          "ORGANIZATION_TYPE_Trade: type 6",
          "ORGANIZATION_TYPE_Trade: type 7",
          "ORGANIZATION_TYPE_Transport: type 1",
          "ORGANIZATION_TYPE_Transport: type 2",
          "ORGANIZATION_TYPE_Transport: type 4",
          "ORGANIZATION_TYPE_University",
          "ORGANIZATION_TYPE_XNA",
          "REGION_POPULATION_RELATIVE",
          "REGION_RATING_CLIENT",
          "REGION_RATING_CLIENT_W_CITY",
          "REG_CITY_NOT_LIVE_CITY",
          "REG_CITY_NOT_WORK_CITY",
          "REG_REGION_NOT_LIVE_REGION",
          "REG_REGION_NOT_WORK_REGION",
          "WEEKDAY_APPR_PROCESS_START_MONDAY",
          "WEEKDAY_APPR_PROCESS_START_SATURDAY",
          "WEEKDAY_APPR_PROCESS_START_SUNDAY",
          "WEEKDAY_APPR_PROCESS_START_THURSDAY",
          "YEAR_EMPLOYED",
          "NAME_CONTRACT_TYPE_Cash loans",
          "ORGANIZATION_TYPE_Bank",
          "ORGANIZATION_TYPE_Business Entity Type 3",
          "ORGANIZATION_TYPE_Restaurant",
          "AMT_CREDIT_LOG",
          "ORGANIZATION_TYPE_Housing",
          "ORGANIZATION_TYPE_Self-employed",
          "ORGANIZATION_TYPE_Construction",
          "OCCUPATION_TYPE_HR staff",
          "WEEKDAY_APPR_PROCESS_START_FRIDAY",
          "ORGANIZATION_TYPE_Business Entity Type 2",
          "AMT_INCOME_TOTAL_PER_MEMBER",
          "AMT_INCOME_TOTAL_POLY^3",
          "NAME_FAMILY_STATUS_Civil marriage",
          "WEEKDAY_APPR_PROCESS_START_WEDNESDAY",
          "NAME_TYPE_SUITE_Spouse, partner",
          "OCCUPATION_TYPE_Core staff",
          "NAME_EDUCATION_TYPE_Incomplete higher",
          "NAME_HOUSING_TYPE_Office apartment",
          "ORGANIZATION_TYPE_Electricity",
          "AMT_INCOME_TOTAL_POLY",
          "ORGANIZATION_TYPE_Industry: type 2",
          "OCCUPATION_TYPE_Security staff",
          "YEAR_REGISTRATION",
          "NAME_TYPE_SUITE_nan",
          "OCCUPATION_TYPE_Waiters/barmen staff",
          "WEEKDAY_APPR_PROCESS_START_TUESDAY",
          "NAME_CONTRACT_TYPE_Revolving loans",
          "OCCUPATION_TYPE_Sales staff",
          "OCCUPATION_TYPE_nan",
          "AMT_INCOME_TOTAL_LOG",
          "NAME_TYPE_SUITE_Group of people",
          "ORGANIZATION_TYPE_Cleaning",
          "OCCUPATION_TYPE_Drivers",
          "NAME_TYPE_SUITE_Children",
          "ORGANIZATION_TYPE_Kindergarten",
          "AMT_INCOME_TOTAL_POLY^2",
          "ORGANIZATION_TYPE_Legal Services",
          "AMT_ANNUITY_LOG",
          "NAME_INCOME_TYPE_Working",
          "ORGANIZATION_TYPE_Transport: type 3",
          "NAME_HOUSING_TYPE_Rented apartment",
          "FLAG_DOCUMENT_3",
          "OBS_30_CNT_SOCIAL_CIRCLE",
          "FLAG_OWN_REALTY_N",
          "YEARS_BEGINEXPLUATATION_AVG",
          "FLAG_PHONE",
          "NAME_EDUCATION_TYPE_Higher education",
          "OCCUPATION_TYPE_Cooking staff",
          "OCCUPATION_TYPE_Laborers",
          "OBS_60_CNT_SOCIAL_CIRCLE",
          "NAME_TYPE_SUITE_Family",
          "AMT_CREDIT",
          "FLAG_OWN_CAR_Y",
          "NAME_EDUCATION_TYPE_Secondary / secondary special",
          "NAME_HOUSING_TYPE_With parents",
          "NAME_FAMILY_STATUS_Married",
          "AMT_REQ_CREDIT_BUREAU_YEAR",
          "ORGANIZATION_TYPE_Industry: type 13",
          "CODE_GENDER_F",
          "AMT_CREDIT_POLY AMT_INCOME_TOTAL_POLY",
          "YEARS_BEGINEXPLUATATION_MODE",
          "AMT_INCOME_TOTAL",
          "AMT_CREDIT_POLY",
          "AMT_GOODS_PRICE",
          "DAYS_BIRTH",
          "AMT_ANNUITY",
          "HOUR_APPR_PROCESS_START",
          "CODE_GENDER_M",
          "OCCUPATION_TYPE_Low-skill Laborers",
          "AMT_CREDIT_POLY^3",
          "DAYS_LAST_PHONE_CHANGE",
          "AMT_CREDIT_POLY AMT_INCOME_TOTAL_POLY^2",
          "CREDIT_PER_MEMBER",
          "AMT_CREDIT_PER_AGE",
          "AMT_CREDIT_POLY^2",
          "AMT_INCOME_TOTAL_PER_AGE",
          "DAYS_REGISTRATION",
          "CREDIT_PER_INCOME",
          "YEARS_BEGINEXPLUATATION_MEDI",
          "AMT_CREDIT_PER_ANNUITY",
          "AMT_CREDIT_POLY^2 AMT_INCOME_TOTAL_POLY",
          "DAYS_EMPLOYED",
          "ANNUITY_PER_INCOME",
          "DAYS_ID_PUBLISH",
          "EXT_SOURCE_2",
          "EXT_SOURCE_3"
         ]
        }
       ],
       "layout": {
        "height": 4000,
        "margin": {
         "l": 300
        },
        "title": "Importância das features",
        "width": 900,
        "yaxis": {
         "showgrid": true
        }
       }
      },
      "text/html": [
       "<div id=\"8036825f-95c5-43d1-af2b-ddc520e77848\" style=\"height: 4000px; width: 900px;\" class=\"plotly-graph-div\"></div><script type=\"text/javascript\">require([\"plotly\"], function(Plotly) { window.PLOTLYENV=window.PLOTLYENV || {};window.PLOTLYENV.BASE_URL=\"https://plot.ly\";Plotly.newPlot(\"8036825f-95c5-43d1-af2b-ddc520e77848\", [{\"marker\": {\"color\": [0.0, 0.0, 0.0, 0.0, 0.0, 0.0, 0.0, 0.0, 0.0, 0.0, 0.0, 0.0, 0.0, 0.0, 0.0, 0.0, 0.0, 0.0, 0.0, 0.0, 0.0, 0.0, 0.0, 0.0, 0.0, 0.0, 0.0, 0.0, 0.0, 0.0, 0.0, 0.0, 0.0, 0.0, 0.0, 0.0, 0.0, 0.0, 0.0, 0.0, 0.0, 0.0, 0.0, 0.0, 0.0, 0.0, 0.0, 0.0, 0.0, 0.0, 0.0, 0.0, 0.0, 0.0, 0.0, 0.0, 0.0, 0.0, 0.0, 0.0, 0.0, 0.0, 0.0, 0.0, 0.0, 0.0, 0.0, 0.0, 0.0, 0.0, 0.0, 0.0, 0.0, 0.0, 0.0, 0.0, 0.0, 0.0, 0.0, 0.0, 0.0, 0.0, 0.0, 0.0, 0.0, 0.0, 0.0, 0.0, 0.0, 0.0, 0.0, 0.0, 0.0, 0.0, 0.0, 0.0, 0.0, 0.0, 0.0, 0.0, 0.0, 0.0, 0.0, 0.0, 0.0, 0.0, 0.0, 0.0, 0.0, 0.0, 0.0, 0.0, 0.0, 0.0, 0.0, 0.0, 0.0, 0.0, 0.0, 0.0, 0.0, 0.0, 0.0, 0.0, 0.0, 0.0, 0.0, 0.0, 0.0, 0.0, 0.0, 0.0, 0.0, 0.0, 0.0, 0.0, 0.0, 0.0, 0.0, 0.0, 0.0, 0.0, 0.0, 0.0, 0.0, 0.0, 0.0, 0.0, 0.0, 0.0, 0.0, 0.0, 0.0, 0.0, 0.0, 0.0, 0.0, 0.0, 0.0, 0.0, 0.0, 0.0, 0.0, 0.0, 0.0, 0.0, 0.0, 0.0, 0.0, 0.0, 6.148954295121838e-08, 0.0005911243930115693, 0.00061023922746636, 0.001111993570618346, 0.001218590863212066, 0.0012204201416554786, 0.001253734748009814, 0.0012778085838116822, 0.0014696247827685604, 0.0014771388399899131, 0.0015257928310974172, 0.0017585445300000266, 0.00192969694229352, 0.001943621198750431, 0.002015847558841915, 0.0020741220719496193, 0.002117014669628676, 0.0022956979072829074, 0.00234303551861185, 0.0023936407776277025, 0.0025272833554531404, 0.0026065928282293237, 0.002767075856036654, 0.00277824766081995, 0.0027947322848245353, 0.0029192058558501688, 0.00294993568329533, 0.003034436607213735, 0.0031584266750483707, 0.003178762561382551, 0.003254059921775736, 0.003368490349036757, 0.0033822349041226518, 0.003435085995827429, 0.0035602415674510428, 0.003580535634927915, 0.003617152893064801, 0.0038654566770736027, 0.0038941882932635474, 0.004080626945323943, 0.004189320008521776, 0.004193744852504036, 0.004717534331341, 0.004964718633039195, 0.005196598317087741, 0.005212557123560974, 0.005386930129493076, 0.00539839309690986, 0.005530929621322871, 0.0057094753917405995, 0.0059196265671716064, 0.0060347765952158475, 0.0060745830593145755, 0.006106106791825774, 0.006158423485867479, 0.006216386877104589, 0.006324985243685441, 0.007326991596796609, 0.008454837780024574, 0.008653108682554205, 0.008812322637895532, 0.010048747407997296, 0.010646373620178453, 0.01168086614767548, 0.01169867787468619, 0.012040215016277247, 0.01217194979704381, 0.012484876016859523, 0.013032814010348797, 0.013567861183624248, 0.0140650852612756, 0.01697872886694824, 0.017644748969909318, 0.01883307297098423, 0.019899968220826115, 0.024609676359228585, 0.02472420068875465, 0.025514964314461673, 0.028696299308362806, 0.02901124081684272, 0.03240040880740961, 0.0367845358069597, 0.03795923378472825, 0.03831436420162226, 0.03919805761848015, 0.13299948467865438, 0.1330306742306914], \"colorscale\": \"Jet\", \"reversescale\": true}, \"name\": \"Import\\u00e2ncia das features\", \"orientation\": \"h\", \"x\": [0.0, 0.0, 0.0, 0.0, 0.0, 0.0, 0.0, 0.0, 0.0, 0.0, 0.0, 0.0, 0.0, 0.0, 0.0, 0.0, 0.0, 0.0, 0.0, 0.0, 0.0, 0.0, 0.0, 0.0, 0.0, 0.0, 0.0, 0.0, 0.0, 0.0, 0.0, 0.0, 0.0, 0.0, 0.0, 0.0, 0.0, 0.0, 0.0, 0.0, 0.0, 0.0, 0.0, 0.0, 0.0, 0.0, 0.0, 0.0, 0.0, 0.0, 0.0, 0.0, 0.0, 0.0, 0.0, 0.0, 0.0, 0.0, 0.0, 0.0, 0.0, 0.0, 0.0, 0.0, 0.0, 0.0, 0.0, 0.0, 0.0, 0.0, 0.0, 0.0, 0.0, 0.0, 0.0, 0.0, 0.0, 0.0, 0.0, 0.0, 0.0, 0.0, 0.0, 0.0, 0.0, 0.0, 0.0, 0.0, 0.0, 0.0, 0.0, 0.0, 0.0, 0.0, 0.0, 0.0, 0.0, 0.0, 0.0, 0.0, 0.0, 0.0, 0.0, 0.0, 0.0, 0.0, 0.0, 0.0, 0.0, 0.0, 0.0, 0.0, 0.0, 0.0, 0.0, 0.0, 0.0, 0.0, 0.0, 0.0, 0.0, 0.0, 0.0, 0.0, 0.0, 0.0, 0.0, 0.0, 0.0, 0.0, 0.0, 0.0, 0.0, 0.0, 0.0, 0.0, 0.0, 0.0, 0.0, 0.0, 0.0, 0.0, 0.0, 0.0, 0.0, 0.0, 0.0, 0.0, 0.0, 0.0, 0.0, 0.0, 0.0, 0.0, 0.0, 0.0, 0.0, 0.0, 0.0, 0.0, 0.0, 0.0, 0.0, 0.0, 0.0, 0.0, 0.0, 0.0, 0.0, 0.0, 6.148954295121838e-08, 0.0005911243930115693, 0.00061023922746636, 0.001111993570618346, 0.001218590863212066, 0.0012204201416554786, 0.001253734748009814, 0.0012778085838116822, 0.0014696247827685604, 0.0014771388399899131, 0.0015257928310974172, 0.0017585445300000266, 0.00192969694229352, 0.001943621198750431, 0.002015847558841915, 0.0020741220719496193, 0.002117014669628676, 0.0022956979072829074, 0.00234303551861185, 0.0023936407776277025, 0.0025272833554531404, 0.0026065928282293237, 0.002767075856036654, 0.00277824766081995, 0.0027947322848245353, 0.0029192058558501688, 0.00294993568329533, 0.003034436607213735, 0.0031584266750483707, 0.003178762561382551, 0.003254059921775736, 0.003368490349036757, 0.0033822349041226518, 0.003435085995827429, 0.0035602415674510428, 0.003580535634927915, 0.003617152893064801, 0.0038654566770736027, 0.0038941882932635474, 0.004080626945323943, 0.004189320008521776, 0.004193744852504036, 0.004717534331341, 0.004964718633039195, 0.005196598317087741, 0.005212557123560974, 0.005386930129493076, 0.00539839309690986, 0.005530929621322871, 0.0057094753917405995, 0.0059196265671716064, 0.0060347765952158475, 0.0060745830593145755, 0.006106106791825774, 0.006158423485867479, 0.006216386877104589, 0.006324985243685441, 0.007326991596796609, 0.008454837780024574, 0.008653108682554205, 0.008812322637895532, 0.010048747407997296, 0.010646373620178453, 0.01168086614767548, 0.01169867787468619, 0.012040215016277247, 0.01217194979704381, 0.012484876016859523, 0.013032814010348797, 0.013567861183624248, 0.0140650852612756, 0.01697872886694824, 0.017644748969909318, 0.01883307297098423, 0.019899968220826115, 0.024609676359228585, 0.02472420068875465, 0.025514964314461673, 0.028696299308362806, 0.02901124081684272, 0.03240040880740961, 0.0367845358069597, 0.03795923378472825, 0.03831436420162226, 0.03919805761848015, 0.13299948467865438, 0.1330306742306914], \"y\": [\"1\", \"AGE\", \"AMT_CREDIT_POLY AMT_INCOME_TOTAL_POLY DAYS_BIRTH_POLY\", \"AMT_CREDIT_POLY AMT_INCOME_TOTAL_POLY EXT_SOURCE_2_POLY\", \"AMT_CREDIT_POLY AMT_INCOME_TOTAL_POLY EXT_SOURCE_3_POLY\", \"AMT_CREDIT_POLY DAYS_BIRTH_POLY\", \"AMT_CREDIT_POLY DAYS_BIRTH_POLY EXT_SOURCE_2_POLY\", \"AMT_CREDIT_POLY DAYS_BIRTH_POLY EXT_SOURCE_3_POLY\", \"AMT_CREDIT_POLY DAYS_BIRTH_POLY^2\", \"AMT_CREDIT_POLY EXT_SOURCE_2_POLY\", \"AMT_CREDIT_POLY EXT_SOURCE_2_POLY EXT_SOURCE_3_POLY\", \"AMT_CREDIT_POLY EXT_SOURCE_2_POLY^2\", \"AMT_CREDIT_POLY EXT_SOURCE_3_POLY\", \"AMT_CREDIT_POLY EXT_SOURCE_3_POLY^2\", \"AMT_CREDIT_POLY^2 DAYS_BIRTH_POLY\", \"AMT_CREDIT_POLY^2 EXT_SOURCE_2_POLY\", \"AMT_CREDIT_POLY^2 EXT_SOURCE_3_POLY\", \"AMT_INCOME_TOTAL_POLY DAYS_BIRTH_POLY\", \"AMT_INCOME_TOTAL_POLY DAYS_BIRTH_POLY EXT_SOURCE_2_POLY\", \"AMT_INCOME_TOTAL_POLY DAYS_BIRTH_POLY EXT_SOURCE_3_POLY\", \"AMT_INCOME_TOTAL_POLY DAYS_BIRTH_POLY^2\", \"AMT_INCOME_TOTAL_POLY EXT_SOURCE_2_POLY\", \"AMT_INCOME_TOTAL_POLY EXT_SOURCE_2_POLY EXT_SOURCE_3_POLY\", \"AMT_INCOME_TOTAL_POLY EXT_SOURCE_2_POLY^2\", \"AMT_INCOME_TOTAL_POLY EXT_SOURCE_3_POLY\", \"AMT_INCOME_TOTAL_POLY EXT_SOURCE_3_POLY^2\", \"AMT_INCOME_TOTAL_POLY^2 DAYS_BIRTH_POLY\", \"AMT_INCOME_TOTAL_POLY^2 EXT_SOURCE_2_POLY\", \"AMT_INCOME_TOTAL_POLY^2 EXT_SOURCE_3_POLY\", \"AMT_REQ_CREDIT_BUREAU_DAY\", \"AMT_REQ_CREDIT_BUREAU_HOUR\", \"AMT_REQ_CREDIT_BUREAU_MON\", \"AMT_REQ_CREDIT_BUREAU_QRT\", \"AMT_REQ_CREDIT_BUREAU_WEEK\", \"CNT_CHILDREN\", \"CNT_FAM_MEMBERS\", \"DAYS_BIRTH_POLY\", \"DAYS_BIRTH_POLY EXT_SOURCE_2_POLY\", \"DAYS_BIRTH_POLY EXT_SOURCE_2_POLY EXT_SOURCE_3_POLY\", \"DAYS_BIRTH_POLY EXT_SOURCE_2_POLY^2\", \"DAYS_BIRTH_POLY EXT_SOURCE_3_POLY\", \"DAYS_BIRTH_POLY EXT_SOURCE_3_POLY^2\", \"DAYS_BIRTH_POLY^2\", \"DAYS_BIRTH_POLY^2 EXT_SOURCE_2_POLY\", \"DAYS_BIRTH_POLY^2 EXT_SOURCE_3_POLY\", \"DAYS_BIRTH_POLY^3\", \"DEF_30_CNT_SOCIAL_CIRCLE\", \"DEF_60_CNT_SOCIAL_CIRCLE\", \"EMERGENCYSTATE_MODE_No\", \"EMERGENCYSTATE_MODE_Yes\", \"EMERGENCYSTATE_MODE_nan\", \"EXT_SOURCE_2_POLY\", \"EXT_SOURCE_2_POLY EXT_SOURCE_3_POLY\", \"EXT_SOURCE_2_POLY EXT_SOURCE_3_POLY^2\", \"EXT_SOURCE_2_POLY^2\", \"EXT_SOURCE_2_POLY^2 EXT_SOURCE_3_POLY\", \"EXT_SOURCE_2_POLY^3\", \"EXT_SOURCE_3_POLY\", \"EXT_SOURCE_3_POLY^2\", \"EXT_SOURCE_3_POLY^3\", \"FLAG_CONT_MOBILE\", \"FLAG_DOCUMENT_10\", \"FLAG_DOCUMENT_11\", \"FLAG_DOCUMENT_12\", \"FLAG_DOCUMENT_13\", \"FLAG_DOCUMENT_14\", \"FLAG_DOCUMENT_15\", \"FLAG_DOCUMENT_16\", \"FLAG_DOCUMENT_17\", \"FLAG_DOCUMENT_18\", \"FLAG_DOCUMENT_19\", \"FLAG_DOCUMENT_2\", \"FLAG_DOCUMENT_20\", \"FLAG_DOCUMENT_21\", \"FLAG_DOCUMENT_4\", \"FLAG_DOCUMENT_5\", \"FLAG_DOCUMENT_6\", \"FLAG_DOCUMENT_7\", \"FLAG_DOCUMENT_8\", \"FLAG_DOCUMENT_9\", \"FLAG_EMAIL\", \"FLAG_EMP_PHONE\", \"FLAG_MOBIL\", \"FLAG_OWN_CAR_N\", \"FLAG_OWN_REALTY_Y\", \"FLAG_WORK_PHONE\", \"LIVE_CITY_NOT_WORK_CITY\", \"LIVE_REGION_NOT_WORK_REGION\", \"NAME_EDUCATION_TYPE_Academic degree\", \"NAME_EDUCATION_TYPE_Lower secondary\", \"NAME_FAMILY_STATUS_Separated\", \"NAME_FAMILY_STATUS_Single / not married\", \"NAME_FAMILY_STATUS_Widow\", \"NAME_HOUSING_TYPE_Co-op apartment\", \"NAME_HOUSING_TYPE_House / apartment\", \"NAME_HOUSING_TYPE_Municipal apartment\", \"NAME_INCOME_TYPE_Businessman\", \"NAME_INCOME_TYPE_Commercial associate\", \"NAME_INCOME_TYPE_Pensioner\", \"NAME_INCOME_TYPE_State servant\", \"NAME_INCOME_TYPE_Student\", \"NAME_INCOME_TYPE_Unemployed\", \"NAME_TYPE_SUITE_Other_A\", \"NAME_TYPE_SUITE_Other_B\", \"NAME_TYPE_SUITE_Unaccompanied\", \"OCCUPATION_TYPE_Accountants\", \"OCCUPATION_TYPE_Cleaning staff\", \"OCCUPATION_TYPE_High skill tech staff\", \"OCCUPATION_TYPE_IT staff\", \"OCCUPATION_TYPE_Managers\", \"OCCUPATION_TYPE_Medicine staff\", \"OCCUPATION_TYPE_Private service staff\", \"OCCUPATION_TYPE_Realty agents\", \"OCCUPATION_TYPE_Secretaries\", \"ORGANIZATION_TYPE_Advertising\", \"ORGANIZATION_TYPE_Agriculture\", \"ORGANIZATION_TYPE_Business Entity Type 1\", \"ORGANIZATION_TYPE_Culture\", \"ORGANIZATION_TYPE_Emergency\", \"ORGANIZATION_TYPE_Government\", \"ORGANIZATION_TYPE_Hotel\", \"ORGANIZATION_TYPE_Industry: type 1\", \"ORGANIZATION_TYPE_Industry: type 10\", \"ORGANIZATION_TYPE_Industry: type 11\", \"ORGANIZATION_TYPE_Industry: type 12\", \"ORGANIZATION_TYPE_Industry: type 3\", \"ORGANIZATION_TYPE_Industry: type 4\", \"ORGANIZATION_TYPE_Industry: type 5\", \"ORGANIZATION_TYPE_Industry: type 6\", \"ORGANIZATION_TYPE_Industry: type 7\", \"ORGANIZATION_TYPE_Industry: type 8\", \"ORGANIZATION_TYPE_Industry: type 9\", \"ORGANIZATION_TYPE_Insurance\", \"ORGANIZATION_TYPE_Medicine\", \"ORGANIZATION_TYPE_Military\", \"ORGANIZATION_TYPE_Mobile\", \"ORGANIZATION_TYPE_Other\", \"ORGANIZATION_TYPE_Police\", \"ORGANIZATION_TYPE_Postal\", \"ORGANIZATION_TYPE_Realtor\", \"ORGANIZATION_TYPE_Religion\", \"ORGANIZATION_TYPE_School\", \"ORGANIZATION_TYPE_Security\", \"ORGANIZATION_TYPE_Security Ministries\", \"ORGANIZATION_TYPE_Services\", \"ORGANIZATION_TYPE_Telecom\", \"ORGANIZATION_TYPE_Trade: type 1\", \"ORGANIZATION_TYPE_Trade: type 2\", \"ORGANIZATION_TYPE_Trade: type 3\", \"ORGANIZATION_TYPE_Trade: type 4\", \"ORGANIZATION_TYPE_Trade: type 5\", \"ORGANIZATION_TYPE_Trade: type 6\", \"ORGANIZATION_TYPE_Trade: type 7\", \"ORGANIZATION_TYPE_Transport: type 1\", \"ORGANIZATION_TYPE_Transport: type 2\", \"ORGANIZATION_TYPE_Transport: type 4\", \"ORGANIZATION_TYPE_University\", \"ORGANIZATION_TYPE_XNA\", \"REGION_POPULATION_RELATIVE\", \"REGION_RATING_CLIENT\", \"REGION_RATING_CLIENT_W_CITY\", \"REG_CITY_NOT_LIVE_CITY\", \"REG_CITY_NOT_WORK_CITY\", \"REG_REGION_NOT_LIVE_REGION\", \"REG_REGION_NOT_WORK_REGION\", \"WEEKDAY_APPR_PROCESS_START_MONDAY\", \"WEEKDAY_APPR_PROCESS_START_SATURDAY\", \"WEEKDAY_APPR_PROCESS_START_SUNDAY\", \"WEEKDAY_APPR_PROCESS_START_THURSDAY\", \"YEAR_EMPLOYED\", \"NAME_CONTRACT_TYPE_Cash loans\", \"ORGANIZATION_TYPE_Bank\", \"ORGANIZATION_TYPE_Business Entity Type 3\", \"ORGANIZATION_TYPE_Restaurant\", \"AMT_CREDIT_LOG\", \"ORGANIZATION_TYPE_Housing\", \"ORGANIZATION_TYPE_Self-employed\", \"ORGANIZATION_TYPE_Construction\", \"OCCUPATION_TYPE_HR staff\", \"WEEKDAY_APPR_PROCESS_START_FRIDAY\", \"ORGANIZATION_TYPE_Business Entity Type 2\", \"AMT_INCOME_TOTAL_PER_MEMBER\", \"AMT_INCOME_TOTAL_POLY^3\", \"NAME_FAMILY_STATUS_Civil marriage\", \"WEEKDAY_APPR_PROCESS_START_WEDNESDAY\", \"NAME_TYPE_SUITE_Spouse, partner\", \"OCCUPATION_TYPE_Core staff\", \"NAME_EDUCATION_TYPE_Incomplete higher\", \"NAME_HOUSING_TYPE_Office apartment\", \"ORGANIZATION_TYPE_Electricity\", \"AMT_INCOME_TOTAL_POLY\", \"ORGANIZATION_TYPE_Industry: type 2\", \"OCCUPATION_TYPE_Security staff\", \"YEAR_REGISTRATION\", \"NAME_TYPE_SUITE_nan\", \"OCCUPATION_TYPE_Waiters/barmen staff\", \"WEEKDAY_APPR_PROCESS_START_TUESDAY\", \"NAME_CONTRACT_TYPE_Revolving loans\", \"OCCUPATION_TYPE_Sales staff\", \"OCCUPATION_TYPE_nan\", \"AMT_INCOME_TOTAL_LOG\", \"NAME_TYPE_SUITE_Group of people\", \"ORGANIZATION_TYPE_Cleaning\", \"OCCUPATION_TYPE_Drivers\", \"NAME_TYPE_SUITE_Children\", \"ORGANIZATION_TYPE_Kindergarten\", \"AMT_INCOME_TOTAL_POLY^2\", \"ORGANIZATION_TYPE_Legal Services\", \"AMT_ANNUITY_LOG\", \"NAME_INCOME_TYPE_Working\", \"ORGANIZATION_TYPE_Transport: type 3\", \"NAME_HOUSING_TYPE_Rented apartment\", \"FLAG_DOCUMENT_3\", \"OBS_30_CNT_SOCIAL_CIRCLE\", \"FLAG_OWN_REALTY_N\", \"YEARS_BEGINEXPLUATATION_AVG\", \"FLAG_PHONE\", \"NAME_EDUCATION_TYPE_Higher education\", \"OCCUPATION_TYPE_Cooking staff\", \"OCCUPATION_TYPE_Laborers\", \"OBS_60_CNT_SOCIAL_CIRCLE\", \"NAME_TYPE_SUITE_Family\", \"AMT_CREDIT\", \"FLAG_OWN_CAR_Y\", \"NAME_EDUCATION_TYPE_Secondary / secondary special\", \"NAME_HOUSING_TYPE_With parents\", \"NAME_FAMILY_STATUS_Married\", \"AMT_REQ_CREDIT_BUREAU_YEAR\", \"ORGANIZATION_TYPE_Industry: type 13\", \"CODE_GENDER_F\", \"AMT_CREDIT_POLY AMT_INCOME_TOTAL_POLY\", \"YEARS_BEGINEXPLUATATION_MODE\", \"AMT_INCOME_TOTAL\", \"AMT_CREDIT_POLY\", \"AMT_GOODS_PRICE\", \"DAYS_BIRTH\", \"AMT_ANNUITY\", \"HOUR_APPR_PROCESS_START\", \"CODE_GENDER_M\", \"OCCUPATION_TYPE_Low-skill Laborers\", \"AMT_CREDIT_POLY^3\", \"DAYS_LAST_PHONE_CHANGE\", \"AMT_CREDIT_POLY AMT_INCOME_TOTAL_POLY^2\", \"CREDIT_PER_MEMBER\", \"AMT_CREDIT_PER_AGE\", \"AMT_CREDIT_POLY^2\", \"AMT_INCOME_TOTAL_PER_AGE\", \"DAYS_REGISTRATION\", \"CREDIT_PER_INCOME\", \"YEARS_BEGINEXPLUATATION_MEDI\", \"AMT_CREDIT_PER_ANNUITY\", \"AMT_CREDIT_POLY^2 AMT_INCOME_TOTAL_POLY\", \"DAYS_EMPLOYED\", \"ANNUITY_PER_INCOME\", \"DAYS_ID_PUBLISH\", \"EXT_SOURCE_2\", \"EXT_SOURCE_3\"], \"type\": \"bar\", \"uid\": \"301d8e24-edeb-11e8-bfb1-605718f38acb\"}], {\"height\": 4000, \"margin\": {\"l\": 300}, \"title\": \"Import\\u00e2ncia das features\", \"width\": 900, \"yaxis\": {\"showgrid\": true}}, {\"showLink\": true, \"linkText\": \"Export to plot.ly\"})});</script>"
      ],
      "text/vnd.plotly.v1+html": [
       "<div id=\"8036825f-95c5-43d1-af2b-ddc520e77848\" style=\"height: 4000px; width: 900px;\" class=\"plotly-graph-div\"></div><script type=\"text/javascript\">require([\"plotly\"], function(Plotly) { window.PLOTLYENV=window.PLOTLYENV || {};window.PLOTLYENV.BASE_URL=\"https://plot.ly\";Plotly.newPlot(\"8036825f-95c5-43d1-af2b-ddc520e77848\", [{\"marker\": {\"color\": [0.0, 0.0, 0.0, 0.0, 0.0, 0.0, 0.0, 0.0, 0.0, 0.0, 0.0, 0.0, 0.0, 0.0, 0.0, 0.0, 0.0, 0.0, 0.0, 0.0, 0.0, 0.0, 0.0, 0.0, 0.0, 0.0, 0.0, 0.0, 0.0, 0.0, 0.0, 0.0, 0.0, 0.0, 0.0, 0.0, 0.0, 0.0, 0.0, 0.0, 0.0, 0.0, 0.0, 0.0, 0.0, 0.0, 0.0, 0.0, 0.0, 0.0, 0.0, 0.0, 0.0, 0.0, 0.0, 0.0, 0.0, 0.0, 0.0, 0.0, 0.0, 0.0, 0.0, 0.0, 0.0, 0.0, 0.0, 0.0, 0.0, 0.0, 0.0, 0.0, 0.0, 0.0, 0.0, 0.0, 0.0, 0.0, 0.0, 0.0, 0.0, 0.0, 0.0, 0.0, 0.0, 0.0, 0.0, 0.0, 0.0, 0.0, 0.0, 0.0, 0.0, 0.0, 0.0, 0.0, 0.0, 0.0, 0.0, 0.0, 0.0, 0.0, 0.0, 0.0, 0.0, 0.0, 0.0, 0.0, 0.0, 0.0, 0.0, 0.0, 0.0, 0.0, 0.0, 0.0, 0.0, 0.0, 0.0, 0.0, 0.0, 0.0, 0.0, 0.0, 0.0, 0.0, 0.0, 0.0, 0.0, 0.0, 0.0, 0.0, 0.0, 0.0, 0.0, 0.0, 0.0, 0.0, 0.0, 0.0, 0.0, 0.0, 0.0, 0.0, 0.0, 0.0, 0.0, 0.0, 0.0, 0.0, 0.0, 0.0, 0.0, 0.0, 0.0, 0.0, 0.0, 0.0, 0.0, 0.0, 0.0, 0.0, 0.0, 0.0, 0.0, 0.0, 0.0, 0.0, 0.0, 0.0, 6.148954295121838e-08, 0.0005911243930115693, 0.00061023922746636, 0.001111993570618346, 0.001218590863212066, 0.0012204201416554786, 0.001253734748009814, 0.0012778085838116822, 0.0014696247827685604, 0.0014771388399899131, 0.0015257928310974172, 0.0017585445300000266, 0.00192969694229352, 0.001943621198750431, 0.002015847558841915, 0.0020741220719496193, 0.002117014669628676, 0.0022956979072829074, 0.00234303551861185, 0.0023936407776277025, 0.0025272833554531404, 0.0026065928282293237, 0.002767075856036654, 0.00277824766081995, 0.0027947322848245353, 0.0029192058558501688, 0.00294993568329533, 0.003034436607213735, 0.0031584266750483707, 0.003178762561382551, 0.003254059921775736, 0.003368490349036757, 0.0033822349041226518, 0.003435085995827429, 0.0035602415674510428, 0.003580535634927915, 0.003617152893064801, 0.0038654566770736027, 0.0038941882932635474, 0.004080626945323943, 0.004189320008521776, 0.004193744852504036, 0.004717534331341, 0.004964718633039195, 0.005196598317087741, 0.005212557123560974, 0.005386930129493076, 0.00539839309690986, 0.005530929621322871, 0.0057094753917405995, 0.0059196265671716064, 0.0060347765952158475, 0.0060745830593145755, 0.006106106791825774, 0.006158423485867479, 0.006216386877104589, 0.006324985243685441, 0.007326991596796609, 0.008454837780024574, 0.008653108682554205, 0.008812322637895532, 0.010048747407997296, 0.010646373620178453, 0.01168086614767548, 0.01169867787468619, 0.012040215016277247, 0.01217194979704381, 0.012484876016859523, 0.013032814010348797, 0.013567861183624248, 0.0140650852612756, 0.01697872886694824, 0.017644748969909318, 0.01883307297098423, 0.019899968220826115, 0.024609676359228585, 0.02472420068875465, 0.025514964314461673, 0.028696299308362806, 0.02901124081684272, 0.03240040880740961, 0.0367845358069597, 0.03795923378472825, 0.03831436420162226, 0.03919805761848015, 0.13299948467865438, 0.1330306742306914], \"colorscale\": \"Jet\", \"reversescale\": true}, \"name\": \"Import\\u00e2ncia das features\", \"orientation\": \"h\", \"x\": [0.0, 0.0, 0.0, 0.0, 0.0, 0.0, 0.0, 0.0, 0.0, 0.0, 0.0, 0.0, 0.0, 0.0, 0.0, 0.0, 0.0, 0.0, 0.0, 0.0, 0.0, 0.0, 0.0, 0.0, 0.0, 0.0, 0.0, 0.0, 0.0, 0.0, 0.0, 0.0, 0.0, 0.0, 0.0, 0.0, 0.0, 0.0, 0.0, 0.0, 0.0, 0.0, 0.0, 0.0, 0.0, 0.0, 0.0, 0.0, 0.0, 0.0, 0.0, 0.0, 0.0, 0.0, 0.0, 0.0, 0.0, 0.0, 0.0, 0.0, 0.0, 0.0, 0.0, 0.0, 0.0, 0.0, 0.0, 0.0, 0.0, 0.0, 0.0, 0.0, 0.0, 0.0, 0.0, 0.0, 0.0, 0.0, 0.0, 0.0, 0.0, 0.0, 0.0, 0.0, 0.0, 0.0, 0.0, 0.0, 0.0, 0.0, 0.0, 0.0, 0.0, 0.0, 0.0, 0.0, 0.0, 0.0, 0.0, 0.0, 0.0, 0.0, 0.0, 0.0, 0.0, 0.0, 0.0, 0.0, 0.0, 0.0, 0.0, 0.0, 0.0, 0.0, 0.0, 0.0, 0.0, 0.0, 0.0, 0.0, 0.0, 0.0, 0.0, 0.0, 0.0, 0.0, 0.0, 0.0, 0.0, 0.0, 0.0, 0.0, 0.0, 0.0, 0.0, 0.0, 0.0, 0.0, 0.0, 0.0, 0.0, 0.0, 0.0, 0.0, 0.0, 0.0, 0.0, 0.0, 0.0, 0.0, 0.0, 0.0, 0.0, 0.0, 0.0, 0.0, 0.0, 0.0, 0.0, 0.0, 0.0, 0.0, 0.0, 0.0, 0.0, 0.0, 0.0, 0.0, 0.0, 0.0, 6.148954295121838e-08, 0.0005911243930115693, 0.00061023922746636, 0.001111993570618346, 0.001218590863212066, 0.0012204201416554786, 0.001253734748009814, 0.0012778085838116822, 0.0014696247827685604, 0.0014771388399899131, 0.0015257928310974172, 0.0017585445300000266, 0.00192969694229352, 0.001943621198750431, 0.002015847558841915, 0.0020741220719496193, 0.002117014669628676, 0.0022956979072829074, 0.00234303551861185, 0.0023936407776277025, 0.0025272833554531404, 0.0026065928282293237, 0.002767075856036654, 0.00277824766081995, 0.0027947322848245353, 0.0029192058558501688, 0.00294993568329533, 0.003034436607213735, 0.0031584266750483707, 0.003178762561382551, 0.003254059921775736, 0.003368490349036757, 0.0033822349041226518, 0.003435085995827429, 0.0035602415674510428, 0.003580535634927915, 0.003617152893064801, 0.0038654566770736027, 0.0038941882932635474, 0.004080626945323943, 0.004189320008521776, 0.004193744852504036, 0.004717534331341, 0.004964718633039195, 0.005196598317087741, 0.005212557123560974, 0.005386930129493076, 0.00539839309690986, 0.005530929621322871, 0.0057094753917405995, 0.0059196265671716064, 0.0060347765952158475, 0.0060745830593145755, 0.006106106791825774, 0.006158423485867479, 0.006216386877104589, 0.006324985243685441, 0.007326991596796609, 0.008454837780024574, 0.008653108682554205, 0.008812322637895532, 0.010048747407997296, 0.010646373620178453, 0.01168086614767548, 0.01169867787468619, 0.012040215016277247, 0.01217194979704381, 0.012484876016859523, 0.013032814010348797, 0.013567861183624248, 0.0140650852612756, 0.01697872886694824, 0.017644748969909318, 0.01883307297098423, 0.019899968220826115, 0.024609676359228585, 0.02472420068875465, 0.025514964314461673, 0.028696299308362806, 0.02901124081684272, 0.03240040880740961, 0.0367845358069597, 0.03795923378472825, 0.03831436420162226, 0.03919805761848015, 0.13299948467865438, 0.1330306742306914], \"y\": [\"1\", \"AGE\", \"AMT_CREDIT_POLY AMT_INCOME_TOTAL_POLY DAYS_BIRTH_POLY\", \"AMT_CREDIT_POLY AMT_INCOME_TOTAL_POLY EXT_SOURCE_2_POLY\", \"AMT_CREDIT_POLY AMT_INCOME_TOTAL_POLY EXT_SOURCE_3_POLY\", \"AMT_CREDIT_POLY DAYS_BIRTH_POLY\", \"AMT_CREDIT_POLY DAYS_BIRTH_POLY EXT_SOURCE_2_POLY\", \"AMT_CREDIT_POLY DAYS_BIRTH_POLY EXT_SOURCE_3_POLY\", \"AMT_CREDIT_POLY DAYS_BIRTH_POLY^2\", \"AMT_CREDIT_POLY EXT_SOURCE_2_POLY\", \"AMT_CREDIT_POLY EXT_SOURCE_2_POLY EXT_SOURCE_3_POLY\", \"AMT_CREDIT_POLY EXT_SOURCE_2_POLY^2\", \"AMT_CREDIT_POLY EXT_SOURCE_3_POLY\", \"AMT_CREDIT_POLY EXT_SOURCE_3_POLY^2\", \"AMT_CREDIT_POLY^2 DAYS_BIRTH_POLY\", \"AMT_CREDIT_POLY^2 EXT_SOURCE_2_POLY\", \"AMT_CREDIT_POLY^2 EXT_SOURCE_3_POLY\", \"AMT_INCOME_TOTAL_POLY DAYS_BIRTH_POLY\", \"AMT_INCOME_TOTAL_POLY DAYS_BIRTH_POLY EXT_SOURCE_2_POLY\", \"AMT_INCOME_TOTAL_POLY DAYS_BIRTH_POLY EXT_SOURCE_3_POLY\", \"AMT_INCOME_TOTAL_POLY DAYS_BIRTH_POLY^2\", \"AMT_INCOME_TOTAL_POLY EXT_SOURCE_2_POLY\", \"AMT_INCOME_TOTAL_POLY EXT_SOURCE_2_POLY EXT_SOURCE_3_POLY\", \"AMT_INCOME_TOTAL_POLY EXT_SOURCE_2_POLY^2\", \"AMT_INCOME_TOTAL_POLY EXT_SOURCE_3_POLY\", \"AMT_INCOME_TOTAL_POLY EXT_SOURCE_3_POLY^2\", \"AMT_INCOME_TOTAL_POLY^2 DAYS_BIRTH_POLY\", \"AMT_INCOME_TOTAL_POLY^2 EXT_SOURCE_2_POLY\", \"AMT_INCOME_TOTAL_POLY^2 EXT_SOURCE_3_POLY\", \"AMT_REQ_CREDIT_BUREAU_DAY\", \"AMT_REQ_CREDIT_BUREAU_HOUR\", \"AMT_REQ_CREDIT_BUREAU_MON\", \"AMT_REQ_CREDIT_BUREAU_QRT\", \"AMT_REQ_CREDIT_BUREAU_WEEK\", \"CNT_CHILDREN\", \"CNT_FAM_MEMBERS\", \"DAYS_BIRTH_POLY\", \"DAYS_BIRTH_POLY EXT_SOURCE_2_POLY\", \"DAYS_BIRTH_POLY EXT_SOURCE_2_POLY EXT_SOURCE_3_POLY\", \"DAYS_BIRTH_POLY EXT_SOURCE_2_POLY^2\", \"DAYS_BIRTH_POLY EXT_SOURCE_3_POLY\", \"DAYS_BIRTH_POLY EXT_SOURCE_3_POLY^2\", \"DAYS_BIRTH_POLY^2\", \"DAYS_BIRTH_POLY^2 EXT_SOURCE_2_POLY\", \"DAYS_BIRTH_POLY^2 EXT_SOURCE_3_POLY\", \"DAYS_BIRTH_POLY^3\", \"DEF_30_CNT_SOCIAL_CIRCLE\", \"DEF_60_CNT_SOCIAL_CIRCLE\", \"EMERGENCYSTATE_MODE_No\", \"EMERGENCYSTATE_MODE_Yes\", \"EMERGENCYSTATE_MODE_nan\", \"EXT_SOURCE_2_POLY\", \"EXT_SOURCE_2_POLY EXT_SOURCE_3_POLY\", \"EXT_SOURCE_2_POLY EXT_SOURCE_3_POLY^2\", \"EXT_SOURCE_2_POLY^2\", \"EXT_SOURCE_2_POLY^2 EXT_SOURCE_3_POLY\", \"EXT_SOURCE_2_POLY^3\", \"EXT_SOURCE_3_POLY\", \"EXT_SOURCE_3_POLY^2\", \"EXT_SOURCE_3_POLY^3\", \"FLAG_CONT_MOBILE\", \"FLAG_DOCUMENT_10\", \"FLAG_DOCUMENT_11\", \"FLAG_DOCUMENT_12\", \"FLAG_DOCUMENT_13\", \"FLAG_DOCUMENT_14\", \"FLAG_DOCUMENT_15\", \"FLAG_DOCUMENT_16\", \"FLAG_DOCUMENT_17\", \"FLAG_DOCUMENT_18\", \"FLAG_DOCUMENT_19\", \"FLAG_DOCUMENT_2\", \"FLAG_DOCUMENT_20\", \"FLAG_DOCUMENT_21\", \"FLAG_DOCUMENT_4\", \"FLAG_DOCUMENT_5\", \"FLAG_DOCUMENT_6\", \"FLAG_DOCUMENT_7\", \"FLAG_DOCUMENT_8\", \"FLAG_DOCUMENT_9\", \"FLAG_EMAIL\", \"FLAG_EMP_PHONE\", \"FLAG_MOBIL\", \"FLAG_OWN_CAR_N\", \"FLAG_OWN_REALTY_Y\", \"FLAG_WORK_PHONE\", \"LIVE_CITY_NOT_WORK_CITY\", \"LIVE_REGION_NOT_WORK_REGION\", \"NAME_EDUCATION_TYPE_Academic degree\", \"NAME_EDUCATION_TYPE_Lower secondary\", \"NAME_FAMILY_STATUS_Separated\", \"NAME_FAMILY_STATUS_Single / not married\", \"NAME_FAMILY_STATUS_Widow\", \"NAME_HOUSING_TYPE_Co-op apartment\", \"NAME_HOUSING_TYPE_House / apartment\", \"NAME_HOUSING_TYPE_Municipal apartment\", \"NAME_INCOME_TYPE_Businessman\", \"NAME_INCOME_TYPE_Commercial associate\", \"NAME_INCOME_TYPE_Pensioner\", \"NAME_INCOME_TYPE_State servant\", \"NAME_INCOME_TYPE_Student\", \"NAME_INCOME_TYPE_Unemployed\", \"NAME_TYPE_SUITE_Other_A\", \"NAME_TYPE_SUITE_Other_B\", \"NAME_TYPE_SUITE_Unaccompanied\", \"OCCUPATION_TYPE_Accountants\", \"OCCUPATION_TYPE_Cleaning staff\", \"OCCUPATION_TYPE_High skill tech staff\", \"OCCUPATION_TYPE_IT staff\", \"OCCUPATION_TYPE_Managers\", \"OCCUPATION_TYPE_Medicine staff\", \"OCCUPATION_TYPE_Private service staff\", \"OCCUPATION_TYPE_Realty agents\", \"OCCUPATION_TYPE_Secretaries\", \"ORGANIZATION_TYPE_Advertising\", \"ORGANIZATION_TYPE_Agriculture\", \"ORGANIZATION_TYPE_Business Entity Type 1\", \"ORGANIZATION_TYPE_Culture\", \"ORGANIZATION_TYPE_Emergency\", \"ORGANIZATION_TYPE_Government\", \"ORGANIZATION_TYPE_Hotel\", \"ORGANIZATION_TYPE_Industry: type 1\", \"ORGANIZATION_TYPE_Industry: type 10\", \"ORGANIZATION_TYPE_Industry: type 11\", \"ORGANIZATION_TYPE_Industry: type 12\", \"ORGANIZATION_TYPE_Industry: type 3\", \"ORGANIZATION_TYPE_Industry: type 4\", \"ORGANIZATION_TYPE_Industry: type 5\", \"ORGANIZATION_TYPE_Industry: type 6\", \"ORGANIZATION_TYPE_Industry: type 7\", \"ORGANIZATION_TYPE_Industry: type 8\", \"ORGANIZATION_TYPE_Industry: type 9\", \"ORGANIZATION_TYPE_Insurance\", \"ORGANIZATION_TYPE_Medicine\", \"ORGANIZATION_TYPE_Military\", \"ORGANIZATION_TYPE_Mobile\", \"ORGANIZATION_TYPE_Other\", \"ORGANIZATION_TYPE_Police\", \"ORGANIZATION_TYPE_Postal\", \"ORGANIZATION_TYPE_Realtor\", \"ORGANIZATION_TYPE_Religion\", \"ORGANIZATION_TYPE_School\", \"ORGANIZATION_TYPE_Security\", \"ORGANIZATION_TYPE_Security Ministries\", \"ORGANIZATION_TYPE_Services\", \"ORGANIZATION_TYPE_Telecom\", \"ORGANIZATION_TYPE_Trade: type 1\", \"ORGANIZATION_TYPE_Trade: type 2\", \"ORGANIZATION_TYPE_Trade: type 3\", \"ORGANIZATION_TYPE_Trade: type 4\", \"ORGANIZATION_TYPE_Trade: type 5\", \"ORGANIZATION_TYPE_Trade: type 6\", \"ORGANIZATION_TYPE_Trade: type 7\", \"ORGANIZATION_TYPE_Transport: type 1\", \"ORGANIZATION_TYPE_Transport: type 2\", \"ORGANIZATION_TYPE_Transport: type 4\", \"ORGANIZATION_TYPE_University\", \"ORGANIZATION_TYPE_XNA\", \"REGION_POPULATION_RELATIVE\", \"REGION_RATING_CLIENT\", \"REGION_RATING_CLIENT_W_CITY\", \"REG_CITY_NOT_LIVE_CITY\", \"REG_CITY_NOT_WORK_CITY\", \"REG_REGION_NOT_LIVE_REGION\", \"REG_REGION_NOT_WORK_REGION\", \"WEEKDAY_APPR_PROCESS_START_MONDAY\", \"WEEKDAY_APPR_PROCESS_START_SATURDAY\", \"WEEKDAY_APPR_PROCESS_START_SUNDAY\", \"WEEKDAY_APPR_PROCESS_START_THURSDAY\", \"YEAR_EMPLOYED\", \"NAME_CONTRACT_TYPE_Cash loans\", \"ORGANIZATION_TYPE_Bank\", \"ORGANIZATION_TYPE_Business Entity Type 3\", \"ORGANIZATION_TYPE_Restaurant\", \"AMT_CREDIT_LOG\", \"ORGANIZATION_TYPE_Housing\", \"ORGANIZATION_TYPE_Self-employed\", \"ORGANIZATION_TYPE_Construction\", \"OCCUPATION_TYPE_HR staff\", \"WEEKDAY_APPR_PROCESS_START_FRIDAY\", \"ORGANIZATION_TYPE_Business Entity Type 2\", \"AMT_INCOME_TOTAL_PER_MEMBER\", \"AMT_INCOME_TOTAL_POLY^3\", \"NAME_FAMILY_STATUS_Civil marriage\", \"WEEKDAY_APPR_PROCESS_START_WEDNESDAY\", \"NAME_TYPE_SUITE_Spouse, partner\", \"OCCUPATION_TYPE_Core staff\", \"NAME_EDUCATION_TYPE_Incomplete higher\", \"NAME_HOUSING_TYPE_Office apartment\", \"ORGANIZATION_TYPE_Electricity\", \"AMT_INCOME_TOTAL_POLY\", \"ORGANIZATION_TYPE_Industry: type 2\", \"OCCUPATION_TYPE_Security staff\", \"YEAR_REGISTRATION\", \"NAME_TYPE_SUITE_nan\", \"OCCUPATION_TYPE_Waiters/barmen staff\", \"WEEKDAY_APPR_PROCESS_START_TUESDAY\", \"NAME_CONTRACT_TYPE_Revolving loans\", \"OCCUPATION_TYPE_Sales staff\", \"OCCUPATION_TYPE_nan\", \"AMT_INCOME_TOTAL_LOG\", \"NAME_TYPE_SUITE_Group of people\", \"ORGANIZATION_TYPE_Cleaning\", \"OCCUPATION_TYPE_Drivers\", \"NAME_TYPE_SUITE_Children\", \"ORGANIZATION_TYPE_Kindergarten\", \"AMT_INCOME_TOTAL_POLY^2\", \"ORGANIZATION_TYPE_Legal Services\", \"AMT_ANNUITY_LOG\", \"NAME_INCOME_TYPE_Working\", \"ORGANIZATION_TYPE_Transport: type 3\", \"NAME_HOUSING_TYPE_Rented apartment\", \"FLAG_DOCUMENT_3\", \"OBS_30_CNT_SOCIAL_CIRCLE\", \"FLAG_OWN_REALTY_N\", \"YEARS_BEGINEXPLUATATION_AVG\", \"FLAG_PHONE\", \"NAME_EDUCATION_TYPE_Higher education\", \"OCCUPATION_TYPE_Cooking staff\", \"OCCUPATION_TYPE_Laborers\", \"OBS_60_CNT_SOCIAL_CIRCLE\", \"NAME_TYPE_SUITE_Family\", \"AMT_CREDIT\", \"FLAG_OWN_CAR_Y\", \"NAME_EDUCATION_TYPE_Secondary / secondary special\", \"NAME_HOUSING_TYPE_With parents\", \"NAME_FAMILY_STATUS_Married\", \"AMT_REQ_CREDIT_BUREAU_YEAR\", \"ORGANIZATION_TYPE_Industry: type 13\", \"CODE_GENDER_F\", \"AMT_CREDIT_POLY AMT_INCOME_TOTAL_POLY\", \"YEARS_BEGINEXPLUATATION_MODE\", \"AMT_INCOME_TOTAL\", \"AMT_CREDIT_POLY\", \"AMT_GOODS_PRICE\", \"DAYS_BIRTH\", \"AMT_ANNUITY\", \"HOUR_APPR_PROCESS_START\", \"CODE_GENDER_M\", \"OCCUPATION_TYPE_Low-skill Laborers\", \"AMT_CREDIT_POLY^3\", \"DAYS_LAST_PHONE_CHANGE\", \"AMT_CREDIT_POLY AMT_INCOME_TOTAL_POLY^2\", \"CREDIT_PER_MEMBER\", \"AMT_CREDIT_PER_AGE\", \"AMT_CREDIT_POLY^2\", \"AMT_INCOME_TOTAL_PER_AGE\", \"DAYS_REGISTRATION\", \"CREDIT_PER_INCOME\", \"YEARS_BEGINEXPLUATATION_MEDI\", \"AMT_CREDIT_PER_ANNUITY\", \"AMT_CREDIT_POLY^2 AMT_INCOME_TOTAL_POLY\", \"DAYS_EMPLOYED\", \"ANNUITY_PER_INCOME\", \"DAYS_ID_PUBLISH\", \"EXT_SOURCE_2\", \"EXT_SOURCE_3\"], \"type\": \"bar\", \"uid\": \"301d8e24-edeb-11e8-bfb1-605718f38acb\"}], {\"height\": 4000, \"margin\": {\"l\": 300}, \"title\": \"Import\\u00e2ncia das features\", \"width\": 900, \"yaxis\": {\"showgrid\": true}}, {\"showLink\": true, \"linkText\": \"Export to plot.ly\"})});</script>"
      ]
     },
     "metadata": {},
     "output_type": "display_data"
    }
   ],
   "source": [
    "draw_feature_importance(gb.feature_importances_, x_train.columns)"
   ]
  },
  {
   "cell_type": "markdown",
   "metadata": {},
   "source": [
    "### Passo 1\n",
    "\n",
    "Encontrar o valor ideal para **n_estimators**"
   ]
  },
  {
   "cell_type": "code",
   "execution_count": 59,
   "metadata": {},
   "outputs": [
    {
     "name": "stdout",
     "output_type": "stream",
     "text": [
      "Tempo de execução: 19.434 s\n",
      "Train Accuracy: 0.9237%\n",
      "Train Score Roc: 90.833%\n",
      "Train CV Score : Mean - 0.7184412 | Std - 0.01210847 | Min - 0.7064894 | Max - 0.7346434\n",
      "------------------------------------------------------------------------------------------------\n",
      "Test Accuracy: 0.919%\n",
      "Test Score Roc: 71.975%\n",
      "Test CV Score : Mean - 0.7060914 | Std - 0.03497484 | Min - 0.6561079 | Max - 0.7647783\n"
     ]
    },
    {
     "data": {
      "image/png": "[encoded data removed]",
      "text/plain": [
       "<Figure size 432x288 with 1 Axes>"
      ]
     },
     "metadata": {
      "needs_background": "light"
     },
     "output_type": "display_data"
    },
    {
     "data": {
      "text/plain": [
       "[mean: 0.68768, std: 0.00839, params: {'n_estimators': 10},\n",
       " mean: 0.70333, std: 0.01258, params: {'n_estimators': 20},\n",
       " mean: 0.70740, std: 0.01106, params: {'n_estimators': 30},\n",
       " mean: 0.71668, std: 0.01087, params: {'n_estimators': 40},\n",
       " mean: 0.71789, std: 0.01181, params: {'n_estimators': 50},\n",
       " mean: 0.71792, std: 0.01264, params: {'n_estimators': 60},\n",
       " mean: 0.71656, std: 0.01174, params: {'n_estimators': 70},\n",
       " mean: 0.71995, std: 0.01038, params: {'n_estimators': 80},\n",
       " mean: 0.72076, std: 0.01042, params: {'n_estimators': 90}]"
      ]
     },
     "metadata": {},
     "output_type": "display_data"
    },
    {
     "data": {
      "text/plain": [
       "{'n_estimators': 90}"
      ]
     },
     "metadata": {},
     "output_type": "display_data"
    },
    {
     "data": {
      "text/plain": [
       "0.7207633871486057"
      ]
     },
     "metadata": {},
     "output_type": "display_data"
    }
   ],
   "source": [
    "t0 = time()\n",
    "param1 = {'n_estimators': np.arange(10, 100, 10)} \n",
    "grid1 = GridSearchCV(estimator = GradientBoostingClassifier(learning_rate=0.1, \n",
    "                                                            min_samples_split=100,\n",
    "                                                            min_samples_leaf=50,\n",
    "                                                            max_depth=5,\n",
    "                                                            max_features='sqrt',\n",
    "                                                            subsample=0.8,\n",
    "                                                            random_state=10), \n",
    "param_grid = param1, scoring='roc_auc', n_jobs=4, iid=False, cv=5)\n",
    "grid1.fit(x_train, y_train)\n",
    "print(\"Tempo de execução:\", round(time()-t0, 3), \"s\")\n",
    "draw_roc_score(grid1, x_train, y_train, x_test, y_test)\n",
    "display(grid1.grid_scores_, grid1.best_params_, grid1.best_score_)"
   ]
  },
  {
   "cell_type": "markdown",
   "metadata": {},
   "source": [
    "Valor ideal para n_estimators é 90."
   ]
  },
  {
   "cell_type": "markdown",
   "metadata": {},
   "source": [
    "### Passo 2\n",
    "\n",
    "Encontrar os valores ideais para **max_depth** e **min_samples_split**"
   ]
  },
  {
   "cell_type": "code",
   "execution_count": 14,
   "metadata": {},
   "outputs": [
    {
     "name": "stdout",
     "output_type": "stream",
     "text": [
      "Tempo de execução: 221.212 s\n",
      "Train Accuracy: 0.9202%\n",
      "Train Score Roc: 81.542%\n",
      "Train CV Score : Mean - 0.7263148 | Std - 0.01228269 | Min - 0.7122108 | Max - 0.7467664\n",
      "------------------------------------------------------------------------------------------------\n",
      "Test Accuracy: 0.9183333333333333%\n",
      "Test Score Roc: 73.084%\n",
      "Test CV Score : Mean - 0.7137096 | Std - 0.03478614 | Min - 0.6695605 | Max - 0.760093\n"
     ]
    },
    {
     "data": {
      "image/png": "[encoded data removed]",
      "text/plain": [
       "<Figure size 432x288 with 1 Axes>"
      ]
     },
     "metadata": {
      "needs_background": "light"
     },
     "output_type": "display_data"
    },
    {
     "data": {
      "text/plain": [
       "[mean: 0.72336, std: 0.01489, params: {'max_depth': 2, 'min_samples_split': 100},\n",
       " mean: 0.72146, std: 0.01557, params: {'max_depth': 2, 'min_samples_split': 200},\n",
       " mean: 0.72218, std: 0.01550, params: {'max_depth': 2, 'min_samples_split': 300},\n",
       " mean: 0.72122, std: 0.01625, params: {'max_depth': 2, 'min_samples_split': 400},\n",
       " mean: 0.72170, std: 0.01654, params: {'max_depth': 2, 'min_samples_split': 500},\n",
       " mean: 0.72162, std: 0.01654, params: {'max_depth': 2, 'min_samples_split': 600},\n",
       " mean: 0.72101, std: 0.01544, params: {'max_depth': 2, 'min_samples_split': 700},\n",
       " mean: 0.72004, std: 0.01535, params: {'max_depth': 2, 'min_samples_split': 800},\n",
       " mean: 0.72164, std: 0.01591, params: {'max_depth': 2, 'min_samples_split': 900},\n",
       " mean: 0.72056, std: 0.01455, params: {'max_depth': 2, 'min_samples_split': 1000},\n",
       " mean: 0.72139, std: 0.01503, params: {'max_depth': 2, 'min_samples_split': 1100},\n",
       " mean: 0.72014, std: 0.01399, params: {'max_depth': 2, 'min_samples_split': 1200},\n",
       " mean: 0.72698, std: 0.01135, params: {'max_depth': 3, 'min_samples_split': 100},\n",
       " mean: 0.72879, std: 0.00968, params: {'max_depth': 3, 'min_samples_split': 200},\n",
       " mean: 0.72614, std: 0.01048, params: {'max_depth': 3, 'min_samples_split': 300},\n",
       " mean: 0.72504, std: 0.01046, params: {'max_depth': 3, 'min_samples_split': 400},\n",
       " mean: 0.72771, std: 0.01002, params: {'max_depth': 3, 'min_samples_split': 500},\n",
       " mean: 0.72951, std: 0.00968, params: {'max_depth': 3, 'min_samples_split': 600},\n",
       " mean: 0.72870, std: 0.01290, params: {'max_depth': 3, 'min_samples_split': 700},\n",
       " mean: 0.72797, std: 0.01104, params: {'max_depth': 3, 'min_samples_split': 800},\n",
       " mean: 0.73009, std: 0.00986, params: {'max_depth': 3, 'min_samples_split': 900},\n",
       " mean: 0.72526, std: 0.01473, params: {'max_depth': 3, 'min_samples_split': 1000},\n",
       " mean: 0.72604, std: 0.01015, params: {'max_depth': 3, 'min_samples_split': 1100},\n",
       " mean: 0.72641, std: 0.01003, params: {'max_depth': 3, 'min_samples_split': 1200},\n",
       " mean: 0.71562, std: 0.01592, params: {'max_depth': 4, 'min_samples_split': 100},\n",
       " mean: 0.72067, std: 0.01431, params: {'max_depth': 4, 'min_samples_split': 200},\n",
       " mean: 0.71726, std: 0.01528, params: {'max_depth': 4, 'min_samples_split': 300},\n",
       " mean: 0.71972, std: 0.01439, params: {'max_depth': 4, 'min_samples_split': 400},\n",
       " mean: 0.72312, std: 0.01078, params: {'max_depth': 4, 'min_samples_split': 500},\n",
       " mean: 0.71999, std: 0.01295, params: {'max_depth': 4, 'min_samples_split': 600},\n",
       " mean: 0.72262, std: 0.01021, params: {'max_depth': 4, 'min_samples_split': 700},\n",
       " mean: 0.72275, std: 0.01214, params: {'max_depth': 4, 'min_samples_split': 800},\n",
       " mean: 0.72042, std: 0.01243, params: {'max_depth': 4, 'min_samples_split': 900},\n",
       " mean: 0.72157, std: 0.01310, params: {'max_depth': 4, 'min_samples_split': 1000},\n",
       " mean: 0.71977, std: 0.01499, params: {'max_depth': 4, 'min_samples_split': 1100},\n",
       " mean: 0.72089, std: 0.01576, params: {'max_depth': 4, 'min_samples_split': 1200},\n",
       " mean: 0.71181, std: 0.01492, params: {'max_depth': 5, 'min_samples_split': 100},\n",
       " mean: 0.71773, std: 0.01703, params: {'max_depth': 5, 'min_samples_split': 200},\n",
       " mean: 0.71710, std: 0.01347, params: {'max_depth': 5, 'min_samples_split': 300},\n",
       " mean: 0.71927, std: 0.01584, params: {'max_depth': 5, 'min_samples_split': 400},\n",
       " mean: 0.71967, std: 0.01327, params: {'max_depth': 5, 'min_samples_split': 500},\n",
       " mean: 0.71780, std: 0.01422, params: {'max_depth': 5, 'min_samples_split': 600},\n",
       " mean: 0.72351, std: 0.00998, params: {'max_depth': 5, 'min_samples_split': 700},\n",
       " mean: 0.72476, std: 0.01310, params: {'max_depth': 5, 'min_samples_split': 800},\n",
       " mean: 0.72115, std: 0.01205, params: {'max_depth': 5, 'min_samples_split': 900},\n",
       " mean: 0.72251, std: 0.01695, params: {'max_depth': 5, 'min_samples_split': 1000},\n",
       " mean: 0.72339, std: 0.00967, params: {'max_depth': 5, 'min_samples_split': 1100},\n",
       " mean: 0.72375, std: 0.01386, params: {'max_depth': 5, 'min_samples_split': 1200},\n",
       " mean: 0.71882, std: 0.01213, params: {'max_depth': 6, 'min_samples_split': 100},\n",
       " mean: 0.71656, std: 0.01053, params: {'max_depth': 6, 'min_samples_split': 200},\n",
       " mean: 0.71994, std: 0.01064, params: {'max_depth': 6, 'min_samples_split': 300},\n",
       " mean: 0.71759, std: 0.01311, params: {'max_depth': 6, 'min_samples_split': 400},\n",
       " mean: 0.71555, std: 0.01320, params: {'max_depth': 6, 'min_samples_split': 500},\n",
       " mean: 0.72053, std: 0.00953, params: {'max_depth': 6, 'min_samples_split': 600},\n",
       " mean: 0.71856, std: 0.01194, params: {'max_depth': 6, 'min_samples_split': 700},\n",
       " mean: 0.72448, std: 0.01402, params: {'max_depth': 6, 'min_samples_split': 800},\n",
       " mean: 0.72053, std: 0.01241, params: {'max_depth': 6, 'min_samples_split': 900},\n",
       " mean: 0.72039, std: 0.01065, params: {'max_depth': 6, 'min_samples_split': 1000},\n",
       " mean: 0.72357, std: 0.01340, params: {'max_depth': 6, 'min_samples_split': 1100},\n",
       " mean: 0.72189, std: 0.01381, params: {'max_depth': 6, 'min_samples_split': 1200},\n",
       " mean: 0.70815, std: 0.01378, params: {'max_depth': 7, 'min_samples_split': 100},\n",
       " mean: 0.70679, std: 0.01382, params: {'max_depth': 7, 'min_samples_split': 200},\n",
       " mean: 0.71164, std: 0.01116, params: {'max_depth': 7, 'min_samples_split': 300},\n",
       " mean: 0.72000, std: 0.00716, params: {'max_depth': 7, 'min_samples_split': 400},\n",
       " mean: 0.71181, std: 0.01788, params: {'max_depth': 7, 'min_samples_split': 500},\n",
       " mean: 0.71546, std: 0.01577, params: {'max_depth': 7, 'min_samples_split': 600},\n",
       " mean: 0.71844, std: 0.01326, params: {'max_depth': 7, 'min_samples_split': 700},\n",
       " mean: 0.71951, std: 0.00887, params: {'max_depth': 7, 'min_samples_split': 800},\n",
       " mean: 0.72137, std: 0.01300, params: {'max_depth': 7, 'min_samples_split': 900},\n",
       " mean: 0.71452, std: 0.01150, params: {'max_depth': 7, 'min_samples_split': 1000},\n",
       " mean: 0.72213, std: 0.00912, params: {'max_depth': 7, 'min_samples_split': 1100},\n",
       " mean: 0.72138, std: 0.01801, params: {'max_depth': 7, 'min_samples_split': 1200},\n",
       " mean: 0.71086, std: 0.00798, params: {'max_depth': 8, 'min_samples_split': 100},\n",
       " mean: 0.70267, std: 0.01157, params: {'max_depth': 8, 'min_samples_split': 200},\n",
       " mean: 0.71007, std: 0.00946, params: {'max_depth': 8, 'min_samples_split': 300},\n",
       " mean: 0.70823, std: 0.01153, params: {'max_depth': 8, 'min_samples_split': 400},\n",
       " mean: 0.72003, std: 0.01200, params: {'max_depth': 8, 'min_samples_split': 500},\n",
       " mean: 0.71262, std: 0.01253, params: {'max_depth': 8, 'min_samples_split': 600},\n",
       " mean: 0.71679, std: 0.01439, params: {'max_depth': 8, 'min_samples_split': 700},\n",
       " mean: 0.71603, std: 0.00642, params: {'max_depth': 8, 'min_samples_split': 800},\n",
       " mean: 0.71861, std: 0.00657, params: {'max_depth': 8, 'min_samples_split': 900},\n",
       " mean: 0.71906, std: 0.01276, params: {'max_depth': 8, 'min_samples_split': 1000},\n",
       " mean: 0.71583, std: 0.01188, params: {'max_depth': 8, 'min_samples_split': 1100},\n",
       " mean: 0.72214, std: 0.01513, params: {'max_depth': 8, 'min_samples_split': 1200},\n",
       " mean: 0.70467, std: 0.01278, params: {'max_depth': 9, 'min_samples_split': 100},\n",
       " mean: 0.70260, std: 0.01600, params: {'max_depth': 9, 'min_samples_split': 200},\n",
       " mean: 0.70721, std: 0.01486, params: {'max_depth': 9, 'min_samples_split': 300},\n",
       " mean: 0.70494, std: 0.00974, params: {'max_depth': 9, 'min_samples_split': 400},\n",
       " mean: 0.70965, std: 0.01026, params: {'max_depth': 9, 'min_samples_split': 500},\n",
       " mean: 0.71482, std: 0.01359, params: {'max_depth': 9, 'min_samples_split': 600},\n",
       " mean: 0.71392, std: 0.00879, params: {'max_depth': 9, 'min_samples_split': 700},\n",
       " mean: 0.71583, std: 0.00893, params: {'max_depth': 9, 'min_samples_split': 800},\n",
       " mean: 0.72161, std: 0.01410, params: {'max_depth': 9, 'min_samples_split': 900},\n",
       " mean: 0.71397, std: 0.01367, params: {'max_depth': 9, 'min_samples_split': 1000},\n",
       " mean: 0.71670, std: 0.01229, params: {'max_depth': 9, 'min_samples_split': 1100},\n",
       " mean: 0.72064, std: 0.01238, params: {'max_depth': 9, 'min_samples_split': 1200}]"
      ]
     },
     "metadata": {},
     "output_type": "display_data"
    },
    {
     "data": {
      "text/plain": [
       "{'max_depth': 3, 'min_samples_split': 900}"
      ]
     },
     "metadata": {},
     "output_type": "display_data"
    },
    {
     "data": {
      "text/plain": [
       "0.7300935717269401"
      ]
     },
     "metadata": {},
     "output_type": "display_data"
    }
   ],
   "source": [
    "t0 = time()\n",
    "param2 = {'max_depth': np.arange(2, 10, 1), 'min_samples_split': np.arange(100, 1201, 100)} \n",
    "grid2 = GridSearchCV(estimator = GradientBoostingClassifier(learning_rate = 0.1,\n",
    "                                                                n_estimators = 90,\n",
    "                                                                max_features = 'sqrt',\n",
    "                                                                subsample = 0.8,\n",
    "                                                                random_state = 10), \n",
    "param_grid = param2, scoring = 'roc_auc', n_jobs = 4, iid = False, cv = 5) \n",
    "grid2.fit(x_train, y_train) \n",
    "print(\"Tempo de execução:\", round(time()-t0, 3), \"s\")\n",
    "draw_roc_score(grid2, x_train, y_train, x_test, y_test)\n",
    "display(grid2.grid_scores_, grid2.best_params_, grid2.best_score_)"
   ]
  },
  {
   "cell_type": "markdown",
   "metadata": {},
   "source": [
    "Valores ideais para max_depth é 3 e min_samples_split é 900"
   ]
  },
  {
   "cell_type": "markdown",
   "metadata": {},
   "source": [
    "### Passo 3\n",
    "\n",
    "Encontrar o valor ideal para **min_samples_leaf**"
   ]
  },
  {
   "cell_type": "code",
   "execution_count": 15,
   "metadata": {},
   "outputs": [
    {
     "name": "stdout",
     "output_type": "stream",
     "text": [
      "Tempo de execução: 32.375 s\n",
      "Train Accuracy: 0.9194%\n",
      "Train Score Roc: 81.276%\n",
      "Train CV Score : Mean - 0.7281602 | Std - 0.01097851 | Min - 0.7155317 | Max - 0.747107\n",
      "------------------------------------------------------------------------------------------------\n",
      "Test Accuracy: 0.9178333333333333%\n",
      "Test Score Roc: 73.032%\n",
      "Test CV Score : Mean - 0.7089171 | Std - 0.02979526 | Min - 0.6691021 | Max - 0.7553891\n"
     ]
    },
    {
     "data": {
      "image/png": "[encoded data removed]",
      "text/plain": [
       "<Figure size 432x288 with 1 Axes>"
      ]
     },
     "metadata": {
      "needs_background": "light"
     },
     "output_type": "display_data"
    },
    {
     "data": {
      "text/plain": [
       "[mean: 0.72831, std: 0.00882, params: {'min_samples_leaf': 10},\n",
       " mean: 0.72870, std: 0.00944, params: {'min_samples_leaf': 15},\n",
       " mean: 0.72751, std: 0.01050, params: {'min_samples_leaf': 20},\n",
       " mean: 0.72735, std: 0.00974, params: {'min_samples_leaf': 25},\n",
       " mean: 0.72591, std: 0.00825, params: {'min_samples_leaf': 30},\n",
       " mean: 0.72957, std: 0.01081, params: {'min_samples_leaf': 35},\n",
       " mean: 0.72681, std: 0.01080, params: {'min_samples_leaf': 40},\n",
       " mean: 0.72928, std: 0.01053, params: {'min_samples_leaf': 45},\n",
       " mean: 0.72818, std: 0.01229, params: {'min_samples_leaf': 50},\n",
       " mean: 0.72750, std: 0.01381, params: {'min_samples_leaf': 55},\n",
       " mean: 0.72802, std: 0.01306, params: {'min_samples_leaf': 60},\n",
       " mean: 0.72842, std: 0.01288, params: {'min_samples_leaf': 65},\n",
       " mean: 0.72775, std: 0.01491, params: {'min_samples_leaf': 70},\n",
       " mean: 0.72829, std: 0.01260, params: {'min_samples_leaf': 75},\n",
       " mean: 0.72817, std: 0.01399, params: {'min_samples_leaf': 80},\n",
       " mean: 0.72839, std: 0.01357, params: {'min_samples_leaf': 85},\n",
       " mean: 0.72831, std: 0.01328, params: {'min_samples_leaf': 90},\n",
       " mean: 0.72717, std: 0.01217, params: {'min_samples_leaf': 95},\n",
       " mean: 0.72747, std: 0.01232, params: {'min_samples_leaf': 100}]"
      ]
     },
     "metadata": {},
     "output_type": "display_data"
    },
    {
     "data": {
      "text/plain": [
       "{'min_samples_leaf': 35}"
      ]
     },
     "metadata": {},
     "output_type": "display_data"
    },
    {
     "data": {
      "text/plain": [
       "0.7295729621436706"
      ]
     },
     "metadata": {},
     "output_type": "display_data"
    }
   ],
   "source": [
    "t0 = time()\n",
    "param3 = {'min_samples_leaf': np.arange(10,101, 5)} \n",
    "grid3 = GridSearchCV(estimator = GradientBoostingClassifier(learning_rate = 0.1,\n",
    "                                                                n_estimators = 90,\n",
    "                                                                max_depth=3,\n",
    "                                                                min_samples_split = 900,\n",
    "                                                                max_features = 'sqrt',\n",
    "                                                                subsample = 0.8,\n",
    "                                                                random_state = 10), \n",
    "param_grid = param3, scoring = 'roc_auc', n_jobs = 4, iid = False, cv = 5) \n",
    "grid3.fit(x_train, y_train) \n",
    "print(\"Tempo de execução:\", round(time()-t0, 3), \"s\")\n",
    "draw_roc_score(grid3, x_train, y_train, x_test, y_test)\n",
    "display(grid3.grid_scores_, grid3.best_params_, grid3.best_score_)"
   ]
  },
  {
   "cell_type": "markdown",
   "metadata": {},
   "source": [
    "O valor ideal para min_samples_leaf foi 35, mas como a pontuação reduziu, irei rodar outro teste com um número elevado de min_samples_split, só que agora verificando o valor ideal junto com min_samples_leaf."
   ]
  },
  {
   "cell_type": "markdown",
   "metadata": {},
   "source": [
    "### Passo 4\n",
    "\n",
    "Encontrar os valores ideais para **min_samples_leaf** e **min_samples_split**"
   ]
  },
  {
   "cell_type": "code",
   "execution_count": 6,
   "metadata": {},
   "outputs": [
    {
     "name": "stdout",
     "output_type": "stream",
     "text": [
      "Tempo de execução: 171.18 s\n",
      "Train Accuracy: 0.9194%\n",
      "Train Score Roc: 80.58%\n",
      "Train CV Score : Mean - 0.7257094 | Std - 0.01311425 | Min - 0.7125849 | Max - 0.7436972\n",
      "------------------------------------------------------------------------------------------------\n",
      "Test Accuracy: 0.9185%\n",
      "Test Score Roc: 73.421%\n",
      "Test CV Score : Mean - 0.7177262 | Std - 0.02977896 | Min - 0.6792804 | Max - 0.7624634\n"
     ]
    },
    {
     "data": {
      "image/png": "[encoded data removed]",
      "text/plain": [
       "<Figure size 432x288 with 1 Axes>"
      ]
     },
     "metadata": {
      "needs_background": "light"
     },
     "output_type": "display_data"
    },
    {
     "data": {
      "text/plain": [
       "[mean: 0.72926, std: 0.01137, params: {'min_samples_leaf': 10, 'min_samples_split': 1000},\n",
       " mean: 0.72977, std: 0.01007, params: {'min_samples_leaf': 10, 'min_samples_split': 1100},\n",
       " mean: 0.72964, std: 0.01034, params: {'min_samples_leaf': 10, 'min_samples_split': 1200},\n",
       " mean: 0.72897, std: 0.01168, params: {'min_samples_leaf': 10, 'min_samples_split': 1300},\n",
       " mean: 0.72762, std: 0.01250, params: {'min_samples_leaf': 10, 'min_samples_split': 1400},\n",
       " mean: 0.72941, std: 0.01251, params: {'min_samples_leaf': 10, 'min_samples_split': 1500},\n",
       " mean: 0.73122, std: 0.01234, params: {'min_samples_leaf': 10, 'min_samples_split': 1600},\n",
       " mean: 0.73171, std: 0.01492, params: {'min_samples_leaf': 10, 'min_samples_split': 1700},\n",
       " mean: 0.73013, std: 0.01372, params: {'min_samples_leaf': 10, 'min_samples_split': 1800},\n",
       " mean: 0.72937, std: 0.01215, params: {'min_samples_leaf': 10, 'min_samples_split': 1900},\n",
       " mean: 0.72922, std: 0.01327, params: {'min_samples_leaf': 10, 'min_samples_split': 2000},\n",
       " mean: 0.72914, std: 0.01306, params: {'min_samples_leaf': 10, 'min_samples_split': 2100},\n",
       " mean: 0.72589, std: 0.01238, params: {'min_samples_leaf': 10, 'min_samples_split': 2200},\n",
       " mean: 0.72750, std: 0.00995, params: {'min_samples_leaf': 20, 'min_samples_split': 1000},\n",
       " mean: 0.73098, std: 0.01026, params: {'min_samples_leaf': 20, 'min_samples_split': 1100},\n",
       " mean: 0.72855, std: 0.01275, params: {'min_samples_leaf': 20, 'min_samples_split': 1200},\n",
       " mean: 0.73068, std: 0.01173, params: {'min_samples_leaf': 20, 'min_samples_split': 1300},\n",
       " mean: 0.72850, std: 0.01406, params: {'min_samples_leaf': 20, 'min_samples_split': 1400},\n",
       " mean: 0.73074, std: 0.01212, params: {'min_samples_leaf': 20, 'min_samples_split': 1500},\n",
       " mean: 0.72959, std: 0.01404, params: {'min_samples_leaf': 20, 'min_samples_split': 1600},\n",
       " mean: 0.72926, std: 0.01400, params: {'min_samples_leaf': 20, 'min_samples_split': 1700},\n",
       " mean: 0.73057, std: 0.01488, params: {'min_samples_leaf': 20, 'min_samples_split': 1800},\n",
       " mean: 0.72943, std: 0.01106, params: {'min_samples_leaf': 20, 'min_samples_split': 1900},\n",
       " mean: 0.73063, std: 0.01315, params: {'min_samples_leaf': 20, 'min_samples_split': 2000},\n",
       " mean: 0.72908, std: 0.01068, params: {'min_samples_leaf': 20, 'min_samples_split': 2100},\n",
       " mean: 0.72687, std: 0.01048, params: {'min_samples_leaf': 20, 'min_samples_split': 2200},\n",
       " mean: 0.72664, std: 0.00938, params: {'min_samples_leaf': 30, 'min_samples_split': 1000},\n",
       " mean: 0.72864, std: 0.01026, params: {'min_samples_leaf': 30, 'min_samples_split': 1100},\n",
       " mean: 0.72642, std: 0.01211, params: {'min_samples_leaf': 30, 'min_samples_split': 1200},\n",
       " mean: 0.72931, std: 0.01055, params: {'min_samples_leaf': 30, 'min_samples_split': 1300},\n",
       " mean: 0.72831, std: 0.01286, params: {'min_samples_leaf': 30, 'min_samples_split': 1400},\n",
       " mean: 0.72965, std: 0.01257, params: {'min_samples_leaf': 30, 'min_samples_split': 1500},\n",
       " mean: 0.72874, std: 0.01488, params: {'min_samples_leaf': 30, 'min_samples_split': 1600},\n",
       " mean: 0.72894, std: 0.01518, params: {'min_samples_leaf': 30, 'min_samples_split': 1700},\n",
       " mean: 0.72844, std: 0.01369, params: {'min_samples_leaf': 30, 'min_samples_split': 1800},\n",
       " mean: 0.72879, std: 0.01270, params: {'min_samples_leaf': 30, 'min_samples_split': 1900},\n",
       " mean: 0.72915, std: 0.01250, params: {'min_samples_leaf': 30, 'min_samples_split': 2000},\n",
       " mean: 0.72688, std: 0.01146, params: {'min_samples_leaf': 30, 'min_samples_split': 2100},\n",
       " mean: 0.72554, std: 0.01332, params: {'min_samples_leaf': 30, 'min_samples_split': 2200},\n",
       " mean: 0.72837, std: 0.01157, params: {'min_samples_leaf': 40, 'min_samples_split': 1000},\n",
       " mean: 0.72861, std: 0.01142, params: {'min_samples_leaf': 40, 'min_samples_split': 1100},\n",
       " mean: 0.72904, std: 0.00925, params: {'min_samples_leaf': 40, 'min_samples_split': 1200},\n",
       " mean: 0.72799, std: 0.01200, params: {'min_samples_leaf': 40, 'min_samples_split': 1300},\n",
       " mean: 0.72869, std: 0.01142, params: {'min_samples_leaf': 40, 'min_samples_split': 1400},\n",
       " mean: 0.73076, std: 0.01227, params: {'min_samples_leaf': 40, 'min_samples_split': 1500},\n",
       " mean: 0.72769, std: 0.01454, params: {'min_samples_leaf': 40, 'min_samples_split': 1600},\n",
       " mean: 0.72986, std: 0.01422, params: {'min_samples_leaf': 40, 'min_samples_split': 1700},\n",
       " mean: 0.73083, std: 0.01329, params: {'min_samples_leaf': 40, 'min_samples_split': 1800},\n",
       " mean: 0.73048, std: 0.01339, params: {'min_samples_leaf': 40, 'min_samples_split': 1900},\n",
       " mean: 0.72786, std: 0.01204, params: {'min_samples_leaf': 40, 'min_samples_split': 2000},\n",
       " mean: 0.72778, std: 0.01106, params: {'min_samples_leaf': 40, 'min_samples_split': 2100},\n",
       " mean: 0.72641, std: 0.01237, params: {'min_samples_leaf': 40, 'min_samples_split': 2200},\n",
       " mean: 0.72826, std: 0.01265, params: {'min_samples_leaf': 50, 'min_samples_split': 1000},\n",
       " mean: 0.72954, std: 0.01128, params: {'min_samples_leaf': 50, 'min_samples_split': 1100},\n",
       " mean: 0.72805, std: 0.01388, params: {'min_samples_leaf': 50, 'min_samples_split': 1200},\n",
       " mean: 0.72880, std: 0.01365, params: {'min_samples_leaf': 50, 'min_samples_split': 1300},\n",
       " mean: 0.72955, std: 0.01482, params: {'min_samples_leaf': 50, 'min_samples_split': 1400},\n",
       " mean: 0.72937, std: 0.01373, params: {'min_samples_leaf': 50, 'min_samples_split': 1500},\n",
       " mean: 0.72746, std: 0.01427, params: {'min_samples_leaf': 50, 'min_samples_split': 1600},\n",
       " mean: 0.72923, std: 0.01466, params: {'min_samples_leaf': 50, 'min_samples_split': 1700},\n",
       " mean: 0.72969, std: 0.01522, params: {'min_samples_leaf': 50, 'min_samples_split': 1800},\n",
       " mean: 0.72781, std: 0.01449, params: {'min_samples_leaf': 50, 'min_samples_split': 1900},\n",
       " mean: 0.72815, std: 0.01306, params: {'min_samples_leaf': 50, 'min_samples_split': 2000},\n",
       " mean: 0.72595, std: 0.01267, params: {'min_samples_leaf': 50, 'min_samples_split': 2100},\n",
       " mean: 0.72626, std: 0.01369, params: {'min_samples_leaf': 50, 'min_samples_split': 2200},\n",
       " mean: 0.72906, std: 0.01377, params: {'min_samples_leaf': 60, 'min_samples_split': 1000},\n",
       " mean: 0.72895, std: 0.01078, params: {'min_samples_leaf': 60, 'min_samples_split': 1100},\n",
       " mean: 0.73161, std: 0.01185, params: {'min_samples_leaf': 60, 'min_samples_split': 1200},\n",
       " mean: 0.72996, std: 0.01286, params: {'min_samples_leaf': 60, 'min_samples_split': 1300},\n",
       " mean: 0.73089, std: 0.01245, params: {'min_samples_leaf': 60, 'min_samples_split': 1400},\n",
       " mean: 0.72837, std: 0.01423, params: {'min_samples_leaf': 60, 'min_samples_split': 1500},\n",
       " mean: 0.73068, std: 0.01363, params: {'min_samples_leaf': 60, 'min_samples_split': 1600},\n",
       " mean: 0.73060, std: 0.01433, params: {'min_samples_leaf': 60, 'min_samples_split': 1700},\n",
       " mean: 0.72929, std: 0.01560, params: {'min_samples_leaf': 60, 'min_samples_split': 1800},\n",
       " mean: 0.72833, std: 0.01312, params: {'min_samples_leaf': 60, 'min_samples_split': 1900},\n",
       " mean: 0.72828, std: 0.01254, params: {'min_samples_leaf': 60, 'min_samples_split': 2000},\n",
       " mean: 0.72716, std: 0.01381, params: {'min_samples_leaf': 60, 'min_samples_split': 2100},\n",
       " mean: 0.72672, std: 0.01367, params: {'min_samples_leaf': 60, 'min_samples_split': 2200},\n",
       " mean: 0.72793, std: 0.01477, params: {'min_samples_leaf': 70, 'min_samples_split': 1000},\n",
       " mean: 0.72875, std: 0.01271, params: {'min_samples_leaf': 70, 'min_samples_split': 1100},\n",
       " mean: 0.72960, std: 0.01441, params: {'min_samples_leaf': 70, 'min_samples_split': 1200},\n",
       " mean: 0.72971, std: 0.01398, params: {'min_samples_leaf': 70, 'min_samples_split': 1300},\n",
       " mean: 0.72968, std: 0.01406, params: {'min_samples_leaf': 70, 'min_samples_split': 1400},\n",
       " mean: 0.72835, std: 0.01450, params: {'min_samples_leaf': 70, 'min_samples_split': 1500},\n",
       " mean: 0.73020, std: 0.01534, params: {'min_samples_leaf': 70, 'min_samples_split': 1600},\n",
       " mean: 0.73019, std: 0.01413, params: {'min_samples_leaf': 70, 'min_samples_split': 1700},\n",
       " mean: 0.73121, std: 0.01433, params: {'min_samples_leaf': 70, 'min_samples_split': 1800},\n",
       " mean: 0.72847, std: 0.01315, params: {'min_samples_leaf': 70, 'min_samples_split': 1900},\n",
       " mean: 0.72901, std: 0.01255, params: {'min_samples_leaf': 70, 'min_samples_split': 2000},\n",
       " mean: 0.72725, std: 0.01332, params: {'min_samples_leaf': 70, 'min_samples_split': 2100},\n",
       " mean: 0.72549, std: 0.01379, params: {'min_samples_leaf': 70, 'min_samples_split': 2200},\n",
       " mean: 0.72684, std: 0.01376, params: {'min_samples_leaf': 80, 'min_samples_split': 1000},\n",
       " mean: 0.72890, std: 0.01131, params: {'min_samples_leaf': 80, 'min_samples_split': 1100},\n",
       " mean: 0.72714, std: 0.01494, params: {'min_samples_leaf': 80, 'min_samples_split': 1200},\n",
       " mean: 0.72823, std: 0.01412, params: {'min_samples_leaf': 80, 'min_samples_split': 1300},\n",
       " mean: 0.72692, std: 0.01418, params: {'min_samples_leaf': 80, 'min_samples_split': 1400},\n",
       " mean: 0.72801, std: 0.01591, params: {'min_samples_leaf': 80, 'min_samples_split': 1500},\n",
       " mean: 0.73056, std: 0.01371, params: {'min_samples_leaf': 80, 'min_samples_split': 1600},\n",
       " mean: 0.73006, std: 0.01443, params: {'min_samples_leaf': 80, 'min_samples_split': 1700},\n",
       " mean: 0.72950, std: 0.01330, params: {'min_samples_leaf': 80, 'min_samples_split': 1800},\n",
       " mean: 0.72836, std: 0.01244, params: {'min_samples_leaf': 80, 'min_samples_split': 1900},\n",
       " mean: 0.72846, std: 0.01310, params: {'min_samples_leaf': 80, 'min_samples_split': 2000},\n",
       " mean: 0.72660, std: 0.01309, params: {'min_samples_leaf': 80, 'min_samples_split': 2100},\n",
       " mean: 0.72466, std: 0.01472, params: {'min_samples_leaf': 80, 'min_samples_split': 2200},\n",
       " mean: 0.72729, std: 0.01574, params: {'min_samples_leaf': 90, 'min_samples_split': 1000},\n",
       " mean: 0.72959, std: 0.01179, params: {'min_samples_leaf': 90, 'min_samples_split': 1100},\n",
       " mean: 0.72784, std: 0.01398, params: {'min_samples_leaf': 90, 'min_samples_split': 1200},\n",
       " mean: 0.72703, std: 0.01442, params: {'min_samples_leaf': 90, 'min_samples_split': 1300},\n",
       " mean: 0.72664, std: 0.01538, params: {'min_samples_leaf': 90, 'min_samples_split': 1400},\n",
       " mean: 0.72925, std: 0.01648, params: {'min_samples_leaf': 90, 'min_samples_split': 1500},\n",
       " mean: 0.73087, std: 0.01426, params: {'min_samples_leaf': 90, 'min_samples_split': 1600},\n",
       " mean: 0.73045, std: 0.01483, params: {'min_samples_leaf': 90, 'min_samples_split': 1700},\n",
       " mean: 0.73081, std: 0.01392, params: {'min_samples_leaf': 90, 'min_samples_split': 1800},\n",
       " mean: 0.72968, std: 0.01401, params: {'min_samples_leaf': 90, 'min_samples_split': 1900},\n",
       " mean: 0.72814, std: 0.01338, params: {'min_samples_leaf': 90, 'min_samples_split': 2000},\n",
       " mean: 0.72670, std: 0.01254, params: {'min_samples_leaf': 90, 'min_samples_split': 2100},\n",
       " mean: 0.72510, std: 0.01366, params: {'min_samples_leaf': 90, 'min_samples_split': 2200},\n",
       " mean: 0.72822, std: 0.01489, params: {'min_samples_leaf': 100, 'min_samples_split': 1000},\n",
       " mean: 0.72711, std: 0.01245, params: {'min_samples_leaf': 100, 'min_samples_split': 1100},\n",
       " mean: 0.72635, std: 0.01550, params: {'min_samples_leaf': 100, 'min_samples_split': 1200},\n",
       " mean: 0.72838, std: 0.01349, params: {'min_samples_leaf': 100, 'min_samples_split': 1300},\n",
       " mean: 0.72856, std: 0.01479, params: {'min_samples_leaf': 100, 'min_samples_split': 1400},\n",
       " mean: 0.72916, std: 0.01534, params: {'min_samples_leaf': 100, 'min_samples_split': 1500},\n",
       " mean: 0.72994, std: 0.01698, params: {'min_samples_leaf': 100, 'min_samples_split': 1600},\n",
       " mean: 0.72958, std: 0.01520, params: {'min_samples_leaf': 100, 'min_samples_split': 1700},\n",
       " mean: 0.73100, std: 0.01614, params: {'min_samples_leaf': 100, 'min_samples_split': 1800},\n",
       " mean: 0.72888, std: 0.01349, params: {'min_samples_leaf': 100, 'min_samples_split': 1900},\n",
       " mean: 0.72841, std: 0.01386, params: {'min_samples_leaf': 100, 'min_samples_split': 2000},\n",
       " mean: 0.72735, std: 0.01247, params: {'min_samples_leaf': 100, 'min_samples_split': 2100},\n",
       " mean: 0.72630, std: 0.01354, params: {'min_samples_leaf': 100, 'min_samples_split': 2200}]"
      ]
     },
     "metadata": {},
     "output_type": "display_data"
    },
    {
     "data": {
      "text/plain": [
       "{'min_samples_leaf': 10, 'min_samples_split': 1700}"
      ]
     },
     "metadata": {},
     "output_type": "display_data"
    },
    {
     "data": {
      "text/plain": [
       "0.7317122629931205"
      ]
     },
     "metadata": {},
     "output_type": "display_data"
    }
   ],
   "source": [
    "t0 = time()\n",
    "param4 = {'min_samples_leaf': np.arange(10,101, 10), 'min_samples_split': np.arange(1000, 2201, 100)} \n",
    "grid4 = GridSearchCV(estimator = GradientBoostingClassifier(learning_rate = 0.1,\n",
    "                                                                n_estimators = 90,\n",
    "                                                                max_depth=3,\n",
    "                                                                max_features = 'sqrt',\n",
    "                                                                subsample = 0.8,\n",
    "                                                                random_state = 10), \n",
    "param_grid = param4, scoring = 'roc_auc', n_jobs = 4, iid = False, cv = 5) \n",
    "grid4.fit(x_train, y_train) \n",
    "print(\"Tempo de execução:\", round(time()-t0, 3), \"s\")\n",
    "draw_roc_score(grid4, x_train, y_train, x_test, y_test)\n",
    "display(grid4.grid_scores_, grid4.best_params_, grid4.best_score_)"
   ]
  },
  {
   "cell_type": "markdown",
   "metadata": {},
   "source": [
    "O score voltou a subir e o valor ideal para min_samples_leaf ficou 10 e min_samples_split com 1700"
   ]
  },
  {
   "cell_type": "markdown",
   "metadata": {},
   "source": [
    "### Passo 5\n",
    "\n",
    "Encontrar o valor ideaL para **max_features**"
   ]
  },
  {
   "cell_type": "code",
   "execution_count": 7,
   "metadata": {},
   "outputs": [
    {
     "name": "stdout",
     "output_type": "stream",
     "text": [
      "Tempo de execução: 54.345 s\n",
      "Train Accuracy: 0.9194%\n",
      "Train Score Roc: 80.567%\n",
      "Train CV Score : Mean - 0.7272665 | Std - 0.01277376 | Min - 0.7132762 | Max - 0.7492578\n",
      "------------------------------------------------------------------------------------------------\n",
      "Test Accuracy: 0.918%\n",
      "Test Score Roc: 74.005%\n",
      "Test CV Score : Mean - 0.7233044 | Std - 0.03284488 | Min - 0.6746029 | Max - 0.7600144\n"
     ]
    },
    {
     "data": {
      "image/png": "[encoded data removed]",
      "text/plain": [
       "<Figure size 432x288 with 1 Axes>"
      ]
     },
     "metadata": {
      "needs_background": "light"
     },
     "output_type": "display_data"
    },
    {
     "data": {
      "text/plain": [
       "[mean: 0.67519, std: 0.00528, params: {'max_features': 1},\n",
       " mean: 0.68995, std: 0.00690, params: {'max_features': 2},\n",
       " mean: 0.69069, std: 0.00811, params: {'max_features': 3},\n",
       " mean: 0.70191, std: 0.01388, params: {'max_features': 4},\n",
       " mean: 0.70131, std: 0.01450, params: {'max_features': 5},\n",
       " mean: 0.70787, std: 0.00846, params: {'max_features': 6},\n",
       " mean: 0.71294, std: 0.01542, params: {'max_features': 7},\n",
       " mean: 0.71862, std: 0.01014, params: {'max_features': 8},\n",
       " mean: 0.71660, std: 0.01129, params: {'max_features': 9},\n",
       " mean: 0.72084, std: 0.01110, params: {'max_features': 10},\n",
       " mean: 0.71493, std: 0.01232, params: {'max_features': 11},\n",
       " mean: 0.71993, std: 0.01045, params: {'max_features': 12},\n",
       " mean: 0.72075, std: 0.00988, params: {'max_features': 13},\n",
       " mean: 0.71874, std: 0.01173, params: {'max_features': 14},\n",
       " mean: 0.72607, std: 0.01277, params: {'max_features': 15},\n",
       " mean: 0.73171, std: 0.01492, params: {'max_features': 16},\n",
       " mean: 0.72787, std: 0.01389, params: {'max_features': 17},\n",
       " mean: 0.72932, std: 0.01084, params: {'max_features': 18},\n",
       " mean: 0.73112, std: 0.00969, params: {'max_features': 19},\n",
       " mean: 0.72601, std: 0.00997, params: {'max_features': 20},\n",
       " mean: 0.72965, std: 0.01482, params: {'max_features': 21},\n",
       " mean: 0.72757, std: 0.01355, params: {'max_features': 22},\n",
       " mean: 0.72695, std: 0.01107, params: {'max_features': 23},\n",
       " mean: 0.73225, std: 0.01050, params: {'max_features': 24},\n",
       " mean: 0.72518, std: 0.01092, params: {'max_features': 25},\n",
       " mean: 0.72671, std: 0.01176, params: {'max_features': 26},\n",
       " mean: 0.72680, std: 0.01281, params: {'max_features': 27},\n",
       " mean: 0.72911, std: 0.00998, params: {'max_features': 28},\n",
       " mean: 0.73053, std: 0.01465, params: {'max_features': 29}]"
      ]
     },
     "metadata": {},
     "output_type": "display_data"
    },
    {
     "data": {
      "text/plain": [
       "{'max_features': 24}"
      ]
     },
     "metadata": {},
     "output_type": "display_data"
    },
    {
     "data": {
      "text/plain": [
       "0.7322463965050072"
      ]
     },
     "metadata": {},
     "output_type": "display_data"
    }
   ],
   "source": [
    "t0 = time()\n",
    "param5 = {'max_features': np.arange(1, 30, 1)} \n",
    "grid5 = GridSearchCV(estimator = GradientBoostingClassifier(learning_rate = 0.1,\n",
    "                                                                n_estimators = 90,\n",
    "                                                                max_depth=3,\n",
    "                                                                max_features = 'sqrt',\n",
    "                                                                subsample = 0.8,\n",
    "                                                                min_samples_leaf= 10,\n",
    "                                                                min_samples_split = 1700,\n",
    "                                                                random_state = 10), \n",
    "param_grid = param5, scoring = 'roc_auc', n_jobs = 4, iid = False, cv = 5) \n",
    "grid5.fit(x_train, y_train) \n",
    "print(\"Tempo de execução:\", round(time()-t0, 3), \"s\")\n",
    "draw_roc_score(grid5, x_train, y_train, x_test, y_test)\n",
    "display(grid5.grid_scores_, grid5.best_params_, grid5.best_score_)"
   ]
  },
  {
   "cell_type": "markdown",
   "metadata": {},
   "source": [
    "O valor ideal para max_features é 24"
   ]
  },
  {
   "cell_type": "markdown",
   "metadata": {},
   "source": [
    "### Passo 6\n",
    "\n",
    "Encontrar o valor ideal para **learning_rate**"
   ]
  },
  {
   "cell_type": "code",
   "execution_count": 8,
   "metadata": {},
   "outputs": [
    {
     "name": "stdout",
     "output_type": "stream",
     "text": [
      "Tempo de execução: 13.232 s\n",
      "Train Accuracy: 0.9197%\n",
      "Train Score Roc: 80.105%\n",
      "Train CV Score : Mean - 0.7298058 | Std - 0.01249685 | Min - 0.7179584 | Max - 0.7480388\n",
      "------------------------------------------------------------------------------------------------\n",
      "Test Accuracy: 0.9183333333333333%\n",
      "Test Score Roc: 73.892%\n",
      "Test CV Score : Mean - 0.7218239 | Std - 0.03328006 | Min - 0.6703837 | Max - 0.7578682\n"
     ]
    },
    {
     "data": {
      "image/png": "[encoded data removed]",
      "text/plain": [
       "<Figure size 432x288 with 1 Axes>"
      ]
     },
     "metadata": {
      "needs_background": "light"
     },
     "output_type": "display_data"
    },
    {
     "data": {
      "text/plain": [
       "[mean: 0.65948, std: 0.01181, params: {'learning_rate': 1},\n",
       " mean: 0.70330, std: 0.01894, params: {'learning_rate': 0.5},\n",
       " mean: 0.71970, std: 0.01719, params: {'learning_rate': 0.25},\n",
       " mean: 0.72981, std: 0.01250, params: {'learning_rate': 0.1},\n",
       " mean: 0.72641, std: 0.01263, params: {'learning_rate': 0.05},\n",
       " mean: 0.70386, std: 0.01499, params: {'learning_rate': 0.01}]"
      ]
     },
     "metadata": {},
     "output_type": "display_data"
    },
    {
     "data": {
      "text/plain": [
       "{'learning_rate': 0.1}"
      ]
     },
     "metadata": {},
     "output_type": "display_data"
    },
    {
     "data": {
      "text/plain": [
       "0.7298057627523985"
      ]
     },
     "metadata": {},
     "output_type": "display_data"
    }
   ],
   "source": [
    "t0 = time()\n",
    "param6 = {'learning_rate':[1, 0.5, 0.25, 0.1, 0.05, 0.01]} \n",
    "grid6 = GridSearchCV(estimator = GradientBoostingClassifier(n_estimators = 90,\n",
    "                                                            max_depth=3,\n",
    "                                                            max_features = 24,\n",
    "                                                            subsample = 0.8,\n",
    "                                                            min_samples_leaf= 65,\n",
    "                                                            min_samples_split = 1800,\n",
    "                                                            random_state = 10), \n",
    "param_grid = param6, scoring = 'roc_auc', n_jobs = 4, iid = False, cv = 5) \n",
    "grid6.fit(x_train, y_train) \n",
    "\n",
    "print(\"Tempo de execução:\", round(time()-t0, 3), \"s\")\n",
    "draw_roc_score(grid6, x_train, y_train, x_test, y_test)\n",
    "display(grid6.grid_scores_, grid6.best_params_, grid6.best_score_)"
   ]
  },
  {
   "cell_type": "markdown",
   "metadata": {},
   "source": [
    "O valor ideal para learning_rate é 0.1"
   ]
  },
  {
   "cell_type": "markdown",
   "metadata": {},
   "source": [
    "### Passo 7\n",
    "\n",
    "Encontrar o valor ideal para **subsample**"
   ]
  },
  {
   "cell_type": "code",
   "execution_count": 9,
   "metadata": {},
   "outputs": [
    {
     "name": "stdout",
     "output_type": "stream",
     "text": [
      "Tempo de execução: 15.368 s\n",
      "Train Accuracy: 0.9196%\n",
      "Train Score Roc: 80.705%\n",
      "Train CV Score : Mean - 0.7284231 | Std - 0.0139116 | Min - 0.7119604 | Max - 0.7480388\n",
      "------------------------------------------------------------------------------------------------\n",
      "Test Accuracy: 0.918%\n",
      "Test Score Roc: 73.712%\n",
      "Test CV Score : Mean - 0.7195364 | Std - 0.02954495 | Min - 0.6735364 | Max - 0.7577225\n"
     ]
    },
    {
     "data": {
      "image/png": "[encoded data removed]",
      "text/plain": [
       "<Figure size 432x288 with 1 Axes>"
      ]
     },
     "metadata": {
      "needs_background": "light"
     },
     "output_type": "display_data"
    },
    {
     "data": {
      "text/plain": [
       "[mean: 0.50000, std: 0.00000, params: {'subsample': 0.1},\n",
       " mean: 0.50000, std: 0.00000, params: {'subsample': 0.2},\n",
       " mean: 0.72558, std: 0.01630, params: {'subsample': 0.30000000000000004},\n",
       " mean: 0.72811, std: 0.01605, params: {'subsample': 0.4},\n",
       " mean: 0.73050, std: 0.01713, params: {'subsample': 0.5},\n",
       " mean: 0.73042, std: 0.01220, params: {'subsample': 0.6},\n",
       " mean: 0.72915, std: 0.01467, params: {'subsample': 0.7000000000000001},\n",
       " mean: 0.72981, std: 0.01250, params: {'subsample': 0.8},\n",
       " mean: 0.73121, std: 0.01269, params: {'subsample': 0.9}]"
      ]
     },
     "metadata": {},
     "output_type": "display_data"
    },
    {
     "data": {
      "text/plain": [
       "{'subsample': 0.9}"
      ]
     },
     "metadata": {},
     "output_type": "display_data"
    },
    {
     "data": {
      "text/plain": [
       "0.7312113052217616"
      ]
     },
     "metadata": {},
     "output_type": "display_data"
    }
   ],
   "source": [
    "t0 = time()\n",
    "param7 = {'subsample': np.arange(0.1, 1, 0.1)} \n",
    "grid7 = GridSearchCV(estimator = GradientBoostingClassifier(learning_rate = 0.1,\n",
    "                                                            n_estimators = 90,\n",
    "                                                            max_depth=3,\n",
    "                                                            max_features = 24,\n",
    "                                                            subsample = 0.8,\n",
    "                                                            min_samples_leaf= 65,\n",
    "                                                            min_samples_split = 1800,\n",
    "                                                            random_state = 10), \n",
    "param_grid = param7, scoring = 'roc_auc', n_jobs = 4, iid = False, cv = 5) \n",
    "grid7.fit(x_train, y_train) \n",
    "\n",
    "print(\"Tempo de execução:\", round(time()-t0, 3), \"s\")\n",
    "draw_roc_score(grid7, x_train, y_train, x_test, y_test)\n",
    "display(grid7.grid_scores_, grid7.best_params_, grid7.best_score_)"
   ]
  },
  {
   "cell_type": "markdown",
   "metadata": {},
   "source": [
    "O valor ideal para subsample é 0.9."
   ]
  },
  {
   "cell_type": "markdown",
   "metadata": {},
   "source": [
    "### Visualizando Score Roc do estimador final"
   ]
  },
  {
   "cell_type": "code",
   "execution_count": 19,
   "metadata": {},
   "outputs": [
    {
     "data": {
      "image/png": "[encoded data removed]",
      "text/plain": [
       "<Figure size 432x288 with 1 Axes>"
      ]
     },
     "metadata": {
      "needs_background": "light"
     },
     "output_type": "display_data"
    },
    {
     "name": "stdout",
     "output_type": "stream",
     "text": [
      "Score Roc: 74.0%\n"
     ]
    }
   ],
   "source": [
    "from sklearn.metrics import roc_curve\n",
    "from sklearn.metrics import roc_auc_score\n",
    "\n",
    "clf_candidate1 = grid7.best_estimator_\n",
    "\n",
    "y_probas = clf_candidate1.predict_proba(x_test)\n",
    "y_scores = y_probas[:, 1] \n",
    "\n",
    "fpr1, tpr1, thresholds = roc_curve(y_test, y_scores)\n",
    "\n",
    "plt.plot(fpr1, tpr1, linewidth=1.5, label=None)\n",
    "plt.plot([0, 1], [0, 1], 'k--')\n",
    "plt.axis([0, 1, 0, 1])\n",
    "plt.xlabel('Taxa de Falso Positivo')\n",
    "plt.ylabel('Taxa de Verdadeiro Positivo')\n",
    "plt.show()\n",
    "\n",
    "print(\"Score Roc: {}%\".format(np.round(roc_auc_score(y_test, y_scores)*100), 2))"
   ]
  },
  {
   "cell_type": "markdown",
   "metadata": {},
   "source": [
    "## Análise Final do tunning\n",
    "\n",
    "Como podemos perceber, encontrei o maior **Score Roc** nos dados de teste(74%) no passo 5 e no melhor estimador gerado no passo 7. \n",
    "Logo abaixo segue a configuração do estimador 5 e 7 nessa ordem:"
   ]
  },
  {
   "cell_type": "code",
   "execution_count": 20,
   "metadata": {},
   "outputs": [
    {
     "data": {
      "text/plain": [
       "GradientBoostingClassifier(criterion='friedman_mse', init=None,\n",
       "              learning_rate=0.1, loss='deviance', max_depth=3,\n",
       "              max_features=24, max_leaf_nodes=None,\n",
       "              min_impurity_decrease=0.0, min_impurity_split=None,\n",
       "              min_samples_leaf=65, min_samples_split=1800,\n",
       "              min_weight_fraction_leaf=0.0, n_estimators=90,\n",
       "              presort='auto', random_state=10, subsample=0.9, verbose=0,\n",
       "              warm_start=False)"
      ]
     },
     "metadata": {},
     "output_type": "display_data"
    },
    {
     "data": {
      "text/plain": [
       "GradientBoostingClassifier(criterion='friedman_mse', init=None,\n",
       "              learning_rate=0.1, loss='deviance', max_depth=3,\n",
       "              max_features=24, max_leaf_nodes=None,\n",
       "              min_impurity_decrease=0.0, min_impurity_split=None,\n",
       "              min_samples_leaf=10, min_samples_split=1700,\n",
       "              min_weight_fraction_leaf=0.0, n_estimators=90,\n",
       "              presort='auto', random_state=10, subsample=0.8, verbose=0,\n",
       "              warm_start=False)"
      ]
     },
     "metadata": {},
     "output_type": "display_data"
    }
   ],
   "source": [
    "clf_candidate2 = grid5.best_estimator_\n",
    "display(clf_candidate1)\n",
    "display(clf_candidate2)"
   ]
  },
  {
   "cell_type": "markdown",
   "metadata": {},
   "source": [
    "O primeiro ponto a ser notado é as diferenças nos hiperparâmetros min_samples_leaf, min_samples_split e subsample, onde, para o min_samples_leaf e min_samples_split, o ideal é que se escolham os valores baixos para controlar o over-fitting, já para subsample, o ideal é que o valor seja menor que 1 com a finalidade de reduzir a variação. O segundo ponto é a diferença entre o score roc de treino e teste, onde a menor diferença representa que o modelo esteja generalizando para dados não vistos. Levando em consideração os pontos citados anteriormente, o modelo encontrado no **passo 5** representa os melhores ajustes, dessa forma irei ficar com ele."
   ]
  },
  {
   "cell_type": "code",
   "execution_count": null,
   "metadata": {},
   "outputs": [],
   "source": []
  }
 ],
 "metadata": {
  "kernelspec": {
   "display_name": "Python 3",
   "language": "python",
   "name": "python3"
  },
  "language_info": {
   "codemirror_mode": {
    "name": "ipython",
    "version": 3
   },
   "file_extension": ".py",
   "mimetype": "text/x-python",
   "name": "python",
   "nbconvert_exporter": "python",
   "pygments_lexer": "ipython3",
   "version": "3.6.6"
  }
 },
 "nbformat": 4,
 "nbformat_minor": 2
}
